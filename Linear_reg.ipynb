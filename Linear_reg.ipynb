{
 "cells": [
  {
   "cell_type": "code",
   "execution_count": 17,
   "metadata": {},
   "outputs": [],
   "source": [
    "import pandas as pd\n",
    "import numpy as np\n",
    "import seaborn as sns\n",
    "import matplotlib.pyplot as plt\n",
    "import operator\n",
    "import math\n",
    "from sklearn.model_selection import train_test_split\n",
    "from sklearn.linear_model import LinearRegression\n",
    "%matplotlib inline"
   ]
  },
  {
   "cell_type": "code",
   "execution_count": 18,
   "metadata": {},
   "outputs": [],
   "source": [
    "#df = pd.read_csv(\"/home/hp/Desktop/College/Sem5/DA/Project/zomato-bangalore-restaurants/zomato.csv\")\n",
    "mylist = []\n",
    "\n",
    "for chunk in  pd.read_csv(\"C:/Users/sparsha/Documents/SEM 5/DA Project/zomato/newzomato.csv\", sep=',', chunksize=20000):\n",
    "    mylist.append(chunk)\n",
    "\n",
    "big_data = pd.concat(mylist, axis= 0)\n",
    "df = big_data\n",
    "\n",
    "del mylist"
   ]
  },
  {
   "cell_type": "markdown",
   "metadata": {},
   "source": [
    "Linear regression model with NA values filled with median"
   ]
  },
  {
   "cell_type": "code",
   "execution_count": 19,
   "metadata": {},
   "outputs": [],
   "source": [
    "transformed_df = df.copy()\n",
    "transformed_df['rate'].fillna((transformed_df['rate'].median()), inplace=True)\n",
    "transformed_df['approx_cost(for two people)'].fillna((transformed_df['approx_cost(for two people)'].median()), inplace=True)"
   ]
  },
  {
   "cell_type": "code",
   "execution_count": 20,
   "metadata": {},
   "outputs": [],
   "source": [
    "transformed_df['new_Cuisine1'], _ = pd.factorize(transformed_df['Cuisine1'], sort=True)\n",
    "transformed_df['new_Cuisine2'], _ = pd.factorize(transformed_df['Cuisine2'], sort=True)\n",
    "transformed_df['new_rest1'], _ = pd.factorize(transformed_df['rest1'], sort=True)\n",
    "transformed_df['new_listed_in'], _ = pd.factorize(transformed_df['listed_in(type)'], sort=True)\n",
    "transformed_df['new_location'], _ = pd.factorize(transformed_df['location'], sort=True)\n",
    "transformed_df['new_online_order'], _ = pd.factorize(transformed_df['online_order'], sort=True)\n",
    "transformed_df['new_book_table'], _ = pd.factorize(transformed_df['book_table'], sort=True)\n",
    "\n",
    "to_drop = ['Cuisine1',\n",
    "           'Cuisine2',\n",
    "           'rest1',\n",
    "           'listed_in(type)',\n",
    "           'location',\n",
    "           'online_order',\n",
    "           'book_table',\n",
    "           'name']\n",
    "transformed_df.drop(to_drop, inplace=True, axis=1)\n",
    "transformed_df.dropna(how='any', inplace=True)"
   ]
  },
  {
   "cell_type": "code",
   "execution_count": 21,
   "metadata": {},
   "outputs": [],
   "source": [
    "train, test = train_test_split(transformed_df, test_size=0.2)"
   ]
  },
  {
   "cell_type": "code",
   "execution_count": 22,
   "metadata": {},
   "outputs": [],
   "source": [
    "train_x = train.loc[:, train.columns != 'rate']\n",
    "train_y = train.loc[:, train.columns == 'rate']\n",
    "test_x = test.loc[:, test.columns != 'rate']\n",
    "test_y = test.loc[:, test.columns == 'rate']"
   ]
  },
  {
   "cell_type": "code",
   "execution_count": 23,
   "metadata": {},
   "outputs": [
    {
     "data": {
      "text/plain": [
       "LinearRegression(copy_X=True, fit_intercept=True, n_jobs=None, normalize=False)"
      ]
     },
     "execution_count": 23,
     "metadata": {},
     "output_type": "execute_result"
    }
   ],
   "source": [
    "regressor = LinearRegression()  \n",
    "regressor.fit(train_x, train_y)"
   ]
  },
  {
   "cell_type": "code",
   "execution_count": 24,
   "metadata": {},
   "outputs": [],
   "source": [
    "y_pred = regressor.predict(test_x)"
   ]
  },
  {
   "cell_type": "code",
   "execution_count": 31,
   "metadata": {},
   "outputs": [
    {
     "name": "stdout",
     "output_type": "stream",
     "text": [
      "4218\n",
      "0.4137322216772928\n"
     ]
    }
   ],
   "source": [
    "y_pred = np.around(y_pred,decimals=1)\n",
    "#test_y = list(test_y['rate'])\n",
    "acc = 0\n",
    "for i in range(len(y_pred)):\n",
    "    if(np.around(abs(y_pred[i] - test_y[i]),1) <= 0.1):\n",
    "        acc = acc + 1\n",
    "print(acc)        \n",
    "print(acc/len(y_pred))"
   ]
  },
  {
   "cell_type": "markdown",
   "metadata": {},
   "source": [
    "Linear regression model with NA values filled by linear interpolation"
   ]
  },
  {
   "cell_type": "code",
   "execution_count": 32,
   "metadata": {},
   "outputs": [],
   "source": [
    "transformed_df2 = df.copy()\n",
    "transformed_df2 = df.interpolate()"
   ]
  },
  {
   "cell_type": "code",
   "execution_count": 33,
   "metadata": {},
   "outputs": [],
   "source": [
    "transformed_df2['new_Cuisine1'], _ = pd.factorize(transformed_df2['Cuisine1'], sort=True)\n",
    "transformed_df2['new_Cuisine2'], _ = pd.factorize(transformed_df2['Cuisine2'], sort=True)\n",
    "transformed_df2['new_rest1'], _ = pd.factorize(transformed_df2['rest1'], sort=True)\n",
    "transformed_df2['new_listed_in'], _ = pd.factorize(transformed_df2['listed_in(type)'], sort=True)\n",
    "transformed_df2['new_location'], _ = pd.factorize(transformed_df2['location'], sort=True)\n",
    "transformed_df2['new_online_order'], _ = pd.factorize(transformed_df2['online_order'], sort=True)\n",
    "transformed_df2['new_book_table'], _ = pd.factorize(transformed_df2['book_table'], sort=True)\n",
    "\n",
    "to_drop = ['Cuisine1',\n",
    "           'Cuisine2',\n",
    "           'rest1',\n",
    "           'listed_in(type)',\n",
    "           'location',\n",
    "           'online_order',\n",
    "           'book_table',\n",
    "           'name']\n",
    "transformed_df2.drop(to_drop, inplace=True, axis=1)\n",
    "transformed_df2.dropna(how='any', inplace=True)\n"
   ]
  },
  {
   "cell_type": "code",
   "execution_count": 34,
   "metadata": {},
   "outputs": [],
   "source": [
    "train, test = train_test_split(transformed_df2, test_size=0.2)"
   ]
  },
  {
   "cell_type": "code",
   "execution_count": 35,
   "metadata": {},
   "outputs": [],
   "source": [
    "train_x = train.loc[:, train.columns != 'rate']\n",
    "train_y = train.loc[:, train.columns == 'rate']\n",
    "test_x = test.loc[:, test.columns != 'rate']\n",
    "test_y = test.loc[:, test.columns == 'rate']"
   ]
  },
  {
   "cell_type": "code",
   "execution_count": 36,
   "metadata": {},
   "outputs": [
    {
     "data": {
      "text/plain": [
       "LinearRegression(copy_X=True, fit_intercept=True, n_jobs=None, normalize=False)"
      ]
     },
     "execution_count": 36,
     "metadata": {},
     "output_type": "execute_result"
    }
   ],
   "source": [
    "regressor = LinearRegression()  \n",
    "regressor.fit(train_x, train_y)"
   ]
  },
  {
   "cell_type": "code",
   "execution_count": 37,
   "metadata": {},
   "outputs": [],
   "source": [
    "y_pred = regressor.predict(test_x)"
   ]
  },
  {
   "cell_type": "code",
   "execution_count": 39,
   "metadata": {},
   "outputs": [
    {
     "name": "stdout",
     "output_type": "stream",
     "text": [
      "0.33928396272682687\n"
     ]
    }
   ],
   "source": [
    "y_pred = np.around(y_pred,decimals=1)\n",
    "test_y = np.around(list(test_y['rate']),decimals=1)\n",
    "acc = 0\n",
    "for i in range(len(y_pred)):\n",
    "    if(np.around(abs(y_pred[i] - test_y[i]),1) <= 0.1):\n",
    "        acc = acc + 1\n",
    "print(acc/len(y_pred))\n"
   ]
  },
  {
   "cell_type": "markdown",
   "metadata": {},
   "source": [
    "Linear regression model with NA values filled by quadratic interpolation"
   ]
  },
  {
   "cell_type": "code",
   "execution_count": 40,
   "metadata": {},
   "outputs": [],
   "source": [
    "transformed_df3 = df.copy()\n",
    "transformed_df3 = df.interpolate(method='polynomial', order=2)"
   ]
  },
  {
   "cell_type": "code",
   "execution_count": 41,
   "metadata": {},
   "outputs": [],
   "source": [
    "transformed_df3['new_Cuisine1'], _ = pd.factorize(transformed_df3['Cuisine1'], sort=True)\n",
    "transformed_df3['new_Cuisine2'], _ = pd.factorize(transformed_df3['Cuisine2'], sort=True)\n",
    "transformed_df3['new_rest1'], _ = pd.factorize(transformed_df3['rest1'], sort=True)\n",
    "transformed_df3['new_listed_in'], _ = pd.factorize(transformed_df3['listed_in(type)'], sort=True)\n",
    "transformed_df3['new_location'], _ = pd.factorize(transformed_df3['location'], sort=True)\n",
    "transformed_df3['new_online_order'], _ = pd.factorize(transformed_df3['online_order'], sort=True)\n",
    "transformed_df3['new_book_table'], _ = pd.factorize(transformed_df3['book_table'], sort=True)\n",
    "\n",
    "to_drop = ['Cuisine1',\n",
    "           'Cuisine2',\n",
    "           'rest1',\n",
    "           'listed_in(type)',\n",
    "           'location',\n",
    "           'online_order',\n",
    "           'book_table',\n",
    "           'name']\n",
    "transformed_df3.drop(to_drop, inplace=True, axis=1)\n",
    "transformed_df3.dropna(how='any', inplace=True)\n"
   ]
  },
  {
   "cell_type": "code",
   "execution_count": 42,
   "metadata": {},
   "outputs": [],
   "source": [
    "train, test = train_test_split(transformed_df3, test_size=0.2)\n"
   ]
  },
  {
   "cell_type": "code",
   "execution_count": 43,
   "metadata": {},
   "outputs": [],
   "source": [
    "train_x = train.loc[:, train.columns != 'rate']\n",
    "train_y = train.loc[:, train.columns == 'rate']\n",
    "test_x = test.loc[:, test.columns != 'rate']\n",
    "test_y = test.loc[:, test.columns == 'rate']\n"
   ]
  },
  {
   "cell_type": "code",
   "execution_count": 44,
   "metadata": {},
   "outputs": [
    {
     "data": {
      "text/plain": [
       "LinearRegression(copy_X=True, fit_intercept=True, n_jobs=None, normalize=False)"
      ]
     },
     "execution_count": 44,
     "metadata": {},
     "output_type": "execute_result"
    }
   ],
   "source": [
    "regressor = LinearRegression()  \n",
    "regressor.fit(train_x, train_y)"
   ]
  },
  {
   "cell_type": "code",
   "execution_count": 45,
   "metadata": {},
   "outputs": [],
   "source": [
    "y_pred = regressor.predict(test_x)"
   ]
  },
  {
   "cell_type": "code",
   "execution_count": 46,
   "metadata": {
    "scrolled": true
   },
   "outputs": [
    {
     "name": "stdout",
     "output_type": "stream",
     "text": [
      "0.30828837665522313\n"
     ]
    }
   ],
   "source": [
    "y_pred = np.around(y_pred,decimals=1)\n",
    "test_y = np.around(list(test_y['rate']),decimals=1)\n",
    "acc = 0\n",
    "for i in range(len(y_pred)):\n",
    "    if(np.around(abs(y_pred[i] - test_y[i]),1)<= 0.1):\n",
    "        acc = acc + 1\n",
    "print(acc/len(y_pred))\n"
   ]
  },
  {
   "cell_type": "markdown",
   "metadata": {},
   "source": [
    "Accuracy of Linear regression model with NA values filled with median : 41.37%\n",
    "Accuracy of Linear regression model with NA values filled by linear interpolation  : 33.92%\n",
    "Accuracy of Linear regression model with NA values filled by linear interpolation  : 30.82%\n"
   ]
  },
  {
   "cell_type": "markdown",
   "metadata": {},
   "source": [
    "Linear regression model ffilled with median has higher accuracy of around 41% compared to the other"
   ]
  }
 ],
 "metadata": {
  "kernelspec": {
   "display_name": "Python 3",
   "language": "python",
   "name": "python3"
  },
  "language_info": {
   "codemirror_mode": {
    "name": "ipython",
    "version": 3
   },
   "file_extension": ".py",
   "mimetype": "text/x-python",
   "name": "python",
   "nbconvert_exporter": "python",
   "pygments_lexer": "ipython3",
   "version": "3.7.3"
  }
 },
 "nbformat": 4,
 "nbformat_minor": 2
}
