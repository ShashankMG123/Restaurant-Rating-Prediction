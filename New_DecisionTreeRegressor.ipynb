{
 "cells": [
  {
   "cell_type": "code",
   "execution_count": 1,
   "metadata": {},
   "outputs": [],
   "source": [
    "import pandas as pd\n",
    "import numpy as np\n",
    "import seaborn as sns\n",
    "import matplotlib.pyplot as plt\n",
    "import operator\n",
    "import math\n",
    "from sklearn.model_selection import train_test_split\n",
    "from sklearn.tree import DecisionTreeRegressor \n",
    "%matplotlib inline"
   ]
  },
  {
   "cell_type": "code",
   "execution_count": 74,
   "metadata": {},
   "outputs": [],
   "source": [
    "#df = pd.read_csv(\"/home/hp/Desktop/College/Sem5/DA/Project/zomato-bangalore-restaurants/zomato.csv\")\n",
    "mylist = []\n",
    "\n",
    "for chunk in  pd.read_csv(\"C:/Users/sparsha/Documents/SEM 5/DA Project/zomato/newzomato.csv\", sep=',', chunksize=20000):\n",
    "    mylist.append(chunk)\n",
    "\n",
    "big_data = pd.concat(mylist, axis= 0)\n",
    "df = big_data\n",
    "\n",
    "del mylist"
   ]
  },
  {
   "cell_type": "markdown",
   "metadata": {},
   "source": [
    "Decision Tree Regressor to fill the NA values "
   ]
  },
  {
   "cell_type": "code",
   "execution_count": 75,
   "metadata": {},
   "outputs": [],
   "source": [
    "transformed_df = df.copy()\n",
    "transformed_df['approx_cost(for two people)'].fillna((transformed_df['approx_cost(for two people)'].median()), inplace=True)"
   ]
  },
  {
   "cell_type": "code",
   "execution_count": 76,
   "metadata": {},
   "outputs": [],
   "source": [
    "transformed_df['new_Cuisine1'], _ = pd.factorize(transformed_df['Cuisine1'], sort=True)\n",
    "transformed_df['new_Cuisine2'], _ = pd.factorize(transformed_df['Cuisine2'], sort=True)\n",
    "transformed_df['new_rest1'], _ = pd.factorize(transformed_df['rest1'], sort=True)\n",
    "transformed_df['new_listed_in'], _ = pd.factorize(transformed_df['listed_in(type)'], sort=True)\n",
    "transformed_df['new_location'], _ = pd.factorize(transformed_df['location'], sort=True)\n",
    "transformed_df['new_online_order'], _ = pd.factorize(transformed_df['online_order'], sort=True)\n",
    "transformed_df['new_book_table'], _ = pd.factorize(transformed_df['book_table'], sort=True)\n",
    "\n",
    "to_drop = ['Cuisine1',\n",
    "           'Cuisine2',\n",
    "           'rest1',\n",
    "           'listed_in(type)',\n",
    "           'location',\n",
    "           'online_order',\n",
    "           'book_table',\n",
    "           'name']\n",
    "transformed_df.drop(to_drop, inplace=True, axis=1)\n",
    "#transformed_df.dropna(how='any', inplace=True)"
   ]
  },
  {
   "cell_type": "code",
   "execution_count": 78,
   "metadata": {},
   "outputs": [],
   "source": [
    "nans = lambda df: df[df.isnull().any(axis=1)]\n",
    "test = nans(transformed_df)"
   ]
  },
  {
   "cell_type": "code",
   "execution_count": 79,
   "metadata": {},
   "outputs": [],
   "source": [
    "train = transformed_df.copy()\n",
    "train.dropna(how='any', inplace=True)"
   ]
  },
  {
   "cell_type": "code",
   "execution_count": 80,
   "metadata": {},
   "outputs": [],
   "source": [
    "train_x = train.loc[:, train.columns != 'rate']\n",
    "train_y = train.loc[:, train.columns == 'rate']\n",
    "test_x = test.loc[:, test.columns != 'rate']\n",
    "test_y = test.loc[:, test.columns == 'rate']"
   ]
  },
  {
   "cell_type": "code",
   "execution_count": 81,
   "metadata": {},
   "outputs": [],
   "source": [
    "regressor = DecisionTreeRegressor(random_state = 0)"
   ]
  },
  {
   "cell_type": "code",
   "execution_count": 82,
   "metadata": {},
   "outputs": [
    {
     "data": {
      "text/plain": [
       "DecisionTreeRegressor(criterion='mse', max_depth=None, max_features=None,\n",
       "                      max_leaf_nodes=None, min_impurity_decrease=0.0,\n",
       "                      min_impurity_split=None, min_samples_leaf=1,\n",
       "                      min_samples_split=2, min_weight_fraction_leaf=0.0,\n",
       "                      presort=False, random_state=0, splitter='best')"
      ]
     },
     "execution_count": 82,
     "metadata": {},
     "output_type": "execute_result"
    }
   ],
   "source": [
    "regressor.fit(train_x, train_y)"
   ]
  },
  {
   "cell_type": "code",
   "execution_count": 83,
   "metadata": {},
   "outputs": [],
   "source": [
    "y_pred = list(regressor.predict(test_x))"
   ]
  },
  {
   "cell_type": "code",
   "execution_count": 84,
   "metadata": {},
   "outputs": [],
   "source": [
    "test_x['rate'] = y_pred"
   ]
  },
  {
   "cell_type": "code",
   "execution_count": 85,
   "metadata": {},
   "outputs": [
    {
     "data": {
      "text/html": [
       "<div>\n",
       "<style scoped>\n",
       "    .dataframe tbody tr th:only-of-type {\n",
       "        vertical-align: middle;\n",
       "    }\n",
       "\n",
       "    .dataframe tbody tr th {\n",
       "        vertical-align: top;\n",
       "    }\n",
       "\n",
       "    .dataframe thead th {\n",
       "        text-align: right;\n",
       "    }\n",
       "</style>\n",
       "<table border=\"1\" class=\"dataframe\">\n",
       "  <thead>\n",
       "    <tr style=\"text-align: right;\">\n",
       "      <th></th>\n",
       "      <th>approx_cost(for two people)</th>\n",
       "      <th>new_Cuisine1</th>\n",
       "      <th>new_Cuisine2</th>\n",
       "      <th>new_rest1</th>\n",
       "      <th>new_listed_in</th>\n",
       "      <th>new_location</th>\n",
       "      <th>new_online_order</th>\n",
       "      <th>new_book_table</th>\n",
       "      <th>rate</th>\n",
       "    </tr>\n",
       "  </thead>\n",
       "  <tbody>\n",
       "    <tr>\n",
       "      <th>72</th>\n",
       "      <td>150.0</td>\n",
       "      <td>29</td>\n",
       "      <td>29</td>\n",
       "      <td>11</td>\n",
       "      <td>2</td>\n",
       "      <td>1</td>\n",
       "      <td>0</td>\n",
       "      <td>0</td>\n",
       "      <td>3.1</td>\n",
       "    </tr>\n",
       "    <tr>\n",
       "      <th>75</th>\n",
       "      <td>500.0</td>\n",
       "      <td>15</td>\n",
       "      <td>37</td>\n",
       "      <td>6</td>\n",
       "      <td>2</td>\n",
       "      <td>1</td>\n",
       "      <td>0</td>\n",
       "      <td>0</td>\n",
       "      <td>4.0</td>\n",
       "    </tr>\n",
       "    <tr>\n",
       "      <th>84</th>\n",
       "      <td>100.0</td>\n",
       "      <td>11</td>\n",
       "      <td>35</td>\n",
       "      <td>11</td>\n",
       "      <td>2</td>\n",
       "      <td>1</td>\n",
       "      <td>0</td>\n",
       "      <td>0</td>\n",
       "      <td>3.8</td>\n",
       "    </tr>\n",
       "    <tr>\n",
       "      <th>90</th>\n",
       "      <td>500.0</td>\n",
       "      <td>13</td>\n",
       "      <td>5</td>\n",
       "      <td>6</td>\n",
       "      <td>2</td>\n",
       "      <td>1</td>\n",
       "      <td>0</td>\n",
       "      <td>0</td>\n",
       "      <td>4.1</td>\n",
       "    </tr>\n",
       "    <tr>\n",
       "      <th>91</th>\n",
       "      <td>400.0</td>\n",
       "      <td>35</td>\n",
       "      <td>35</td>\n",
       "      <td>6</td>\n",
       "      <td>2</td>\n",
       "      <td>1</td>\n",
       "      <td>0</td>\n",
       "      <td>0</td>\n",
       "      <td>3.3</td>\n",
       "    </tr>\n",
       "    <tr>\n",
       "      <th>...</th>\n",
       "      <td>...</td>\n",
       "      <td>...</td>\n",
       "      <td>...</td>\n",
       "      <td>...</td>\n",
       "      <td>...</td>\n",
       "      <td>...</td>\n",
       "      <td>...</td>\n",
       "      <td>...</td>\n",
       "      <td>...</td>\n",
       "    </tr>\n",
       "    <tr>\n",
       "      <th>50902</th>\n",
       "      <td>400.0</td>\n",
       "      <td>29</td>\n",
       "      <td>29</td>\n",
       "      <td>6</td>\n",
       "      <td>4</td>\n",
       "      <td>9</td>\n",
       "      <td>0</td>\n",
       "      <td>0</td>\n",
       "      <td>3.2</td>\n",
       "    </tr>\n",
       "    <tr>\n",
       "      <th>50933</th>\n",
       "      <td>900.0</td>\n",
       "      <td>16</td>\n",
       "      <td>16</td>\n",
       "      <td>7</td>\n",
       "      <td>5</td>\n",
       "      <td>89</td>\n",
       "      <td>0</td>\n",
       "      <td>0</td>\n",
       "      <td>3.4</td>\n",
       "    </tr>\n",
       "    <tr>\n",
       "      <th>50968</th>\n",
       "      <td>900.0</td>\n",
       "      <td>16</td>\n",
       "      <td>16</td>\n",
       "      <td>7</td>\n",
       "      <td>6</td>\n",
       "      <td>89</td>\n",
       "      <td>0</td>\n",
       "      <td>0</td>\n",
       "      <td>3.4</td>\n",
       "    </tr>\n",
       "    <tr>\n",
       "      <th>50971</th>\n",
       "      <td>600.0</td>\n",
       "      <td>16</td>\n",
       "      <td>16</td>\n",
       "      <td>1</td>\n",
       "      <td>6</td>\n",
       "      <td>89</td>\n",
       "      <td>0</td>\n",
       "      <td>0</td>\n",
       "      <td>3.9</td>\n",
       "    </tr>\n",
       "    <tr>\n",
       "      <th>50972</th>\n",
       "      <td>2000.0</td>\n",
       "      <td>16</td>\n",
       "      <td>16</td>\n",
       "      <td>7</td>\n",
       "      <td>6</td>\n",
       "      <td>89</td>\n",
       "      <td>0</td>\n",
       "      <td>0</td>\n",
       "      <td>3.8</td>\n",
       "    </tr>\n",
       "  </tbody>\n",
       "</table>\n",
       "<p>9970 rows × 9 columns</p>\n",
       "</div>"
      ],
      "text/plain": [
       "       approx_cost(for two people)  new_Cuisine1  new_Cuisine2  new_rest1  \\\n",
       "72                           150.0            29            29         11   \n",
       "75                           500.0            15            37          6   \n",
       "84                           100.0            11            35         11   \n",
       "90                           500.0            13             5          6   \n",
       "91                           400.0            35            35          6   \n",
       "...                            ...           ...           ...        ...   \n",
       "50902                        400.0            29            29          6   \n",
       "50933                        900.0            16            16          7   \n",
       "50968                        900.0            16            16          7   \n",
       "50971                        600.0            16            16          1   \n",
       "50972                       2000.0            16            16          7   \n",
       "\n",
       "       new_listed_in  new_location  new_online_order  new_book_table  rate  \n",
       "72                 2             1                 0               0   3.1  \n",
       "75                 2             1                 0               0   4.0  \n",
       "84                 2             1                 0               0   3.8  \n",
       "90                 2             1                 0               0   4.1  \n",
       "91                 2             1                 0               0   3.3  \n",
       "...              ...           ...               ...             ...   ...  \n",
       "50902              4             9                 0               0   3.2  \n",
       "50933              5            89                 0               0   3.4  \n",
       "50968              6            89                 0               0   3.4  \n",
       "50971              6            89                 0               0   3.9  \n",
       "50972              6            89                 0               0   3.8  \n",
       "\n",
       "[9970 rows x 9 columns]"
      ]
     },
     "execution_count": 85,
     "metadata": {},
     "output_type": "execute_result"
    }
   ],
   "source": [
    "test_x"
   ]
  },
  {
   "cell_type": "code",
   "execution_count": 87,
   "metadata": {},
   "outputs": [],
   "source": [
    "new_df = pd.concat([train,test_x],sort=True)"
   ]
  },
  {
   "cell_type": "code",
   "execution_count": 90,
   "metadata": {},
   "outputs": [],
   "source": [
    "train, test = train_test_split(new_df, test_size=0.2)"
   ]
  },
  {
   "cell_type": "code",
   "execution_count": 91,
   "metadata": {},
   "outputs": [],
   "source": [
    "train_x = train.loc[:, train.columns != 'rate']\n",
    "train_y = train.loc[:, train.columns == 'rate']\n",
    "test_x = test.loc[:, test.columns != 'rate']\n",
    "test_y = test.loc[:, test.columns == 'rate']"
   ]
  },
  {
   "cell_type": "code",
   "execution_count": 92,
   "metadata": {},
   "outputs": [],
   "source": [
    "regressor = DecisionTreeRegressor(random_state = 0)"
   ]
  },
  {
   "cell_type": "code",
   "execution_count": 93,
   "metadata": {},
   "outputs": [
    {
     "data": {
      "text/plain": [
       "DecisionTreeRegressor(criterion='mse', max_depth=None, max_features=None,\n",
       "                      max_leaf_nodes=None, min_impurity_decrease=0.0,\n",
       "                      min_impurity_split=None, min_samples_leaf=1,\n",
       "                      min_samples_split=2, min_weight_fraction_leaf=0.0,\n",
       "                      presort=False, random_state=0, splitter='best')"
      ]
     },
     "execution_count": 93,
     "metadata": {},
     "output_type": "execute_result"
    }
   ],
   "source": [
    "regressor.fit(train_x, train_y)"
   ]
  },
  {
   "cell_type": "code",
   "execution_count": 94,
   "metadata": {},
   "outputs": [],
   "source": [
    "y_pred = list(regressor.predict(test_x))"
   ]
  },
  {
   "cell_type": "code",
   "execution_count": 95,
   "metadata": {},
   "outputs": [
    {
     "name": "stdout",
     "output_type": "stream",
     "text": [
      "9147\n",
      "0.897204512015694\n"
     ]
    }
   ],
   "source": [
    "y_pred = np.around(y_pred,decimals=1)\n",
    "test_y = list(test_y['rate'])\n",
    "y_pred = list(y_pred)\n",
    "acc = 0\n",
    "for i in range(len(y_pred)):\n",
    "    if(round((y_pred[i] - test_y[i]),1)<0.2):\n",
    "        acc = acc + 1\n",
    "print(acc)\n",
    "print(acc/len(y_pred))"
   ]
  },
  {
   "cell_type": "markdown",
   "metadata": {},
   "source": [
    "Linear Interpolation to fill NA values"
   ]
  },
  {
   "cell_type": "code",
   "execution_count": 96,
   "metadata": {},
   "outputs": [],
   "source": [
    "transformed_df2 = df.copy()\n",
    "transformed_df2 = df.interpolate()"
   ]
  },
  {
   "cell_type": "code",
   "execution_count": 97,
   "metadata": {},
   "outputs": [],
   "source": [
    "transformed_df2['new_Cuisine1'], _ = pd.factorize(transformed_df2['Cuisine1'], sort=True)\n",
    "transformed_df2['new_Cuisine2'], _ = pd.factorize(transformed_df2['Cuisine2'], sort=True)\n",
    "transformed_df2['new_rest1'], _ = pd.factorize(transformed_df2['rest1'], sort=True)\n",
    "transformed_df2['new_listed_in'], _ = pd.factorize(transformed_df2['listed_in(type)'], sort=True)\n",
    "transformed_df2['new_location'], _ = pd.factorize(transformed_df2['location'], sort=True)\n",
    "transformed_df2['new_online_order'], _ = pd.factorize(transformed_df2['online_order'], sort=True)\n",
    "transformed_df2['new_book_table'], _ = pd.factorize(transformed_df2['book_table'], sort=True)\n",
    "\n",
    "to_drop = ['Cuisine1',\n",
    "           'Cuisine2',\n",
    "           'rest1',\n",
    "           'listed_in(type)',\n",
    "           'location',\n",
    "           'online_order',\n",
    "           'book_table',\n",
    "           'name']\n",
    "transformed_df2.drop(to_drop, inplace=True, axis=1)\n",
    "transformed_df2.dropna(how='any', inplace=True)\n"
   ]
  },
  {
   "cell_type": "code",
   "execution_count": 98,
   "metadata": {},
   "outputs": [],
   "source": [
    "train, test = train_test_split(transformed_df2, test_size=0.2)"
   ]
  },
  {
   "cell_type": "code",
   "execution_count": 99,
   "metadata": {},
   "outputs": [],
   "source": [
    "train_x = train.loc[:, train.columns != 'rate']\n",
    "train_y = train.loc[:, train.columns == 'rate']\n",
    "test_x = test.loc[:, test.columns != 'rate']\n",
    "test_y = test.loc[:, test.columns == 'rate']"
   ]
  },
  {
   "cell_type": "code",
   "execution_count": 100,
   "metadata": {},
   "outputs": [],
   "source": [
    "regressor = DecisionTreeRegressor(random_state = 0)"
   ]
  },
  {
   "cell_type": "code",
   "execution_count": 101,
   "metadata": {},
   "outputs": [
    {
     "data": {
      "text/plain": [
       "DecisionTreeRegressor(criterion='mse', max_depth=None, max_features=None,\n",
       "                      max_leaf_nodes=None, min_impurity_decrease=0.0,\n",
       "                      min_impurity_split=None, min_samples_leaf=1,\n",
       "                      min_samples_split=2, min_weight_fraction_leaf=0.0,\n",
       "                      presort=False, random_state=0, splitter='best')"
      ]
     },
     "execution_count": 101,
     "metadata": {},
     "output_type": "execute_result"
    }
   ],
   "source": [
    "regressor.fit(train_x, train_y)"
   ]
  },
  {
   "cell_type": "code",
   "execution_count": 102,
   "metadata": {},
   "outputs": [],
   "source": [
    "y_pred = list(regressor.predict(test_x))"
   ]
  },
  {
   "cell_type": "code",
   "execution_count": 103,
   "metadata": {},
   "outputs": [
    {
     "name": "stdout",
     "output_type": "stream",
     "text": [
      "8399\n",
      "0.8238352133398725\n"
     ]
    }
   ],
   "source": [
    "y_pred = np.around(y_pred,decimals=1)\n",
    "test_y = list(test_y['rate'])\n",
    "y_pred = list(y_pred)\n",
    "acc = 0\n",
    "for i in range(len(y_pred)):\n",
    "    if(round((y_pred[i] - test_y[i]),1)<0.2):\n",
    "        acc = acc + 1\n",
    "print(acc)\n",
    "print(acc/len(y_pred))"
   ]
  },
  {
   "cell_type": "markdown",
   "metadata": {},
   "source": [
    "Quadratic interpolation to fill NA values"
   ]
  },
  {
   "cell_type": "code",
   "execution_count": 106,
   "metadata": {},
   "outputs": [],
   "source": [
    "transformed_df3 = df.copy()\n",
    "transformed_df3 = df.interpolate(method='polynomial', order=2)"
   ]
  },
  {
   "cell_type": "code",
   "execution_count": 107,
   "metadata": {},
   "outputs": [],
   "source": [
    "transformed_df3['new_Cuisine1'], _ = pd.factorize(transformed_df3['Cuisine1'], sort=True)\n",
    "transformed_df3['new_Cuisine2'], _ = pd.factorize(transformed_df3['Cuisine2'], sort=True)\n",
    "transformed_df3['new_rest1'], _ = pd.factorize(transformed_df3['rest1'], sort=True)\n",
    "transformed_df3['new_listed_in'], _ = pd.factorize(transformed_df3['listed_in(type)'], sort=True)\n",
    "transformed_df3['new_location'], _ = pd.factorize(transformed_df3['location'], sort=True)\n",
    "transformed_df3['new_online_order'], _ = pd.factorize(transformed_df3['online_order'], sort=True)\n",
    "transformed_df3['new_book_table'], _ = pd.factorize(transformed_df3['book_table'], sort=True)\n",
    "\n",
    "to_drop = ['Cuisine1',\n",
    "           'Cuisine2',\n",
    "           'rest1',\n",
    "           'listed_in(type)',\n",
    "           'location',\n",
    "           'online_order',\n",
    "           'book_table',\n",
    "           'name']\n",
    "transformed_df3.drop(to_drop, inplace=True, axis=1)\n",
    "transformed_df3.dropna(how='any', inplace=True)\n"
   ]
  },
  {
   "cell_type": "code",
   "execution_count": 108,
   "metadata": {},
   "outputs": [],
   "source": [
    "train, test = train_test_split(transformed_df3, test_size=0.2)\n"
   ]
  },
  {
   "cell_type": "code",
   "execution_count": 109,
   "metadata": {},
   "outputs": [],
   "source": [
    "train_x = train.loc[:, train.columns != 'rate']\n",
    "train_y = train.loc[:, train.columns == 'rate']\n",
    "test_x = test.loc[:, test.columns != 'rate']\n",
    "test_y = test.loc[:, test.columns == 'rate']"
   ]
  },
  {
   "cell_type": "code",
   "execution_count": 110,
   "metadata": {},
   "outputs": [],
   "source": [
    "regressor = DecisionTreeRegressor(random_state = 0)"
   ]
  },
  {
   "cell_type": "code",
   "execution_count": 111,
   "metadata": {},
   "outputs": [
    {
     "data": {
      "text/plain": [
       "DecisionTreeRegressor(criterion='mse', max_depth=None, max_features=None,\n",
       "                      max_leaf_nodes=None, min_impurity_decrease=0.0,\n",
       "                      min_impurity_split=None, min_samples_leaf=1,\n",
       "                      min_samples_split=2, min_weight_fraction_leaf=0.0,\n",
       "                      presort=False, random_state=0, splitter='best')"
      ]
     },
     "execution_count": 111,
     "metadata": {},
     "output_type": "execute_result"
    }
   ],
   "source": [
    "regressor.fit(train_x, train_y)"
   ]
  },
  {
   "cell_type": "code",
   "execution_count": 112,
   "metadata": {},
   "outputs": [],
   "source": [
    "y_pred = list(regressor.predict(test_x))"
   ]
  },
  {
   "cell_type": "code",
   "execution_count": 113,
   "metadata": {},
   "outputs": [
    {
     "name": "stdout",
     "output_type": "stream",
     "text": [
      "8235\n",
      "0.8077488965179009\n"
     ]
    }
   ],
   "source": [
    "y_pred = np.around(y_pred,decimals=1)\n",
    "test_y = list(test_y['rate'])\n",
    "y_pred = list(y_pred)\n",
    "acc = 0\n",
    "for i in range(len(y_pred)):\n",
    "    if(round((y_pred[i] - test_y[i]),1)<0.2):\n",
    "        acc = acc + 1\n",
    "print(acc)\n",
    "print(acc/len(y_pred))"
   ]
  },
  {
   "cell_type": "markdown",
   "metadata": {},
   "source": [
    "Decision Tree Regressor with NA values filled with median : 87.49%\n",
    "Decision Tree Regressor with NA values filled with Decision tree predictor: 89.72%\n",
    "Decision Tree Regressor with NA values filled with linear interpolation : 82.38%\n",
    "Decision Tree Regressor with NA values filled with quadratic interpolation : 80.77%"
   ]
  }
 ],
 "metadata": {
  "kernelspec": {
   "display_name": "Python 3",
   "language": "python",
   "name": "python3"
  },
  "language_info": {
   "codemirror_mode": {
    "name": "ipython",
    "version": 3
   },
   "file_extension": ".py",
   "mimetype": "text/x-python",
   "name": "python",
   "nbconvert_exporter": "python",
   "pygments_lexer": "ipython3",
   "version": "3.7.3"
  }
 },
 "nbformat": 4,
 "nbformat_minor": 2
}
