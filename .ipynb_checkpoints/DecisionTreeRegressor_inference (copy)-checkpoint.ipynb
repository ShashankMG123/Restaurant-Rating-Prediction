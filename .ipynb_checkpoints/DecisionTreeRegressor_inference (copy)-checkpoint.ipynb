{
 "cells": [
  {
   "cell_type": "code",
   "execution_count": 1,
   "metadata": {},
   "outputs": [],
   "source": [
    "import pandas as pd\n",
    "import numpy as np\n",
    "import seaborn as sns\n",
    "import matplotlib.pyplot as plt\n",
    "import operator\n",
    "import math\n",
    "from sklearn.model_selection import train_test_split\n",
    "from sklearn.tree import DecisionTreeRegressor \n",
    "import itertools\n",
    "%matplotlib inline"
   ]
  },
  {
   "cell_type": "code",
   "execution_count": 2,
   "metadata": {},
   "outputs": [],
   "source": [
    "#df = pd.read_csv(\"/home/hp/Desktop/College/Sem5/DA/Project/zomato-bangalore-restaurants/zomato.csv\")\n",
    "mylist = []\n",
    "\n",
    "for chunk in  pd.read_csv(\"/home/hp/Desktop/College/Sem5/DA/Project/newzomato.csv\", sep=',', chunksize=20000):\n",
    "    mylist.append(chunk)\n",
    "\n",
    "big_data = pd.concat(mylist, axis= 0)\n",
    "df = big_data\n",
    "\n",
    "del mylist\n"
   ]
  },
  {
   "cell_type": "code",
   "execution_count": 3,
   "metadata": {},
   "outputs": [],
   "source": [
    "df['rate'].fillna((df['rate'].median()), inplace=True)\n",
    "df['approx_cost(for two people)'].fillna((df['approx_cost(for two people)'].median()), inplace=True)"
   ]
  },
  {
   "cell_type": "code",
   "execution_count": 4,
   "metadata": {},
   "outputs": [],
   "source": [
    "transformed_df = df.copy()\n",
    "all_cus = list(df['Cuisine1'])\n",
    "temp = set(all_cus)\n",
    "k = []\n",
    "\n",
    "for i in temp:\n",
    "    k.append((i,all_cus.count(i)))\n",
    "    \n",
    "for i in k:\n",
    "    if(i[1]<1100):\n",
    "        transformed_df = transformed_df[transformed_df['Cuisine1']!=i[0]]"
   ]
  },
  {
   "cell_type": "code",
   "execution_count": 5,
   "metadata": {},
   "outputs": [],
   "source": [
    "\n",
    "transformed_df['new_Cuisine1'], cus_label = pd.factorize(transformed_df['Cuisine1'], sort=False)\n",
    "transformed_df['new_Cuisine2'], cus2_label = pd.factorize(transformed_df['Cuisine2'], sort=True)\n",
    "#transformed_df['new_rest1'], _ = pd.factorize(transformed_df['rest1'], sort=True)\n",
    "#transformed_df['new_listed_in'], _ = pd.factorize(transformed_df['listed_in(type)'], sort=True)\n",
    "transformed_df['new_location'], loc_label = pd.factorize(transformed_df['location'], sort=False)\n",
    "#transformed_df['new_online_order'], on_label = pd.factorize(transformed_df['online_order'], sort=False)\n",
    "transformed_df['new_book_table'], book_label = pd.factorize(transformed_df['book_table'], sort=False)\n",
    "\n",
    "to_drop = ['Cuisine1',\n",
    "           'Cuisine2',\n",
    "           'rest1',\n",
    "           'listed_in(type)',\n",
    "           'location',\n",
    "           'online_order',\n",
    "           'book_table',\n",
    "           'name']\n",
    "transformed_df.drop(to_drop, inplace=True, axis=1)\n",
    "transformed_df.dropna(how='any', inplace=True)\n"
   ]
  },
  {
   "cell_type": "code",
   "execution_count": 6,
   "metadata": {},
   "outputs": [],
   "source": [
    "train, test = train_test_split(transformed_df, test_size=0.2)"
   ]
  },
  {
   "cell_type": "code",
   "execution_count": 7,
   "metadata": {},
   "outputs": [],
   "source": [
    "train_x = train.loc[:, train.columns != 'rate']\n",
    "train_y = train.loc[:, train.columns == 'rate']\n",
    "test_x = test.loc[:, test.columns != 'rate']\n",
    "test_y = test.loc[:, test.columns == 'rate']"
   ]
  },
  {
   "cell_type": "code",
   "execution_count": 8,
   "metadata": {},
   "outputs": [],
   "source": [
    "regressor = DecisionTreeRegressor(random_state = 0)"
   ]
  },
  {
   "cell_type": "code",
   "execution_count": 9,
   "metadata": {},
   "outputs": [
    {
     "data": {
      "text/plain": [
       "DecisionTreeRegressor(criterion='mse', max_depth=None, max_features=None,\n",
       "           max_leaf_nodes=None, min_impurity_decrease=0.0,\n",
       "           min_impurity_split=None, min_samples_leaf=1,\n",
       "           min_samples_split=2, min_weight_fraction_leaf=0.0,\n",
       "           presort=False, random_state=0, splitter='best')"
      ]
     },
     "execution_count": 9,
     "metadata": {},
     "output_type": "execute_result"
    }
   ],
   "source": [
    "regressor.fit(train_x, train_y)"
   ]
  },
  {
   "cell_type": "code",
   "execution_count": 10,
   "metadata": {},
   "outputs": [],
   "source": [
    "y_pred = list(regressor.predict(test_x))"
   ]
  },
  {
   "cell_type": "code",
   "execution_count": 11,
   "metadata": {},
   "outputs": [
    {
     "name": "stdout",
     "output_type": "stream",
     "text": [
      "6939\n",
      "0.7808034207269045\n"
     ]
    }
   ],
   "source": [
    "y_pred = np.around(y_pred,decimals=1)\n",
    "test_y = list(test_y['rate'])\n",
    "y_pred = list(y_pred)\n",
    "acc = 0\n",
    "for i in range(len(y_pred)):\n",
    "    if(round((y_pred[i] - test_y[i]),1)<0.1):\n",
    "        acc = acc + 1\n",
    "print(acc)\n",
    "print(acc/len(y_pred))"
   ]
  },
  {
   "cell_type": "code",
   "execution_count": 12,
   "metadata": {},
   "outputs": [],
   "source": [
    "temp = []\n",
    "cus = list(set(list(train_x['new_Cuisine1'])))\n",
    "for i in cus:\n",
    "    temp.append(cus_label[i])\n",
    "    \n",
    "all_cus = list(df['Cuisine1'])\n",
    "k = []\n",
    "\n",
    "for i in temp:\n",
    "    k.append((i,all_cus.count(i)))\n",
    "    \n",
    "for i in k:\n",
    "    if(i[1]<1000):\n",
    "        transformed_df = transformed_df[transformed_df['Cuisine1']!=i[0]]\n"
   ]
  },
  {
   "cell_type": "code",
   "execution_count": 13,
   "metadata": {},
   "outputs": [
    {
     "ename": "NameError",
     "evalue": "name 'online' is not defined",
     "output_type": "error",
     "traceback": [
      "\u001b[0;31m---------------------------------------------------------------------------\u001b[0m",
      "\u001b[0;31mNameError\u001b[0m                                 Traceback (most recent call last)",
      "\u001b[0;32m<ipython-input-13-eaaee636dc75>\u001b[0m in \u001b[0;36m<module>\u001b[0;34m\u001b[0m\n\u001b[1;32m      7\u001b[0m     \u001b[0mm\u001b[0m  \u001b[0;34m=\u001b[0m \u001b[0;34m[\u001b[0m\u001b[0;36m0\u001b[0m\u001b[0;34m,\u001b[0m\u001b[0;34m[\u001b[0m\u001b[0;34m]\u001b[0m\u001b[0;34m]\u001b[0m\u001b[0;34m\u001b[0m\u001b[0;34m\u001b[0m\u001b[0m\n\u001b[1;32m      8\u001b[0m     \u001b[0mloc\u001b[0m \u001b[0;34m=\u001b[0m \u001b[0;34m[\u001b[0m\u001b[0mi\u001b[0m\u001b[0;34m]\u001b[0m\u001b[0;34m\u001b[0m\u001b[0;34m\u001b[0m\u001b[0m\n\u001b[0;32m----> 9\u001b[0;31m     \u001b[0mk\u001b[0m \u001b[0;34m=\u001b[0m \u001b[0;34m[\u001b[0m\u001b[0mapprx\u001b[0m\u001b[0;34m,\u001b[0m\u001b[0mcus\u001b[0m\u001b[0;34m,\u001b[0m\u001b[0mloc\u001b[0m\u001b[0;34m,\u001b[0m\u001b[0monline\u001b[0m\u001b[0;34m,\u001b[0m\u001b[0mbook\u001b[0m\u001b[0;34m]\u001b[0m\u001b[0;34m\u001b[0m\u001b[0;34m\u001b[0m\u001b[0m\n\u001b[0m\u001b[1;32m     10\u001b[0m     \u001b[0;32mfor\u001b[0m \u001b[0melement\u001b[0m \u001b[0;32min\u001b[0m  \u001b[0mitertools\u001b[0m\u001b[0;34m.\u001b[0m\u001b[0mproduct\u001b[0m\u001b[0;34m(\u001b[0m\u001b[0;34m*\u001b[0m\u001b[0mk\u001b[0m\u001b[0;34m)\u001b[0m\u001b[0;34m:\u001b[0m\u001b[0;34m\u001b[0m\u001b[0;34m\u001b[0m\u001b[0m\n\u001b[1;32m     11\u001b[0m         \u001b[0mp\u001b[0m \u001b[0;34m=\u001b[0m \u001b[0mround\u001b[0m\u001b[0;34m(\u001b[0m\u001b[0mlist\u001b[0m\u001b[0;34m(\u001b[0m\u001b[0mregressor\u001b[0m\u001b[0;34m.\u001b[0m\u001b[0mpredict\u001b[0m\u001b[0;34m(\u001b[0m\u001b[0;34m[\u001b[0m\u001b[0melement\u001b[0m\u001b[0;34m]\u001b[0m\u001b[0;34m)\u001b[0m\u001b[0;34m)\u001b[0m\u001b[0;34m[\u001b[0m\u001b[0;36m0\u001b[0m\u001b[0;34m]\u001b[0m\u001b[0;34m,\u001b[0m\u001b[0;36m2\u001b[0m\u001b[0;34m)\u001b[0m\u001b[0;34m\u001b[0m\u001b[0;34m\u001b[0m\u001b[0m\n",
      "\u001b[0;31mNameError\u001b[0m: name 'online' is not defined"
     ]
    }
   ],
   "source": [
    "apprx = [200,400,600,800,1000,1200,1400,1600,1800,2000]\n",
    "cus = list(set(list(train_x['new_Cuisine1'])))\n",
    "cus2 = list(set(list(train_x['new_Cuisine2'])))\n",
    "book = [0,1]\n",
    "infered_results = []\n",
    "for i in list(set(list(train_x['new_location']))):\n",
    "    m  = [0,[]]\n",
    "    loc = [i]\n",
    "    k = [apprx,cus,loc,online,book]\n",
    "    for element in  itertools.product(*k):\n",
    "        p = round(list(regressor.predict([element]))[0],2)\n",
    "        if(p>m[0]):\n",
    "            m[0] = p\n",
    "            m[1] = [element[0],cus_label[element[1]],cus2_label[element[]],loc_label[element[3]],book_label[element[4]]]\n",
    "    infered_results.append(m)"
   ]
  },
  {
   "cell_type": "code",
   "execution_count": 23,
   "metadata": {},
   "outputs": [
    {
     "name": "stdout",
     "output_type": "stream",
     "text": [
      "59\n"
     ]
    },
    {
     "data": {
      "image/png": "[encoded data removed]",
      "text/plain": [
       "<Figure size 432x288 with 1 Axes>"
      ]
     },
     "metadata": {},
     "output_type": "display_data"
    }
   ],
   "source": [
    "infered_on = 0 \n",
    "for i in infered_results:\n",
    "    if i[1][3] == 'Yes':\n",
    "        infered_on = infered_on + 1\n",
    "print(infered_on)\n",
    "labels = ['Yes','No']\n",
    "values = [infered_on, len(infered_results)-infered_on]\n",
    "fig1, ax1 = plt.subplots()\n",
    "explode = [0,0]\n",
    "ax1.pie(values, explode=explode, labels=labels, autopct='%1.1f%%',\n",
    "        shadow=True, startangle=90)\n",
    "ax1.axis('equal')  # Equal aspect ratio ensures that pie is drawn as a circle.\n",
    "\n",
    "plt.show()"
   ]
  },
  {
   "cell_type": "code",
   "execution_count": 24,
   "metadata": {},
   "outputs": [
    {
     "name": "stdout",
     "output_type": "stream",
     "text": [
      "58\n"
     ]
    },
    {
     "data": {
      "image/png": "[encoded data removed]",
      "text/plain": [
       "<Figure size 432x288 with 1 Axes>"
      ]
     },
     "metadata": {},
     "output_type": "display_data"
    }
   ],
   "source": [
    "infered_book = 0 \n",
    "for i in infered_results:\n",
    "    if i[1][4] == 'Yes':\n",
    "        infered_book = infered_book + 1\n",
    "print(infered_book)\n",
    "labels = ['Yes','No']\n",
    "values = [infered_book, len(infered_results)-infered_book]\n",
    "fig1, ax1 = plt.subplots()\n",
    "explode = [0,0]\n",
    "ax1.pie(values, explode=explode, labels=labels, autopct='%1.1f%%',\n",
    "        shadow=True, startangle=90)\n",
    "ax1.axis('equal')  # Equal aspect ratio ensures that pie is drawn as a circle.\n",
    "\n",
    "plt.show()"
   ]
  },
  {
   "cell_type": "code",
   "execution_count": 62,
   "metadata": {
    "scrolled": false
   },
   "outputs": [
    {
     "name": "stdout",
     "output_type": "stream",
     "text": [
      "The two most popular cuisines are\n",
      "1.North Indian\n",
      "2.Cafe\n"
     ]
    }
   ],
   "source": [
    "#Which is the most popular Cuisine one rating is maximized?\n",
    "infered_cus = {}\n",
    "for i in infered_results:\n",
    "    if not i[1][1] in infered_cus:\n",
    "        infered_cus[i[1][1]] = 1\n",
    "    else:\n",
    "        infered_cus[i[1][1]] = infered_cus[i[1][1]] + 1\n",
    "\n",
    "print(\"The two most popular cuisines are\")\n",
    "print(\"1.\"+sorted(infered_cus,key = lambda x: -infered_cus[x])[0]+\"\\n2.\"+sorted(infered_cus,key = lambda x: -infered_cus[x])[1])"
   ]
  },
  {
   "cell_type": "code",
   "execution_count": 69,
   "metadata": {},
   "outputs": [
    {
     "name": "stdout",
     "output_type": "stream",
     "text": [
      "Average price per restaurant:\n",
      "1200\n"
     ]
    }
   ],
   "source": [
    "# What is the average price people would pay if all restaurant's ratings were maximized\n",
    "total_price = 0\n",
    "for i in infered_results:\n",
    "    total_price = total_price + i[1][0]\n",
    "\n",
    "print(\"Average price per restaurant:\")\n",
    "print((int(total_price/len(infered_results))//100)*100)"
   ]
  },
  {
   "cell_type": "code",
   "execution_count": 89,
   "metadata": {},
   "outputs": [
    {
     "name": "stdout",
     "output_type": "stream",
     "text": [
      "[0.25050136028226616, 0.12314376040041519, 0.36022348004531934, 0.024811551471867553, 0.24131984780013163]\n"
     ]
    }
   ],
   "source": [
    "print(list(regressor.feature_importances_))"
   ]
  },
  {
   "cell_type": "code",
   "execution_count": 114,
   "metadata": {},
   "outputs": [
    {
     "name": "stdout",
     "output_type": "stream",
     "text": [
      "HSR\n",
      "Recommended:\n",
      "Price for two:1000\n",
      "Cuisine:North Indian\n",
      "Allow online order:No\n",
      "Allow Online Booking:Yes\n",
      "\n",
      "Expected rating 4.7\n"
     ]
    }
   ],
   "source": [
    "#Driver Code which recommeds optimal price for 2, Cuisine, Allow online order Allow online booking in order to maximize rating\n",
    "k = input()\n",
    "for i in infered_results:\n",
    "    if k == i[1][2]:\n",
    "        print(\"Recommended:\\nPrice for two:%s\\nCuisine:%s\\nAllow online order:%s\\nAllow Online Booking:%s\\n\"%(str(i[1][0]),i[1][1],i[1][3],i[1][4]))\n",
    "        print(\"Expected rating \"+str(i[0]))"
   ]
  },
  {
   "cell_type": "code",
   "execution_count": 115,
   "metadata": {},
   "outputs": [
    {
     "data": {
      "text/plain": [
       "[[4.72, [1600, 'North Indian', 'Banashankari', 'No', 'Yes']],\n",
       " [4.72, [1600, 'North Indian', 'Basavanagudi', 'No', 'Yes']],\n",
       " [4.72, [1600, 'North Indian', 'Mysore Road', 'No', 'Yes']],\n",
       " [4.72, [1600, 'North Indian', 'Jayanagar', 'No', 'Yes']],\n",
       " [4.72, [1600, 'North Indian', 'Kumaraswamy Layout', 'No', 'Yes']],\n",
       " [4.72, [1600, 'North Indian', 'Rajarajeshwari Nagar', 'No', 'Yes']],\n",
       " [4.72, [1600, 'North Indian', 'Vijay Nagar', 'No', 'Yes']],\n",
       " [4.72, [1600, 'North Indian', 'Uttarahalli', 'No', 'Yes']],\n",
       " [4.72, [1600, 'North Indian', 'JP Nagar', 'No', 'Yes']],\n",
       " [4.72, [1600, 'North Indian', 'South Bangalore', 'No', 'Yes']],\n",
       " [4.72, [1600, 'North Indian', 'City Market', 'No', 'Yes']],\n",
       " [4.9, [1600, 'North Indian', 'Nagarbhavi', 'No', 'Yes']],\n",
       " [4.9, [1600, 'North Indian', 'Bannerghatta Road', 'No', 'Yes']],\n",
       " [4.9, [1600, 'North Indian', 'BTM', 'No', 'Yes']],\n",
       " [4.9, [1600, 'North Indian', 'Kanakapura Road', 'No', 'Yes']],\n",
       " [4.5, [600, 'Cafe', 'Bommanahalli', 'Yes', 'Yes']],\n",
       " [4.5, [600, 'Cafe', 'Electronic City', 'Yes', 'Yes']],\n",
       " [4.7, [1000, 'North Indian', 'HSR', 'No', 'Yes']],\n",
       " [4.9, [1600, 'Chinese', 'Marathahalli', 'Yes', 'Yes']],\n",
       " [4.9, [1600, 'North Indian', 'Sarjapur Road', 'Yes', 'Yes']],\n",
       " [4.9, [1600, 'North Indian', 'Wilson Garden', 'Yes', 'Yes']],\n",
       " [4.9, [1600, 'Chinese', 'Shanti Nagar', 'Yes', 'Yes']],\n",
       " [4.9, [1600, 'Chinese', 'Koramangala 5th Block', 'Yes', 'Yes']],\n",
       " [4.9, [1600, 'Chinese', 'Koramangala 8th Block', 'Yes', 'Yes']],\n",
       " [4.9, [1600, 'Chinese', 'Richmond Road', 'Yes', 'Yes']],\n",
       " [4.9, [1600, 'Chinese', 'Jalahalli', 'Yes', 'Yes']],\n",
       " [4.9, [1600, 'Chinese', 'Koramangala 7th Block', 'Yes', 'Yes']],\n",
       " [4.73, [1600, 'North Indian', 'Koramangala 4th Block', 'No', 'Yes']],\n",
       " [4.73, [1600, 'North Indian', 'Bellandur', 'No', 'Yes']],\n",
       " [4.9, [1400, 'North Indian', 'Whitefield', 'No', 'Yes']],\n",
       " [4.9, [1400, 'North Indian', 'East Bangalore', 'No', 'Yes']],\n",
       " [4.7, [1600, 'North Indian', 'Old Airport Road', 'No', 'Yes']],\n",
       " [4.7, [1600, 'North Indian', 'Koramangala 1st Block', 'No', 'Yes']],\n",
       " [4.7, [1600, 'North Indian', 'RT Nagar', 'No', 'Yes']],\n",
       " [4.7, [1600, 'North Indian', 'MG Road', 'No', 'Yes']],\n",
       " [4.7, [1600, 'North Indian', 'Brigade Road', 'No', 'Yes']],\n",
       " [4.7, [1600, 'North Indian', 'Lavelle Road', 'No', 'Yes']],\n",
       " [4.6, [1400, 'Desserts', 'Ulsoor', 'Yes', 'No']],\n",
       " [4.6, [1200, 'Cafe', 'Church Street', 'Yes', 'No']],\n",
       " [4.66, [800, 'Continental', 'Residency Road', 'No', 'No']],\n",
       " [4.66, [800, 'Continental', 'Shivajinagar', 'No', 'No']],\n",
       " [4.66, [800, 'Continental', 'Infantry Road', 'No', 'No']],\n",
       " [4.66, [800, 'Continental', 'St. Marks Road', 'No', 'No']],\n",
       " [4.6, [800, 'Cafe', 'Cunningham Road', 'Yes', 'No']],\n",
       " [4.6, [800, 'Cafe', 'Race Course Road', 'Yes', 'No']],\n",
       " [4.6, [200, 'Desserts', 'Commercial Street', 'No', 'No']],\n",
       " [4.9, [2000, 'North Indian', 'Vasanth Nagar', 'Yes', 'Yes']],\n",
       " [4.9, [2000, 'North Indian', 'HBR Layout', 'Yes', 'Yes']],\n",
       " [4.9, [2000, 'North Indian', 'Domlur', 'Yes', 'Yes']],\n",
       " [4.9, [2000, 'North Indian', 'Indiranagar', 'Yes', 'Yes']],\n",
       " [4.9, [2000, 'North Indian', 'Frazer Town', 'Yes', 'Yes']],\n",
       " [4.9, [2000, 'North Indian', 'Ejipura', 'Yes', 'Yes']],\n",
       " [4.9, [2000, 'North Indian', 'Jeevan Bhima Nagar', 'Yes', 'Yes']],\n",
       " [4.9, [2000, 'North Indian', 'Old Madras Road', 'Yes', 'Yes']],\n",
       " [4.9, [2000, 'North Indian', 'Malleshwaram', 'Yes', 'Yes']],\n",
       " [4.9, [2000, 'North Indian', 'Kammanahalli', 'Yes', 'Yes']],\n",
       " [4.6, [800, 'Cafe', 'Majestic', 'Yes', 'No']],\n",
       " [4.6, [800, 'Cafe', 'Koramangala 6th Block', 'Yes', 'No']],\n",
       " [4.6, [800, 'Cafe', 'Langford Town', 'Yes', 'No']],\n",
       " [4.6, [800, 'Cafe', 'Central Bangalore', 'Yes', 'No']],\n",
       " [4.6, [800, 'Cafe', 'Sanjay Nagar', 'Yes', 'No']],\n",
       " [4.6, [800, 'Cafe', 'Brookefield', 'Yes', 'No']],\n",
       " [4.6, [1600, 'South Indian', 'ITPL Main Road, Whitefield', 'Yes', 'Yes']],\n",
       " [4.6, [1600, 'South Indian', 'Varthur Main Road, Whitefield', 'Yes', 'Yes']],\n",
       " [4.6, [1600, 'South Indian', 'KR Puram', 'Yes', 'Yes']],\n",
       " [4.6, [1600, 'South Indian', 'Koramangala 2nd Block', 'Yes', 'Yes']],\n",
       " [4.6, [1600, 'South Indian', 'Koramangala 3rd Block', 'Yes', 'Yes']],\n",
       " [4.6, [1600, 'South Indian', 'Koramangala', 'Yes', 'Yes']],\n",
       " [4.8, [200, 'Desserts', 'Hosur Road', 'No', 'No']],\n",
       " [4.8, [200, 'Desserts', 'Rajajinagar', 'No', 'No']],\n",
       " [4.8, [200, 'Desserts', 'Seshadripuram', 'No', 'No']],\n",
       " [4.6, [1600, 'South Indian', 'Banaswadi', 'Yes', 'Yes']],\n",
       " [4.6, [1600, 'South Indian', 'North Bangalore', 'Yes', 'Yes']],\n",
       " [4.6, [1600, 'South Indian', 'Nagawara', 'Yes', 'Yes']],\n",
       " [4.6, [1600, 'South Indian', 'Hennur', 'Yes', 'Yes']],\n",
       " [4.6, [1600, 'South Indian', 'Kalyan Nagar', 'Yes', 'Yes']],\n",
       " [4.7, [800, 'Cafe', 'New BEL Road', 'Yes', 'No']],\n",
       " [4.7, [800, 'Cafe', 'Jakkur', 'Yes', 'No']],\n",
       " [4.7, [800, 'Cafe', 'Rammurthy Nagar', 'Yes', 'No']],\n",
       " [4.7, [800, 'Cafe', 'Thippasandra', 'Yes', 'No']],\n",
       " [4.7, [800, 'Cafe', 'CV Raman Nagar', 'Yes', 'No']],\n",
       " [4.7, [800, 'Cafe', 'Kaggadasapura', 'Yes', 'No']],\n",
       " [4.7, [800, 'Cafe', 'Kengeri', 'Yes', 'No']],\n",
       " [4.7, [800, 'Cafe', 'Sankey Road', 'Yes', 'No']],\n",
       " [4.7, [800, 'Cafe', 'Sadashiv Nagar', 'Yes', 'No']],\n",
       " [4.7, [800, 'Cafe', 'Basaveshwara Nagar', 'Yes', 'No']],\n",
       " [4.7, [800, 'Cafe', 'Yeshwantpur', 'Yes', 'No']],\n",
       " [4.7, [800, 'Cafe', 'West Bangalore', 'Yes', 'No']],\n",
       " [4.7, [800, 'Cafe', 'Yelahanka', 'Yes', 'No']],\n",
       " [4.7, [800, 'Cafe', 'Sahakara Nagar', 'Yes', 'No']],\n",
       " [4.7, [800, 'Cafe', 'Hebbal', 'Yes', 'No']],\n",
       " [4.7, [800, 'Cafe', 'Magadi Road', 'Yes', 'No']],\n",
       " [4.7, [800, 'Cafe', 'Peenya', 'Yes', 'No']]]"
      ]
     },
     "execution_count": 115,
     "metadata": {},
     "output_type": "execute_result"
    }
   ],
   "source": [
    "infered_results"
   ]
  },
  {
   "cell_type": "code",
   "execution_count": null,
   "metadata": {},
   "outputs": [],
   "source": []
  }
 ],
 "metadata": {
  "kernelspec": {
   "display_name": "Python 3",
   "language": "python",
   "name": "python3"
  },
  "language_info": {
   "codemirror_mode": {
    "name": "ipython",
    "version": 3
   },
   "file_extension": ".py",
   "mimetype": "text/x-python",
   "name": "python",
   "nbconvert_exporter": "python",
   "pygments_lexer": "ipython3",
   "version": "3.7.3"
  }
 },
 "nbformat": 4,
 "nbformat_minor": 2
}
