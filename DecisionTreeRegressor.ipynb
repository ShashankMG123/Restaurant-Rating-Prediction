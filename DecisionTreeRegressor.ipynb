{
 "cells": [
  {
   "cell_type": "code",
   "execution_count": 1,
   "metadata": {},
   "outputs": [],
   "source": [
    "import pandas as pd\n",
    "import numpy as np\n",
    "import seaborn as sns\n",
    "import matplotlib.pyplot as plt\n",
    "import operator\n",
    "import math\n",
    "from sklearn.model_selection import train_test_split\n",
    "from sklearn.tree import DecisionTreeRegressor \n",
    "%matplotlib inline"
   ]
  },
  {
   "cell_type": "code",
   "execution_count": 2,
   "metadata": {},
   "outputs": [],
   "source": [
    "#df = pd.read_csv(\"/home/hp/Desktop/College/Sem5/DA/Project/zomato-bangalore-restaurants/zomato.csv\")\n",
    "#Read cleaned Data\n",
    "mylist = []\n",
    "\n",
    "for chunk in  pd.read_csv(\"/home/hp/Desktop/College/Sem5/DA/Project/newzomato.csv\", sep=',', chunksize=20000):\n",
    "    mylist.append(chunk)\n",
    "\n",
    "big_data = pd.concat(mylist, axis= 0)\n",
    "df = big_data\n",
    "\n",
    "del mylist"
   ]
  },
  {
   "cell_type": "code",
   "execution_count": 3,
   "metadata": {},
   "outputs": [
    {
     "data": {
      "text/plain": [
       "name                              0\n",
       "online_order                      0\n",
       "book_table                        0\n",
       "rate                           9970\n",
       "location                          0\n",
       "approx_cost(for two people)     314\n",
       "listed_in(type)                   0\n",
       "Cuisine1                          0\n",
       "Cuisine2                          0\n",
       "rest1                             0\n",
       "dtype: int64"
      ]
     },
     "execution_count": 3,
     "metadata": {},
     "output_type": "execute_result"
    }
   ],
   "source": [
    "df.isnull().sum()"
   ]
  },
  {
   "cell_type": "code",
   "execution_count": 4,
   "metadata": {},
   "outputs": [],
   "source": [
    "#Fill na values with median\n",
    "df['rate'].fillna((df['rate'].median()), inplace=True)\n",
    "df['approx_cost(for two people)'].fillna((df['approx_cost(for two people)'].median()), inplace=True)"
   ]
  },
  {
   "cell_type": "code",
   "execution_count": 5,
   "metadata": {},
   "outputs": [],
   "source": [
    "#transform columns i.e factorize the data as there are categorical data\n",
    "transformed_df = df.copy()\n",
    "transformed_df['new_Cuisine1'], _ = pd.factorize(transformed_df['Cuisine1'], sort=True)\n",
    "transformed_df['new_rest1'], _ = pd.factorize(transformed_df['rest1'], sort=True)\n",
    "transformed_df['new_listed_in'], _ = pd.factorize(transformed_df['listed_in(type)'], sort=True)\n",
    "transformed_df['new_location'], _ = pd.factorize(transformed_df['location'], sort=True)\n",
    "transformed_df['new_online_order'], _ = pd.factorize(transformed_df['online_order'], sort=True)\n",
    "transformed_df['new_book_table'], _ = pd.factorize(transformed_df['book_table'], sort=True)\n",
    "\n",
    "to_drop = ['Cuisine1',\n",
    "           'Cuisine2',\n",
    "           'rest1',\n",
    "           'listed_in(type)',\n",
    "           'location',\n",
    "           'online_order',\n",
    "           'book_table',\n",
    "           'name']\n",
    "transformed_df.drop(to_drop, inplace=True, axis=1)\n",
    "transformed_df.dropna(how='any', inplace=True)"
   ]
  },
  {
   "cell_type": "code",
   "execution_count": 6,
   "metadata": {},
   "outputs": [],
   "source": [
    "train, test = train_test_split(transformed_df, test_size=0.2)"
   ]
  },
  {
   "cell_type": "code",
   "execution_count": 7,
   "metadata": {},
   "outputs": [],
   "source": [
    "train_x = train.loc[:, train.columns != 'rate']\n",
    "train_y = train.loc[:, train.columns == 'rate']\n",
    "test_x = test.loc[:, test.columns != 'rate']\n",
    "test_y = test.loc[:, test.columns == 'rate']"
   ]
  },
  {
   "cell_type": "code",
   "execution_count": 8,
   "metadata": {},
   "outputs": [],
   "source": [
    "#decision tree regressor model\n",
    "regressor = DecisionTreeRegressor(random_state = 0)"
   ]
  },
  {
   "cell_type": "code",
   "execution_count": 9,
   "metadata": {},
   "outputs": [
    {
     "data": {
      "text/plain": [
       "DecisionTreeRegressor(criterion='mse', max_depth=None, max_features=None,\n",
       "           max_leaf_nodes=None, min_impurity_decrease=0.0,\n",
       "           min_impurity_split=None, min_samples_leaf=1,\n",
       "           min_samples_split=2, min_weight_fraction_leaf=0.0,\n",
       "           presort=False, random_state=0, splitter='best')"
      ]
     },
     "execution_count": 9,
     "metadata": {},
     "output_type": "execute_result"
    }
   ],
   "source": [
    "regressor.fit(train_x, train_y)"
   ]
  },
  {
   "cell_type": "code",
   "execution_count": 10,
   "metadata": {},
   "outputs": [],
   "source": [
    "y_pred = list(regressor.predict(test_x))"
   ]
  },
  {
   "cell_type": "code",
   "execution_count": 11,
   "metadata": {},
   "outputs": [
    {
     "name": "stdout",
     "output_type": "stream",
     "text": [
      "0.7420304070622854\n"
     ]
    }
   ],
   "source": [
    "#Metric for the built model\n",
    "y_pred = np.around(y_pred,decimals=1)\n",
    "test_y = list(test_y['rate'])\n",
    "y_pred = list(y_pred)\n",
    "acc = 0\n",
    "for i in range(len(y_pred)):\n",
    "    if(round((y_pred[i] - test_y[i]),1)<0.1):\n",
    "        acc = acc + 1\n",
    "\n",
    "print(acc/len(y_pred))"
   ]
  },
  {
   "cell_type": "code",
   "execution_count": 12,
   "metadata": {},
   "outputs": [
    {
     "data": {
      "text/plain": [
       "array([0.22370553, 0.13781938, 0.09022866, 0.04519891, 0.24831713,\n",
       "       0.04339988, 0.2113305 ])"
      ]
     },
     "execution_count": 12,
     "metadata": {},
     "output_type": "execute_result"
    }
   ],
   "source": [
    "regressor.feature_importances_"
   ]
  }
 ],
 "metadata": {
  "kernelspec": {
   "display_name": "Python 3",
   "language": "python",
   "name": "python3"
  },
  "language_info": {
   "codemirror_mode": {
    "name": "ipython",
    "version": 3
   },
   "file_extension": ".py",
   "mimetype": "text/x-python",
   "name": "python",
   "nbconvert_exporter": "python",
   "pygments_lexer": "ipython3",
   "version": "3.7.3"
  }
 },
 "nbformat": 4,
 "nbformat_minor": 2
}
