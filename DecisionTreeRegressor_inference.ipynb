{
 "cells": [
  {
   "cell_type": "code",
   "execution_count": 25,
   "metadata": {},
   "outputs": [],
   "source": [
    "import pandas as pd\n",
    "import numpy as np\n",
    "import seaborn as sns\n",
    "import matplotlib.pyplot as plt\n",
    "import operator\n",
    "import math\n",
    "from sklearn.model_selection import train_test_split\n",
    "from sklearn.tree import DecisionTreeRegressor \n",
    "import itertools\n",
    "import plotly.offline as py\n",
    "import plotly.graph_objs as go\n",
    "from geopy.geocoders import Nominatim\n",
    "import folium\n",
    "from folium import *\n",
    "import plotly.graph_objects as go\n",
    "%matplotlib inline"
   ]
  },
  {
   "cell_type": "code",
   "execution_count": 75,
   "metadata": {},
   "outputs": [],
   "source": [
    "location_csv = \"/home/hp/Desktop/College/Sem5/DA/Project/Restaurant-Rating-Prediction/my_location.csv\"\n",
    "infzomato_csv = \"/home/hp/Desktop/College/Sem5/DA/Project/infzomato.csv\""
   ]
  },
  {
   "cell_type": "code",
   "execution_count": 76,
   "metadata": {},
   "outputs": [],
   "source": [
    "#df = pd.read_csv(\"/home/hp/Desktop/College/Sem5/DA/Project/zomato-bangalore-restaurants/zomato.csv\")\n",
    "mylist = []\n",
    "\n",
    "for chunk in  pd.read_csv(\"/home/hp/Desktop/College/Sem5/DA/Project/newzomato.csv\", sep=',', chunksize=20000):\n",
    "    mylist.append(chunk)\n",
    "\n",
    "big_data = pd.concat(mylist, axis= 0)\n",
    "df = big_data\n",
    "\n",
    "del mylist\n"
   ]
  },
  {
   "cell_type": "code",
   "execution_count": 77,
   "metadata": {},
   "outputs": [],
   "source": [
    "#Nans values are filled in with median of the particular\n",
    "df['rate'].fillna((df['rate'].median()), inplace=True)\n",
    "df['approx_cost(for two people)'].fillna((df['approx_cost(for two people)'].median()), inplace=True)"
   ]
  },
  {
   "cell_type": "code",
   "execution_count": 78,
   "metadata": {},
   "outputs": [],
   "source": [
    "transformed_df = df.copy()\n",
    "all_cus = list(df['Cuisine1'])\n",
    "temp = set(all_cus)\n",
    "k = []\n",
    "\n",
    "for i in temp:\n",
    "    k.append((i,all_cus.count(i)))\n",
    "    \n",
    "for i in k:\n",
    "    if(i[1]<1100):\n",
    "        transformed_df = transformed_df[transformed_df['Cuisine1']!=i[0]]"
   ]
  },
  {
   "cell_type": "code",
   "execution_count": 79,
   "metadata": {},
   "outputs": [],
   "source": [
    "#factorize the categorical variables \n",
    "transformed_df['new_Cuisine1'], cus_label = pd.factorize(transformed_df['Cuisine1'], sort=False)\n",
    "transformed_df['new_location'], loc_label = pd.factorize(transformed_df['location'], sort=False)\n",
    "transformed_df['new_online_order'], on_label = pd.factorize(transformed_df['online_order'], sort=False)\n",
    "transformed_df['new_book_table'], book_label = pd.factorize(transformed_df['book_table'], sort=False)\n",
    "\n",
    "to_drop = ['Cuisine1',\n",
    "           'Cuisine2',\n",
    "           'rest1',\n",
    "           'listed_in(type)',\n",
    "           'location',\n",
    "           'online_order',\n",
    "           'book_table',\n",
    "           'name']\n",
    "transformed_df.drop(to_drop, inplace=True, axis=1)\n",
    "transformed_df.dropna(how='any', inplace=True)\n"
   ]
  },
  {
   "cell_type": "markdown",
   "metadata": {},
   "source": [
    "Decision tree regressor model parameters selecting based on feature importance in the previous file"
   ]
  },
  {
   "cell_type": "code",
   "execution_count": 80,
   "metadata": {},
   "outputs": [],
   "source": [
    "train, test = train_test_split(transformed_df, test_size=0.2)"
   ]
  },
  {
   "cell_type": "code",
   "execution_count": 81,
   "metadata": {},
   "outputs": [],
   "source": [
    "train_x = train.loc[:, train.columns != 'rate']\n",
    "train_y = train.loc[:, train.columns == 'rate']\n",
    "test_x = test.loc[:, test.columns != 'rate']\n",
    "test_y = test.loc[:, test.columns == 'rate']"
   ]
  },
  {
   "cell_type": "code",
   "execution_count": 82,
   "metadata": {},
   "outputs": [],
   "source": [
    "#The count of certain cuisines are very less due to which the model can be biased.\n",
    "#All cuisines with the count < 1000 are dropped \n",
    "temp = []\n",
    "cus = list(set(list(train_x['new_Cuisine1'])))\n",
    "for i in cus:\n",
    "    temp.append(cus_label[i])\n",
    "    \n",
    "all_cus = list(df['Cuisine1'])\n",
    "k = []\n",
    "\n",
    "for i in temp:\n",
    "    k.append((i,all_cus.count(i)))\n",
    "    \n",
    "for i in k:\n",
    "    if(i[1]<1000):\n",
    "        transformed_df = transformed_df[transformed_df['Cuisine1']!=i[0]]\n"
   ]
  },
  {
   "cell_type": "code",
   "execution_count": 83,
   "metadata": {},
   "outputs": [],
   "source": [
    "regressor = DecisionTreeRegressor(random_state = 0)"
   ]
  },
  {
   "cell_type": "code",
   "execution_count": 84,
   "metadata": {},
   "outputs": [
    {
     "data": {
      "text/plain": [
       "DecisionTreeRegressor(criterion='mse', max_depth=None, max_features=None,\n",
       "           max_leaf_nodes=None, min_impurity_decrease=0.0,\n",
       "           min_impurity_split=None, min_samples_leaf=1,\n",
       "           min_samples_split=2, min_weight_fraction_leaf=0.0,\n",
       "           presort=False, random_state=0, splitter='best')"
      ]
     },
     "execution_count": 84,
     "metadata": {},
     "output_type": "execute_result"
    }
   ],
   "source": [
    "regressor.fit(train_x, train_y)"
   ]
  },
  {
   "cell_type": "code",
   "execution_count": 85,
   "metadata": {},
   "outputs": [],
   "source": [
    "y_pred = list(regressor.predict(test_x))"
   ]
  },
  {
   "cell_type": "code",
   "execution_count": 86,
   "metadata": {},
   "outputs": [
    {
     "name": "stdout",
     "output_type": "stream",
     "text": [
      "6544\n",
      "0.7363564757510971\n"
     ]
    }
   ],
   "source": [
    "y_pred = np.around(y_pred,decimals=1)\n",
    "test_y = list(test_y['rate'])\n",
    "y_pred = list(y_pred)\n",
    "acc = 0\n",
    "for i in range(len(y_pred)):\n",
    "    if(round((y_pred[i] - test_y[i]),1)<0.1):\n",
    "        acc = acc + 1\n",
    "print(acc)\n",
    "print(acc/len(y_pred))"
   ]
  },
  {
   "cell_type": "markdown",
   "metadata": {},
   "source": [
    "we would like to find the attributes of restraunt in each location so as to miximize their rating"
   ]
  },
  {
   "cell_type": "code",
   "execution_count": 87,
   "metadata": {},
   "outputs": [],
   "source": [
    "#Generating all possible combinations of attributes for a particular location \n",
    "apprx = [200,400,600,800,1000,1200,1400,1600,1800,2000]\n",
    "cus = list(set(list(train_x['new_Cuisine1'])))\n",
    "online = [0,1]\n",
    "book = [0,1]\n",
    "infered_results = []\n",
    "for i in list(set(list(train_x['new_location']))):\n",
    "    m  = [0,[]]\n",
    "    loc = [i]\n",
    "    k = [apprx,cus,loc,online,book]\n",
    "    for element in  itertools.product(*k):\n",
    "        p = round(list(regressor.predict([element]))[0],2)\n",
    "        if(p>m[0]):\n",
    "            m[0] = p\n",
    "            m[1] = [element[0],cus_label[element[1]],loc_label[element[2]],on_label[element[3]],book_label[element[4]]]\n",
    "    infered_results.append(m)"
   ]
  },
  {
   "cell_type": "code",
   "execution_count": 88,
   "metadata": {},
   "outputs": [
    {
     "data": {
      "application/vnd.plotly.v1+json": {
       "config": {
        "linkText": "Export to plot.ly",
        "plotlyServerURL": "https://plot.ly",
        "showLink": false
       },
       "data": [
        {
         "labels": [
          "Yes",
          "No"
         ],
         "marker": {
          "colors": [
           "#00203FFF",
           "#ADEFD1FF"
          ],
          "line": {
           "color": "#000000",
           "width": 2
          }
         },
         "textinfo": "value",
         "type": "pie",
         "values": [
          66,
          27
         ]
        }
       ],
       "layout": {
        "height": 500,
        "template": {
         "data": {
          "bar": [
           {
            "error_x": {
             "color": "#2a3f5f"
            },
            "error_y": {
             "color": "#2a3f5f"
            },
            "marker": {
             "line": {
              "color": "#E5ECF6",
              "width": 0.5
             }
            },
            "type": "bar"
           }
          ],
          "barpolar": [
           {
            "marker": {
             "line": {
              "color": "#E5ECF6",
              "width": 0.5
             }
            },
            "type": "barpolar"
           }
          ],
          "carpet": [
           {
            "aaxis": {
             "endlinecolor": "#2a3f5f",
             "gridcolor": "white",
             "linecolor": "white",
             "minorgridcolor": "white",
             "startlinecolor": "#2a3f5f"
            },
            "baxis": {
             "endlinecolor": "#2a3f5f",
             "gridcolor": "white",
             "linecolor": "white",
             "minorgridcolor": "white",
             "startlinecolor": "#2a3f5f"
            },
            "type": "carpet"
           }
          ],
          "choropleth": [
           {
            "colorbar": {
             "outlinewidth": 0,
             "ticks": ""
            },
            "type": "choropleth"
           }
          ],
          "contour": [
           {
            "colorbar": {
             "outlinewidth": 0,
             "ticks": ""
            },
            "colorscale": [
             [
              0,
              "#0d0887"
             ],
             [
              0.1111111111111111,
              "#46039f"
             ],
             [
              0.2222222222222222,
              "#7201a8"
             ],
             [
              0.3333333333333333,
              "#9c179e"
             ],
             [
              0.4444444444444444,
              "#bd3786"
             ],
             [
              0.5555555555555556,
              "#d8576b"
             ],
             [
              0.6666666666666666,
              "#ed7953"
             ],
             [
              0.7777777777777778,
              "#fb9f3a"
             ],
             [
              0.8888888888888888,
              "#fdca26"
             ],
             [
              1,
              "#f0f921"
             ]
            ],
            "type": "contour"
           }
          ],
          "contourcarpet": [
           {
            "colorbar": {
             "outlinewidth": 0,
             "ticks": ""
            },
            "type": "contourcarpet"
           }
          ],
          "heatmap": [
           {
            "colorbar": {
             "outlinewidth": 0,
             "ticks": ""
            },
            "colorscale": [
             [
              0,
              "#0d0887"
             ],
             [
              0.1111111111111111,
              "#46039f"
             ],
             [
              0.2222222222222222,
              "#7201a8"
             ],
             [
              0.3333333333333333,
              "#9c179e"
             ],
             [
              0.4444444444444444,
              "#bd3786"
             ],
             [
              0.5555555555555556,
              "#d8576b"
             ],
             [
              0.6666666666666666,
              "#ed7953"
             ],
             [
              0.7777777777777778,
              "#fb9f3a"
             ],
             [
              0.8888888888888888,
              "#fdca26"
             ],
             [
              1,
              "#f0f921"
             ]
            ],
            "type": "heatmap"
           }
          ],
          "heatmapgl": [
           {
            "colorbar": {
             "outlinewidth": 0,
             "ticks": ""
            },
            "colorscale": [
             [
              0,
              "#0d0887"
             ],
             [
              0.1111111111111111,
              "#46039f"
             ],
             [
              0.2222222222222222,
              "#7201a8"
             ],
             [
              0.3333333333333333,
              "#9c179e"
             ],
             [
              0.4444444444444444,
              "#bd3786"
             ],
             [
              0.5555555555555556,
              "#d8576b"
             ],
             [
              0.6666666666666666,
              "#ed7953"
             ],
             [
              0.7777777777777778,
              "#fb9f3a"
             ],
             [
              0.8888888888888888,
              "#fdca26"
             ],
             [
              1,
              "#f0f921"
             ]
            ],
            "type": "heatmapgl"
           }
          ],
          "histogram": [
           {
            "marker": {
             "colorbar": {
              "outlinewidth": 0,
              "ticks": ""
             }
            },
            "type": "histogram"
           }
          ],
          "histogram2d": [
           {
            "colorbar": {
             "outlinewidth": 0,
             "ticks": ""
            },
            "colorscale": [
             [
              0,
              "#0d0887"
             ],
             [
              0.1111111111111111,
              "#46039f"
             ],
             [
              0.2222222222222222,
              "#7201a8"
             ],
             [
              0.3333333333333333,
              "#9c179e"
             ],
             [
              0.4444444444444444,
              "#bd3786"
             ],
             [
              0.5555555555555556,
              "#d8576b"
             ],
             [
              0.6666666666666666,
              "#ed7953"
             ],
             [
              0.7777777777777778,
              "#fb9f3a"
             ],
             [
              0.8888888888888888,
              "#fdca26"
             ],
             [
              1,
              "#f0f921"
             ]
            ],
            "type": "histogram2d"
           }
          ],
          "histogram2dcontour": [
           {
            "colorbar": {
             "outlinewidth": 0,
             "ticks": ""
            },
            "colorscale": [
             [
              0,
              "#0d0887"
             ],
             [
              0.1111111111111111,
              "#46039f"
             ],
             [
              0.2222222222222222,
              "#7201a8"
             ],
             [
              0.3333333333333333,
              "#9c179e"
             ],
             [
              0.4444444444444444,
              "#bd3786"
             ],
             [
              0.5555555555555556,
              "#d8576b"
             ],
             [
              0.6666666666666666,
              "#ed7953"
             ],
             [
              0.7777777777777778,
              "#fb9f3a"
             ],
             [
              0.8888888888888888,
              "#fdca26"
             ],
             [
              1,
              "#f0f921"
             ]
            ],
            "type": "histogram2dcontour"
           }
          ],
          "mesh3d": [
           {
            "colorbar": {
             "outlinewidth": 0,
             "ticks": ""
            },
            "type": "mesh3d"
           }
          ],
          "parcoords": [
           {
            "line": {
             "colorbar": {
              "outlinewidth": 0,
              "ticks": ""
             }
            },
            "type": "parcoords"
           }
          ],
          "pie": [
           {
            "automargin": true,
            "type": "pie"
           }
          ],
          "scatter": [
           {
            "marker": {
             "colorbar": {
              "outlinewidth": 0,
              "ticks": ""
             }
            },
            "type": "scatter"
           }
          ],
          "scatter3d": [
           {
            "line": {
             "colorbar": {
              "outlinewidth": 0,
              "ticks": ""
             }
            },
            "marker": {
             "colorbar": {
              "outlinewidth": 0,
              "ticks": ""
             }
            },
            "type": "scatter3d"
           }
          ],
          "scattercarpet": [
           {
            "marker": {
             "colorbar": {
              "outlinewidth": 0,
              "ticks": ""
             }
            },
            "type": "scattercarpet"
           }
          ],
          "scattergeo": [
           {
            "marker": {
             "colorbar": {
              "outlinewidth": 0,
              "ticks": ""
             }
            },
            "type": "scattergeo"
           }
          ],
          "scattergl": [
           {
            "marker": {
             "colorbar": {
              "outlinewidth": 0,
              "ticks": ""
             }
            },
            "type": "scattergl"
           }
          ],
          "scattermapbox": [
           {
            "marker": {
             "colorbar": {
              "outlinewidth": 0,
              "ticks": ""
             }
            },
            "type": "scattermapbox"
           }
          ],
          "scatterpolar": [
           {
            "marker": {
             "colorbar": {
              "outlinewidth": 0,
              "ticks": ""
             }
            },
            "type": "scatterpolar"
           }
          ],
          "scatterpolargl": [
           {
            "marker": {
             "colorbar": {
              "outlinewidth": 0,
              "ticks": ""
             }
            },
            "type": "scatterpolargl"
           }
          ],
          "scatterternary": [
           {
            "marker": {
             "colorbar": {
              "outlinewidth": 0,
              "ticks": ""
             }
            },
            "type": "scatterternary"
           }
          ],
          "surface": [
           {
            "colorbar": {
             "outlinewidth": 0,
             "ticks": ""
            },
            "colorscale": [
             [
              0,
              "#0d0887"
             ],
             [
              0.1111111111111111,
              "#46039f"
             ],
             [
              0.2222222222222222,
              "#7201a8"
             ],
             [
              0.3333333333333333,
              "#9c179e"
             ],
             [
              0.4444444444444444,
              "#bd3786"
             ],
             [
              0.5555555555555556,
              "#d8576b"
             ],
             [
              0.6666666666666666,
              "#ed7953"
             ],
             [
              0.7777777777777778,
              "#fb9f3a"
             ],
             [
              0.8888888888888888,
              "#fdca26"
             ],
             [
              1,
              "#f0f921"
             ]
            ],
            "type": "surface"
           }
          ],
          "table": [
           {
            "cells": {
             "fill": {
              "color": "#EBF0F8"
             },
             "line": {
              "color": "white"
             }
            },
            "header": {
             "fill": {
              "color": "#C8D4E3"
             },
             "line": {
              "color": "white"
             }
            },
            "type": "table"
           }
          ]
         },
         "layout": {
          "annotationdefaults": {
           "arrowcolor": "#2a3f5f",
           "arrowhead": 0,
           "arrowwidth": 1
          },
          "coloraxis": {
           "colorbar": {
            "outlinewidth": 0,
            "ticks": ""
           }
          },
          "colorscale": {
           "diverging": [
            [
             0,
             "#8e0152"
            ],
            [
             0.1,
             "#c51b7d"
            ],
            [
             0.2,
             "#de77ae"
            ],
            [
             0.3,
             "#f1b6da"
            ],
            [
             0.4,
             "#fde0ef"
            ],
            [
             0.5,
             "#f7f7f7"
            ],
            [
             0.6,
             "#e6f5d0"
            ],
            [
             0.7,
             "#b8e186"
            ],
            [
             0.8,
             "#7fbc41"
            ],
            [
             0.9,
             "#4d9221"
            ],
            [
             1,
             "#276419"
            ]
           ],
           "sequential": [
            [
             0,
             "#0d0887"
            ],
            [
             0.1111111111111111,
             "#46039f"
            ],
            [
             0.2222222222222222,
             "#7201a8"
            ],
            [
             0.3333333333333333,
             "#9c179e"
            ],
            [
             0.4444444444444444,
             "#bd3786"
            ],
            [
             0.5555555555555556,
             "#d8576b"
            ],
            [
             0.6666666666666666,
             "#ed7953"
            ],
            [
             0.7777777777777778,
             "#fb9f3a"
            ],
            [
             0.8888888888888888,
             "#fdca26"
            ],
            [
             1,
             "#f0f921"
            ]
           ],
           "sequentialminus": [
            [
             0,
             "#0d0887"
            ],
            [
             0.1111111111111111,
             "#46039f"
            ],
            [
             0.2222222222222222,
             "#7201a8"
            ],
            [
             0.3333333333333333,
             "#9c179e"
            ],
            [
             0.4444444444444444,
             "#bd3786"
            ],
            [
             0.5555555555555556,
             "#d8576b"
            ],
            [
             0.6666666666666666,
             "#ed7953"
            ],
            [
             0.7777777777777778,
             "#fb9f3a"
            ],
            [
             0.8888888888888888,
             "#fdca26"
            ],
            [
             1,
             "#f0f921"
            ]
           ]
          },
          "colorway": [
           "#636efa",
           "#EF553B",
           "#00cc96",
           "#ab63fa",
           "#FFA15A",
           "#19d3f3",
           "#FF6692",
           "#B6E880",
           "#FF97FF",
           "#FECB52"
          ],
          "font": {
           "color": "#2a3f5f"
          },
          "geo": {
           "bgcolor": "white",
           "lakecolor": "white",
           "landcolor": "#E5ECF6",
           "showlakes": true,
           "showland": true,
           "subunitcolor": "white"
          },
          "hoverlabel": {
           "align": "left"
          },
          "hovermode": "closest",
          "mapbox": {
           "style": "light"
          },
          "paper_bgcolor": "white",
          "plot_bgcolor": "#E5ECF6",
          "polar": {
           "angularaxis": {
            "gridcolor": "white",
            "linecolor": "white",
            "ticks": ""
           },
           "bgcolor": "#E5ECF6",
           "radialaxis": {
            "gridcolor": "white",
            "linecolor": "white",
            "ticks": ""
           }
          },
          "scene": {
           "xaxis": {
            "backgroundcolor": "#E5ECF6",
            "gridcolor": "white",
            "gridwidth": 2,
            "linecolor": "white",
            "showbackground": true,
            "ticks": "",
            "zerolinecolor": "white"
           },
           "yaxis": {
            "backgroundcolor": "#E5ECF6",
            "gridcolor": "white",
            "gridwidth": 2,
            "linecolor": "white",
            "showbackground": true,
            "ticks": "",
            "zerolinecolor": "white"
           },
           "zaxis": {
            "backgroundcolor": "#E5ECF6",
            "gridcolor": "white",
            "gridwidth": 2,
            "linecolor": "white",
            "showbackground": true,
            "ticks": "",
            "zerolinecolor": "white"
           }
          },
          "shapedefaults": {
           "line": {
            "color": "#2a3f5f"
           }
          },
          "ternary": {
           "aaxis": {
            "gridcolor": "white",
            "linecolor": "white",
            "ticks": ""
           },
           "baxis": {
            "gridcolor": "white",
            "linecolor": "white",
            "ticks": ""
           },
           "bgcolor": "#E5ECF6",
           "caxis": {
            "gridcolor": "white",
            "linecolor": "white",
            "ticks": ""
           }
          },
          "title": {
           "x": 0.05
          },
          "xaxis": {
           "automargin": true,
           "gridcolor": "white",
           "linecolor": "white",
           "ticks": "",
           "title": {
            "standoff": 15
           },
           "zerolinecolor": "white",
           "zerolinewidth": 2
          },
          "yaxis": {
           "automargin": true,
           "gridcolor": "white",
           "linecolor": "white",
           "ticks": "",
           "title": {
            "standoff": 15
           },
           "zerolinecolor": "white",
           "zerolinewidth": 2
          }
         }
        },
        "title": {
         "text": "Accepting vs not accepting online ordering"
        },
        "width": 500
       }
      },
      "text/html": [
       "<div>\n",
       "        \n",
       "        \n",
       "            <div id=\"28f97b8d-1e0e-4387-98ba-18a6949e7e0a\" class=\"plotly-graph-div\" style=\"height:500px; width:500px;\"></div>\n",
       "            <script type=\"text/javascript\">\n",
       "                require([\"plotly\"], function(Plotly) {\n",
       "                    window.PLOTLYENV=window.PLOTLYENV || {};\n",
       "                    \n",
       "                if (document.getElementById(\"28f97b8d-1e0e-4387-98ba-18a6949e7e0a\")) {\n",
       "                    Plotly.newPlot(\n",
       "                        '28f97b8d-1e0e-4387-98ba-18a6949e7e0a',\n",
       "                        [{\"labels\": [\"Yes\", \"No\"], \"marker\": {\"colors\": [\"#00203FFF\", \"#ADEFD1FF\"], \"line\": {\"color\": \"#000000\", \"width\": 2}}, \"textinfo\": \"value\", \"type\": \"pie\", \"values\": [66, 27]}],\n",
       "                        {\"height\": 500, \"template\": {\"data\": {\"bar\": [{\"error_x\": {\"color\": \"#2a3f5f\"}, \"error_y\": {\"color\": \"#2a3f5f\"}, \"marker\": {\"line\": {\"color\": \"#E5ECF6\", \"width\": 0.5}}, \"type\": \"bar\"}], \"barpolar\": [{\"marker\": {\"line\": {\"color\": \"#E5ECF6\", \"width\": 0.5}}, \"type\": \"barpolar\"}], \"carpet\": [{\"aaxis\": {\"endlinecolor\": \"#2a3f5f\", \"gridcolor\": \"white\", \"linecolor\": \"white\", \"minorgridcolor\": \"white\", \"startlinecolor\": \"#2a3f5f\"}, \"baxis\": {\"endlinecolor\": \"#2a3f5f\", \"gridcolor\": \"white\", \"linecolor\": \"white\", \"minorgridcolor\": \"white\", \"startlinecolor\": \"#2a3f5f\"}, \"type\": \"carpet\"}], \"choropleth\": [{\"colorbar\": {\"outlinewidth\": 0, \"ticks\": \"\"}, \"type\": \"choropleth\"}], \"contour\": [{\"colorbar\": {\"outlinewidth\": 0, \"ticks\": \"\"}, \"colorscale\": [[0.0, \"#0d0887\"], [0.1111111111111111, \"#46039f\"], [0.2222222222222222, \"#7201a8\"], [0.3333333333333333, \"#9c179e\"], [0.4444444444444444, \"#bd3786\"], [0.5555555555555556, \"#d8576b\"], [0.6666666666666666, \"#ed7953\"], [0.7777777777777778, \"#fb9f3a\"], [0.8888888888888888, \"#fdca26\"], [1.0, \"#f0f921\"]], \"type\": \"contour\"}], \"contourcarpet\": [{\"colorbar\": {\"outlinewidth\": 0, \"ticks\": \"\"}, \"type\": \"contourcarpet\"}], \"heatmap\": [{\"colorbar\": {\"outlinewidth\": 0, \"ticks\": \"\"}, \"colorscale\": [[0.0, \"#0d0887\"], [0.1111111111111111, \"#46039f\"], [0.2222222222222222, \"#7201a8\"], [0.3333333333333333, \"#9c179e\"], [0.4444444444444444, \"#bd3786\"], [0.5555555555555556, \"#d8576b\"], [0.6666666666666666, \"#ed7953\"], [0.7777777777777778, \"#fb9f3a\"], [0.8888888888888888, \"#fdca26\"], [1.0, \"#f0f921\"]], \"type\": \"heatmap\"}], \"heatmapgl\": [{\"colorbar\": {\"outlinewidth\": 0, \"ticks\": \"\"}, \"colorscale\": [[0.0, \"#0d0887\"], [0.1111111111111111, \"#46039f\"], [0.2222222222222222, \"#7201a8\"], [0.3333333333333333, \"#9c179e\"], [0.4444444444444444, \"#bd3786\"], [0.5555555555555556, \"#d8576b\"], [0.6666666666666666, \"#ed7953\"], [0.7777777777777778, \"#fb9f3a\"], [0.8888888888888888, \"#fdca26\"], [1.0, \"#f0f921\"]], \"type\": \"heatmapgl\"}], \"histogram\": [{\"marker\": {\"colorbar\": {\"outlinewidth\": 0, \"ticks\": \"\"}}, \"type\": \"histogram\"}], \"histogram2d\": [{\"colorbar\": {\"outlinewidth\": 0, \"ticks\": \"\"}, \"colorscale\": [[0.0, \"#0d0887\"], [0.1111111111111111, \"#46039f\"], [0.2222222222222222, \"#7201a8\"], [0.3333333333333333, \"#9c179e\"], [0.4444444444444444, \"#bd3786\"], [0.5555555555555556, \"#d8576b\"], [0.6666666666666666, \"#ed7953\"], [0.7777777777777778, \"#fb9f3a\"], [0.8888888888888888, \"#fdca26\"], [1.0, \"#f0f921\"]], \"type\": \"histogram2d\"}], \"histogram2dcontour\": [{\"colorbar\": {\"outlinewidth\": 0, \"ticks\": \"\"}, \"colorscale\": [[0.0, \"#0d0887\"], [0.1111111111111111, \"#46039f\"], [0.2222222222222222, \"#7201a8\"], [0.3333333333333333, \"#9c179e\"], [0.4444444444444444, \"#bd3786\"], [0.5555555555555556, \"#d8576b\"], [0.6666666666666666, \"#ed7953\"], [0.7777777777777778, \"#fb9f3a\"], [0.8888888888888888, \"#fdca26\"], [1.0, \"#f0f921\"]], \"type\": \"histogram2dcontour\"}], \"mesh3d\": [{\"colorbar\": {\"outlinewidth\": 0, \"ticks\": \"\"}, \"type\": \"mesh3d\"}], \"parcoords\": [{\"line\": {\"colorbar\": {\"outlinewidth\": 0, \"ticks\": \"\"}}, \"type\": \"parcoords\"}], \"pie\": [{\"automargin\": true, \"type\": \"pie\"}], \"scatter\": [{\"marker\": {\"colorbar\": {\"outlinewidth\": 0, \"ticks\": \"\"}}, \"type\": \"scatter\"}], \"scatter3d\": [{\"line\": {\"colorbar\": {\"outlinewidth\": 0, \"ticks\": \"\"}}, \"marker\": {\"colorbar\": {\"outlinewidth\": 0, \"ticks\": \"\"}}, \"type\": \"scatter3d\"}], \"scattercarpet\": [{\"marker\": {\"colorbar\": {\"outlinewidth\": 0, \"ticks\": \"\"}}, \"type\": \"scattercarpet\"}], \"scattergeo\": [{\"marker\": {\"colorbar\": {\"outlinewidth\": 0, \"ticks\": \"\"}}, \"type\": \"scattergeo\"}], \"scattergl\": [{\"marker\": {\"colorbar\": {\"outlinewidth\": 0, \"ticks\": \"\"}}, \"type\": \"scattergl\"}], \"scattermapbox\": [{\"marker\": {\"colorbar\": {\"outlinewidth\": 0, \"ticks\": \"\"}}, \"type\": \"scattermapbox\"}], \"scatterpolar\": [{\"marker\": {\"colorbar\": {\"outlinewidth\": 0, \"ticks\": \"\"}}, \"type\": \"scatterpolar\"}], \"scatterpolargl\": [{\"marker\": {\"colorbar\": {\"outlinewidth\": 0, \"ticks\": \"\"}}, \"type\": \"scatterpolargl\"}], \"scatterternary\": [{\"marker\": {\"colorbar\": {\"outlinewidth\": 0, \"ticks\": \"\"}}, \"type\": \"scatterternary\"}], \"surface\": [{\"colorbar\": {\"outlinewidth\": 0, \"ticks\": \"\"}, \"colorscale\": [[0.0, \"#0d0887\"], [0.1111111111111111, \"#46039f\"], [0.2222222222222222, \"#7201a8\"], [0.3333333333333333, \"#9c179e\"], [0.4444444444444444, \"#bd3786\"], [0.5555555555555556, \"#d8576b\"], [0.6666666666666666, \"#ed7953\"], [0.7777777777777778, \"#fb9f3a\"], [0.8888888888888888, \"#fdca26\"], [1.0, \"#f0f921\"]], \"type\": \"surface\"}], \"table\": [{\"cells\": {\"fill\": {\"color\": \"#EBF0F8\"}, \"line\": {\"color\": \"white\"}}, \"header\": {\"fill\": {\"color\": \"#C8D4E3\"}, \"line\": {\"color\": \"white\"}}, \"type\": \"table\"}]}, \"layout\": {\"annotationdefaults\": {\"arrowcolor\": \"#2a3f5f\", \"arrowhead\": 0, \"arrowwidth\": 1}, \"coloraxis\": {\"colorbar\": {\"outlinewidth\": 0, \"ticks\": \"\"}}, \"colorscale\": {\"diverging\": [[0, \"#8e0152\"], [0.1, \"#c51b7d\"], [0.2, \"#de77ae\"], [0.3, \"#f1b6da\"], [0.4, \"#fde0ef\"], [0.5, \"#f7f7f7\"], [0.6, \"#e6f5d0\"], [0.7, \"#b8e186\"], [0.8, \"#7fbc41\"], [0.9, \"#4d9221\"], [1, \"#276419\"]], \"sequential\": [[0.0, \"#0d0887\"], [0.1111111111111111, \"#46039f\"], [0.2222222222222222, \"#7201a8\"], [0.3333333333333333, \"#9c179e\"], [0.4444444444444444, \"#bd3786\"], [0.5555555555555556, \"#d8576b\"], [0.6666666666666666, \"#ed7953\"], [0.7777777777777778, \"#fb9f3a\"], [0.8888888888888888, \"#fdca26\"], [1.0, \"#f0f921\"]], \"sequentialminus\": [[0.0, \"#0d0887\"], [0.1111111111111111, \"#46039f\"], [0.2222222222222222, \"#7201a8\"], [0.3333333333333333, \"#9c179e\"], [0.4444444444444444, \"#bd3786\"], [0.5555555555555556, \"#d8576b\"], [0.6666666666666666, \"#ed7953\"], [0.7777777777777778, \"#fb9f3a\"], [0.8888888888888888, \"#fdca26\"], [1.0, \"#f0f921\"]]}, \"colorway\": [\"#636efa\", \"#EF553B\", \"#00cc96\", \"#ab63fa\", \"#FFA15A\", \"#19d3f3\", \"#FF6692\", \"#B6E880\", \"#FF97FF\", \"#FECB52\"], \"font\": {\"color\": \"#2a3f5f\"}, \"geo\": {\"bgcolor\": \"white\", \"lakecolor\": \"white\", \"landcolor\": \"#E5ECF6\", \"showlakes\": true, \"showland\": true, \"subunitcolor\": \"white\"}, \"hoverlabel\": {\"align\": \"left\"}, \"hovermode\": \"closest\", \"mapbox\": {\"style\": \"light\"}, \"paper_bgcolor\": \"white\", \"plot_bgcolor\": \"#E5ECF6\", \"polar\": {\"angularaxis\": {\"gridcolor\": \"white\", \"linecolor\": \"white\", \"ticks\": \"\"}, \"bgcolor\": \"#E5ECF6\", \"radialaxis\": {\"gridcolor\": \"white\", \"linecolor\": \"white\", \"ticks\": \"\"}}, \"scene\": {\"xaxis\": {\"backgroundcolor\": \"#E5ECF6\", \"gridcolor\": \"white\", \"gridwidth\": 2, \"linecolor\": \"white\", \"showbackground\": true, \"ticks\": \"\", \"zerolinecolor\": \"white\"}, \"yaxis\": {\"backgroundcolor\": \"#E5ECF6\", \"gridcolor\": \"white\", \"gridwidth\": 2, \"linecolor\": \"white\", \"showbackground\": true, \"ticks\": \"\", \"zerolinecolor\": \"white\"}, \"zaxis\": {\"backgroundcolor\": \"#E5ECF6\", \"gridcolor\": \"white\", \"gridwidth\": 2, \"linecolor\": \"white\", \"showbackground\": true, \"ticks\": \"\", \"zerolinecolor\": \"white\"}}, \"shapedefaults\": {\"line\": {\"color\": \"#2a3f5f\"}}, \"ternary\": {\"aaxis\": {\"gridcolor\": \"white\", \"linecolor\": \"white\", \"ticks\": \"\"}, \"baxis\": {\"gridcolor\": \"white\", \"linecolor\": \"white\", \"ticks\": \"\"}, \"bgcolor\": \"#E5ECF6\", \"caxis\": {\"gridcolor\": \"white\", \"linecolor\": \"white\", \"ticks\": \"\"}}, \"title\": {\"x\": 0.05}, \"xaxis\": {\"automargin\": true, \"gridcolor\": \"white\", \"linecolor\": \"white\", \"ticks\": \"\", \"title\": {\"standoff\": 15}, \"zerolinecolor\": \"white\", \"zerolinewidth\": 2}, \"yaxis\": {\"automargin\": true, \"gridcolor\": \"white\", \"linecolor\": \"white\", \"ticks\": \"\", \"title\": {\"standoff\": 15}, \"zerolinecolor\": \"white\", \"zerolinewidth\": 2}}}, \"title\": {\"text\": \"Accepting vs not accepting online ordering\"}, \"width\": 500},\n",
       "                        {\"responsive\": true}\n",
       "                    ).then(function(){\n",
       "                            \n",
       "var gd = document.getElementById('28f97b8d-1e0e-4387-98ba-18a6949e7e0a');\n",
       "var x = new MutationObserver(function (mutations, observer) {{\n",
       "        var display = window.getComputedStyle(gd).display;\n",
       "        if (!display || display === 'none') {{\n",
       "            console.log([gd, 'removed!']);\n",
       "            Plotly.purge(gd);\n",
       "            observer.disconnect();\n",
       "        }}\n",
       "}});\n",
       "\n",
       "// Listen for the removal of the full notebook cells\n",
       "var notebookContainer = gd.closest('#notebook-container');\n",
       "if (notebookContainer) {{\n",
       "    x.observe(notebookContainer, {childList: true});\n",
       "}}\n",
       "\n",
       "// Listen for the clearing of the current output cell\n",
       "var outputEl = gd.closest('.output');\n",
       "if (outputEl) {{\n",
       "    x.observe(outputEl, {childList: true});\n",
       "}}\n",
       "\n",
       "                        })\n",
       "                };\n",
       "                });\n",
       "            </script>\n",
       "        </div>"
      ]
     },
     "metadata": {},
     "output_type": "display_data"
    }
   ],
   "source": [
    "#Customers prefer restaurants that have online ordering facility over those that don't\n",
    "\n",
    "infered_on = 0 \n",
    "for i in infered_results:\n",
    "    if i[1][3] == 'Yes':\n",
    "        infered_on = infered_on + 1\n",
    "labels = ['Yes','No']\n",
    "values = [infered_on, len(infered_results)-infered_on]\n",
    "colors = ['#00203FFF', '#ADEFD1FF']\n",
    "\n",
    "trace=go.Pie(labels=labels,values=values,textinfo=\"value\",\n",
    "            marker=dict(colors=colors, \n",
    "                           line=dict(color='#000000', width=2)))\n",
    "layout=go.Layout(title=\"Accepting vs not accepting online ordering\",width=500,height=500)\n",
    "fig=go.Figure(data=[trace],layout=layout)\n",
    "py.iplot(fig, filename='pie_chart_subplots')"
   ]
  },
  {
   "cell_type": "code",
   "execution_count": 89,
   "metadata": {},
   "outputs": [
    {
     "data": {
      "application/vnd.plotly.v1+json": {
       "config": {
        "linkText": "Export to plot.ly",
        "plotlyServerURL": "https://plot.ly",
        "showLink": false
       },
       "data": [
        {
         "labels": [
          "Yes",
          "No"
         ],
         "marker": {
          "colors": [
           "#101820FF",
           "#FEE715FF"
          ],
          "line": {
           "color": "#000000",
           "width": 2
          }
         },
         "textinfo": "value",
         "type": "pie",
         "values": [
          64,
          29
         ]
        }
       ],
       "layout": {
        "height": 500,
        "template": {
         "data": {
          "bar": [
           {
            "error_x": {
             "color": "#2a3f5f"
            },
            "error_y": {
             "color": "#2a3f5f"
            },
            "marker": {
             "line": {
              "color": "#E5ECF6",
              "width": 0.5
             }
            },
            "type": "bar"
           }
          ],
          "barpolar": [
           {
            "marker": {
             "line": {
              "color": "#E5ECF6",
              "width": 0.5
             }
            },
            "type": "barpolar"
           }
          ],
          "carpet": [
           {
            "aaxis": {
             "endlinecolor": "#2a3f5f",
             "gridcolor": "white",
             "linecolor": "white",
             "minorgridcolor": "white",
             "startlinecolor": "#2a3f5f"
            },
            "baxis": {
             "endlinecolor": "#2a3f5f",
             "gridcolor": "white",
             "linecolor": "white",
             "minorgridcolor": "white",
             "startlinecolor": "#2a3f5f"
            },
            "type": "carpet"
           }
          ],
          "choropleth": [
           {
            "colorbar": {
             "outlinewidth": 0,
             "ticks": ""
            },
            "type": "choropleth"
           }
          ],
          "contour": [
           {
            "colorbar": {
             "outlinewidth": 0,
             "ticks": ""
            },
            "colorscale": [
             [
              0,
              "#0d0887"
             ],
             [
              0.1111111111111111,
              "#46039f"
             ],
             [
              0.2222222222222222,
              "#7201a8"
             ],
             [
              0.3333333333333333,
              "#9c179e"
             ],
             [
              0.4444444444444444,
              "#bd3786"
             ],
             [
              0.5555555555555556,
              "#d8576b"
             ],
             [
              0.6666666666666666,
              "#ed7953"
             ],
             [
              0.7777777777777778,
              "#fb9f3a"
             ],
             [
              0.8888888888888888,
              "#fdca26"
             ],
             [
              1,
              "#f0f921"
             ]
            ],
            "type": "contour"
           }
          ],
          "contourcarpet": [
           {
            "colorbar": {
             "outlinewidth": 0,
             "ticks": ""
            },
            "type": "contourcarpet"
           }
          ],
          "heatmap": [
           {
            "colorbar": {
             "outlinewidth": 0,
             "ticks": ""
            },
            "colorscale": [
             [
              0,
              "#0d0887"
             ],
             [
              0.1111111111111111,
              "#46039f"
             ],
             [
              0.2222222222222222,
              "#7201a8"
             ],
             [
              0.3333333333333333,
              "#9c179e"
             ],
             [
              0.4444444444444444,
              "#bd3786"
             ],
             [
              0.5555555555555556,
              "#d8576b"
             ],
             [
              0.6666666666666666,
              "#ed7953"
             ],
             [
              0.7777777777777778,
              "#fb9f3a"
             ],
             [
              0.8888888888888888,
              "#fdca26"
             ],
             [
              1,
              "#f0f921"
             ]
            ],
            "type": "heatmap"
           }
          ],
          "heatmapgl": [
           {
            "colorbar": {
             "outlinewidth": 0,
             "ticks": ""
            },
            "colorscale": [
             [
              0,
              "#0d0887"
             ],
             [
              0.1111111111111111,
              "#46039f"
             ],
             [
              0.2222222222222222,
              "#7201a8"
             ],
             [
              0.3333333333333333,
              "#9c179e"
             ],
             [
              0.4444444444444444,
              "#bd3786"
             ],
             [
              0.5555555555555556,
              "#d8576b"
             ],
             [
              0.6666666666666666,
              "#ed7953"
             ],
             [
              0.7777777777777778,
              "#fb9f3a"
             ],
             [
              0.8888888888888888,
              "#fdca26"
             ],
             [
              1,
              "#f0f921"
             ]
            ],
            "type": "heatmapgl"
           }
          ],
          "histogram": [
           {
            "marker": {
             "colorbar": {
              "outlinewidth": 0,
              "ticks": ""
             }
            },
            "type": "histogram"
           }
          ],
          "histogram2d": [
           {
            "colorbar": {
             "outlinewidth": 0,
             "ticks": ""
            },
            "colorscale": [
             [
              0,
              "#0d0887"
             ],
             [
              0.1111111111111111,
              "#46039f"
             ],
             [
              0.2222222222222222,
              "#7201a8"
             ],
             [
              0.3333333333333333,
              "#9c179e"
             ],
             [
              0.4444444444444444,
              "#bd3786"
             ],
             [
              0.5555555555555556,
              "#d8576b"
             ],
             [
              0.6666666666666666,
              "#ed7953"
             ],
             [
              0.7777777777777778,
              "#fb9f3a"
             ],
             [
              0.8888888888888888,
              "#fdca26"
             ],
             [
              1,
              "#f0f921"
             ]
            ],
            "type": "histogram2d"
           }
          ],
          "histogram2dcontour": [
           {
            "colorbar": {
             "outlinewidth": 0,
             "ticks": ""
            },
            "colorscale": [
             [
              0,
              "#0d0887"
             ],
             [
              0.1111111111111111,
              "#46039f"
             ],
             [
              0.2222222222222222,
              "#7201a8"
             ],
             [
              0.3333333333333333,
              "#9c179e"
             ],
             [
              0.4444444444444444,
              "#bd3786"
             ],
             [
              0.5555555555555556,
              "#d8576b"
             ],
             [
              0.6666666666666666,
              "#ed7953"
             ],
             [
              0.7777777777777778,
              "#fb9f3a"
             ],
             [
              0.8888888888888888,
              "#fdca26"
             ],
             [
              1,
              "#f0f921"
             ]
            ],
            "type": "histogram2dcontour"
           }
          ],
          "mesh3d": [
           {
            "colorbar": {
             "outlinewidth": 0,
             "ticks": ""
            },
            "type": "mesh3d"
           }
          ],
          "parcoords": [
           {
            "line": {
             "colorbar": {
              "outlinewidth": 0,
              "ticks": ""
             }
            },
            "type": "parcoords"
           }
          ],
          "pie": [
           {
            "automargin": true,
            "type": "pie"
           }
          ],
          "scatter": [
           {
            "marker": {
             "colorbar": {
              "outlinewidth": 0,
              "ticks": ""
             }
            },
            "type": "scatter"
           }
          ],
          "scatter3d": [
           {
            "line": {
             "colorbar": {
              "outlinewidth": 0,
              "ticks": ""
             }
            },
            "marker": {
             "colorbar": {
              "outlinewidth": 0,
              "ticks": ""
             }
            },
            "type": "scatter3d"
           }
          ],
          "scattercarpet": [
           {
            "marker": {
             "colorbar": {
              "outlinewidth": 0,
              "ticks": ""
             }
            },
            "type": "scattercarpet"
           }
          ],
          "scattergeo": [
           {
            "marker": {
             "colorbar": {
              "outlinewidth": 0,
              "ticks": ""
             }
            },
            "type": "scattergeo"
           }
          ],
          "scattergl": [
           {
            "marker": {
             "colorbar": {
              "outlinewidth": 0,
              "ticks": ""
             }
            },
            "type": "scattergl"
           }
          ],
          "scattermapbox": [
           {
            "marker": {
             "colorbar": {
              "outlinewidth": 0,
              "ticks": ""
             }
            },
            "type": "scattermapbox"
           }
          ],
          "scatterpolar": [
           {
            "marker": {
             "colorbar": {
              "outlinewidth": 0,
              "ticks": ""
             }
            },
            "type": "scatterpolar"
           }
          ],
          "scatterpolargl": [
           {
            "marker": {
             "colorbar": {
              "outlinewidth": 0,
              "ticks": ""
             }
            },
            "type": "scatterpolargl"
           }
          ],
          "scatterternary": [
           {
            "marker": {
             "colorbar": {
              "outlinewidth": 0,
              "ticks": ""
             }
            },
            "type": "scatterternary"
           }
          ],
          "surface": [
           {
            "colorbar": {
             "outlinewidth": 0,
             "ticks": ""
            },
            "colorscale": [
             [
              0,
              "#0d0887"
             ],
             [
              0.1111111111111111,
              "#46039f"
             ],
             [
              0.2222222222222222,
              "#7201a8"
             ],
             [
              0.3333333333333333,
              "#9c179e"
             ],
             [
              0.4444444444444444,
              "#bd3786"
             ],
             [
              0.5555555555555556,
              "#d8576b"
             ],
             [
              0.6666666666666666,
              "#ed7953"
             ],
             [
              0.7777777777777778,
              "#fb9f3a"
             ],
             [
              0.8888888888888888,
              "#fdca26"
             ],
             [
              1,
              "#f0f921"
             ]
            ],
            "type": "surface"
           }
          ],
          "table": [
           {
            "cells": {
             "fill": {
              "color": "#EBF0F8"
             },
             "line": {
              "color": "white"
             }
            },
            "header": {
             "fill": {
              "color": "#C8D4E3"
             },
             "line": {
              "color": "white"
             }
            },
            "type": "table"
           }
          ]
         },
         "layout": {
          "annotationdefaults": {
           "arrowcolor": "#2a3f5f",
           "arrowhead": 0,
           "arrowwidth": 1
          },
          "coloraxis": {
           "colorbar": {
            "outlinewidth": 0,
            "ticks": ""
           }
          },
          "colorscale": {
           "diverging": [
            [
             0,
             "#8e0152"
            ],
            [
             0.1,
             "#c51b7d"
            ],
            [
             0.2,
             "#de77ae"
            ],
            [
             0.3,
             "#f1b6da"
            ],
            [
             0.4,
             "#fde0ef"
            ],
            [
             0.5,
             "#f7f7f7"
            ],
            [
             0.6,
             "#e6f5d0"
            ],
            [
             0.7,
             "#b8e186"
            ],
            [
             0.8,
             "#7fbc41"
            ],
            [
             0.9,
             "#4d9221"
            ],
            [
             1,
             "#276419"
            ]
           ],
           "sequential": [
            [
             0,
             "#0d0887"
            ],
            [
             0.1111111111111111,
             "#46039f"
            ],
            [
             0.2222222222222222,
             "#7201a8"
            ],
            [
             0.3333333333333333,
             "#9c179e"
            ],
            [
             0.4444444444444444,
             "#bd3786"
            ],
            [
             0.5555555555555556,
             "#d8576b"
            ],
            [
             0.6666666666666666,
             "#ed7953"
            ],
            [
             0.7777777777777778,
             "#fb9f3a"
            ],
            [
             0.8888888888888888,
             "#fdca26"
            ],
            [
             1,
             "#f0f921"
            ]
           ],
           "sequentialminus": [
            [
             0,
             "#0d0887"
            ],
            [
             0.1111111111111111,
             "#46039f"
            ],
            [
             0.2222222222222222,
             "#7201a8"
            ],
            [
             0.3333333333333333,
             "#9c179e"
            ],
            [
             0.4444444444444444,
             "#bd3786"
            ],
            [
             0.5555555555555556,
             "#d8576b"
            ],
            [
             0.6666666666666666,
             "#ed7953"
            ],
            [
             0.7777777777777778,
             "#fb9f3a"
            ],
            [
             0.8888888888888888,
             "#fdca26"
            ],
            [
             1,
             "#f0f921"
            ]
           ]
          },
          "colorway": [
           "#636efa",
           "#EF553B",
           "#00cc96",
           "#ab63fa",
           "#FFA15A",
           "#19d3f3",
           "#FF6692",
           "#B6E880",
           "#FF97FF",
           "#FECB52"
          ],
          "font": {
           "color": "#2a3f5f"
          },
          "geo": {
           "bgcolor": "white",
           "lakecolor": "white",
           "landcolor": "#E5ECF6",
           "showlakes": true,
           "showland": true,
           "subunitcolor": "white"
          },
          "hoverlabel": {
           "align": "left"
          },
          "hovermode": "closest",
          "mapbox": {
           "style": "light"
          },
          "paper_bgcolor": "white",
          "plot_bgcolor": "#E5ECF6",
          "polar": {
           "angularaxis": {
            "gridcolor": "white",
            "linecolor": "white",
            "ticks": ""
           },
           "bgcolor": "#E5ECF6",
           "radialaxis": {
            "gridcolor": "white",
            "linecolor": "white",
            "ticks": ""
           }
          },
          "scene": {
           "xaxis": {
            "backgroundcolor": "#E5ECF6",
            "gridcolor": "white",
            "gridwidth": 2,
            "linecolor": "white",
            "showbackground": true,
            "ticks": "",
            "zerolinecolor": "white"
           },
           "yaxis": {
            "backgroundcolor": "#E5ECF6",
            "gridcolor": "white",
            "gridwidth": 2,
            "linecolor": "white",
            "showbackground": true,
            "ticks": "",
            "zerolinecolor": "white"
           },
           "zaxis": {
            "backgroundcolor": "#E5ECF6",
            "gridcolor": "white",
            "gridwidth": 2,
            "linecolor": "white",
            "showbackground": true,
            "ticks": "",
            "zerolinecolor": "white"
           }
          },
          "shapedefaults": {
           "line": {
            "color": "#2a3f5f"
           }
          },
          "ternary": {
           "aaxis": {
            "gridcolor": "white",
            "linecolor": "white",
            "ticks": ""
           },
           "baxis": {
            "gridcolor": "white",
            "linecolor": "white",
            "ticks": ""
           },
           "bgcolor": "#E5ECF6",
           "caxis": {
            "gridcolor": "white",
            "linecolor": "white",
            "ticks": ""
           }
          },
          "title": {
           "x": 0.05
          },
          "xaxis": {
           "automargin": true,
           "gridcolor": "white",
           "linecolor": "white",
           "ticks": "",
           "title": {
            "standoff": 15
           },
           "zerolinecolor": "white",
           "zerolinewidth": 2
          },
          "yaxis": {
           "automargin": true,
           "gridcolor": "white",
           "linecolor": "white",
           "ticks": "",
           "title": {
            "standoff": 15
           },
           "zerolinecolor": "white",
           "zerolinewidth": 2
          }
         }
        },
        "title": {
         "text": "Accepting vs not accepting online booking"
        },
        "width": 500
       }
      },
      "text/html": [
       "<div>\n",
       "        \n",
       "        \n",
       "            <div id=\"b5ffbfc5-3817-49fb-bbf4-5c0f6cc8639f\" class=\"plotly-graph-div\" style=\"height:500px; width:500px;\"></div>\n",
       "            <script type=\"text/javascript\">\n",
       "                require([\"plotly\"], function(Plotly) {\n",
       "                    window.PLOTLYENV=window.PLOTLYENV || {};\n",
       "                    \n",
       "                if (document.getElementById(\"b5ffbfc5-3817-49fb-bbf4-5c0f6cc8639f\")) {\n",
       "                    Plotly.newPlot(\n",
       "                        'b5ffbfc5-3817-49fb-bbf4-5c0f6cc8639f',\n",
       "                        [{\"labels\": [\"Yes\", \"No\"], \"marker\": {\"colors\": [\"#101820FF\", \"#FEE715FF\"], \"line\": {\"color\": \"#000000\", \"width\": 2}}, \"textinfo\": \"value\", \"type\": \"pie\", \"values\": [64, 29]}],\n",
       "                        {\"height\": 500, \"template\": {\"data\": {\"bar\": [{\"error_x\": {\"color\": \"#2a3f5f\"}, \"error_y\": {\"color\": \"#2a3f5f\"}, \"marker\": {\"line\": {\"color\": \"#E5ECF6\", \"width\": 0.5}}, \"type\": \"bar\"}], \"barpolar\": [{\"marker\": {\"line\": {\"color\": \"#E5ECF6\", \"width\": 0.5}}, \"type\": \"barpolar\"}], \"carpet\": [{\"aaxis\": {\"endlinecolor\": \"#2a3f5f\", \"gridcolor\": \"white\", \"linecolor\": \"white\", \"minorgridcolor\": \"white\", \"startlinecolor\": \"#2a3f5f\"}, \"baxis\": {\"endlinecolor\": \"#2a3f5f\", \"gridcolor\": \"white\", \"linecolor\": \"white\", \"minorgridcolor\": \"white\", \"startlinecolor\": \"#2a3f5f\"}, \"type\": \"carpet\"}], \"choropleth\": [{\"colorbar\": {\"outlinewidth\": 0, \"ticks\": \"\"}, \"type\": \"choropleth\"}], \"contour\": [{\"colorbar\": {\"outlinewidth\": 0, \"ticks\": \"\"}, \"colorscale\": [[0.0, \"#0d0887\"], [0.1111111111111111, \"#46039f\"], [0.2222222222222222, \"#7201a8\"], [0.3333333333333333, \"#9c179e\"], [0.4444444444444444, \"#bd3786\"], [0.5555555555555556, \"#d8576b\"], [0.6666666666666666, \"#ed7953\"], [0.7777777777777778, \"#fb9f3a\"], [0.8888888888888888, \"#fdca26\"], [1.0, \"#f0f921\"]], \"type\": \"contour\"}], \"contourcarpet\": [{\"colorbar\": {\"outlinewidth\": 0, \"ticks\": \"\"}, \"type\": \"contourcarpet\"}], \"heatmap\": [{\"colorbar\": {\"outlinewidth\": 0, \"ticks\": \"\"}, \"colorscale\": [[0.0, \"#0d0887\"], [0.1111111111111111, \"#46039f\"], [0.2222222222222222, \"#7201a8\"], [0.3333333333333333, \"#9c179e\"], [0.4444444444444444, \"#bd3786\"], [0.5555555555555556, \"#d8576b\"], [0.6666666666666666, \"#ed7953\"], [0.7777777777777778, \"#fb9f3a\"], [0.8888888888888888, \"#fdca26\"], [1.0, \"#f0f921\"]], \"type\": \"heatmap\"}], \"heatmapgl\": [{\"colorbar\": {\"outlinewidth\": 0, \"ticks\": \"\"}, \"colorscale\": [[0.0, \"#0d0887\"], [0.1111111111111111, \"#46039f\"], [0.2222222222222222, \"#7201a8\"], [0.3333333333333333, \"#9c179e\"], [0.4444444444444444, \"#bd3786\"], [0.5555555555555556, \"#d8576b\"], [0.6666666666666666, \"#ed7953\"], [0.7777777777777778, \"#fb9f3a\"], [0.8888888888888888, \"#fdca26\"], [1.0, \"#f0f921\"]], \"type\": \"heatmapgl\"}], \"histogram\": [{\"marker\": {\"colorbar\": {\"outlinewidth\": 0, \"ticks\": \"\"}}, \"type\": \"histogram\"}], \"histogram2d\": [{\"colorbar\": {\"outlinewidth\": 0, \"ticks\": \"\"}, \"colorscale\": [[0.0, \"#0d0887\"], [0.1111111111111111, \"#46039f\"], [0.2222222222222222, \"#7201a8\"], [0.3333333333333333, \"#9c179e\"], [0.4444444444444444, \"#bd3786\"], [0.5555555555555556, \"#d8576b\"], [0.6666666666666666, \"#ed7953\"], [0.7777777777777778, \"#fb9f3a\"], [0.8888888888888888, \"#fdca26\"], [1.0, \"#f0f921\"]], \"type\": \"histogram2d\"}], \"histogram2dcontour\": [{\"colorbar\": {\"outlinewidth\": 0, \"ticks\": \"\"}, \"colorscale\": [[0.0, \"#0d0887\"], [0.1111111111111111, \"#46039f\"], [0.2222222222222222, \"#7201a8\"], [0.3333333333333333, \"#9c179e\"], [0.4444444444444444, \"#bd3786\"], [0.5555555555555556, \"#d8576b\"], [0.6666666666666666, \"#ed7953\"], [0.7777777777777778, \"#fb9f3a\"], [0.8888888888888888, \"#fdca26\"], [1.0, \"#f0f921\"]], \"type\": \"histogram2dcontour\"}], \"mesh3d\": [{\"colorbar\": {\"outlinewidth\": 0, \"ticks\": \"\"}, \"type\": \"mesh3d\"}], \"parcoords\": [{\"line\": {\"colorbar\": {\"outlinewidth\": 0, \"ticks\": \"\"}}, \"type\": \"parcoords\"}], \"pie\": [{\"automargin\": true, \"type\": \"pie\"}], \"scatter\": [{\"marker\": {\"colorbar\": {\"outlinewidth\": 0, \"ticks\": \"\"}}, \"type\": \"scatter\"}], \"scatter3d\": [{\"line\": {\"colorbar\": {\"outlinewidth\": 0, \"ticks\": \"\"}}, \"marker\": {\"colorbar\": {\"outlinewidth\": 0, \"ticks\": \"\"}}, \"type\": \"scatter3d\"}], \"scattercarpet\": [{\"marker\": {\"colorbar\": {\"outlinewidth\": 0, \"ticks\": \"\"}}, \"type\": \"scattercarpet\"}], \"scattergeo\": [{\"marker\": {\"colorbar\": {\"outlinewidth\": 0, \"ticks\": \"\"}}, \"type\": \"scattergeo\"}], \"scattergl\": [{\"marker\": {\"colorbar\": {\"outlinewidth\": 0, \"ticks\": \"\"}}, \"type\": \"scattergl\"}], \"scattermapbox\": [{\"marker\": {\"colorbar\": {\"outlinewidth\": 0, \"ticks\": \"\"}}, \"type\": \"scattermapbox\"}], \"scatterpolar\": [{\"marker\": {\"colorbar\": {\"outlinewidth\": 0, \"ticks\": \"\"}}, \"type\": \"scatterpolar\"}], \"scatterpolargl\": [{\"marker\": {\"colorbar\": {\"outlinewidth\": 0, \"ticks\": \"\"}}, \"type\": \"scatterpolargl\"}], \"scatterternary\": [{\"marker\": {\"colorbar\": {\"outlinewidth\": 0, \"ticks\": \"\"}}, \"type\": \"scatterternary\"}], \"surface\": [{\"colorbar\": {\"outlinewidth\": 0, \"ticks\": \"\"}, \"colorscale\": [[0.0, \"#0d0887\"], [0.1111111111111111, \"#46039f\"], [0.2222222222222222, \"#7201a8\"], [0.3333333333333333, \"#9c179e\"], [0.4444444444444444, \"#bd3786\"], [0.5555555555555556, \"#d8576b\"], [0.6666666666666666, \"#ed7953\"], [0.7777777777777778, \"#fb9f3a\"], [0.8888888888888888, \"#fdca26\"], [1.0, \"#f0f921\"]], \"type\": \"surface\"}], \"table\": [{\"cells\": {\"fill\": {\"color\": \"#EBF0F8\"}, \"line\": {\"color\": \"white\"}}, \"header\": {\"fill\": {\"color\": \"#C8D4E3\"}, \"line\": {\"color\": \"white\"}}, \"type\": \"table\"}]}, \"layout\": {\"annotationdefaults\": {\"arrowcolor\": \"#2a3f5f\", \"arrowhead\": 0, \"arrowwidth\": 1}, \"coloraxis\": {\"colorbar\": {\"outlinewidth\": 0, \"ticks\": \"\"}}, \"colorscale\": {\"diverging\": [[0, \"#8e0152\"], [0.1, \"#c51b7d\"], [0.2, \"#de77ae\"], [0.3, \"#f1b6da\"], [0.4, \"#fde0ef\"], [0.5, \"#f7f7f7\"], [0.6, \"#e6f5d0\"], [0.7, \"#b8e186\"], [0.8, \"#7fbc41\"], [0.9, \"#4d9221\"], [1, \"#276419\"]], \"sequential\": [[0.0, \"#0d0887\"], [0.1111111111111111, \"#46039f\"], [0.2222222222222222, \"#7201a8\"], [0.3333333333333333, \"#9c179e\"], [0.4444444444444444, \"#bd3786\"], [0.5555555555555556, \"#d8576b\"], [0.6666666666666666, \"#ed7953\"], [0.7777777777777778, \"#fb9f3a\"], [0.8888888888888888, \"#fdca26\"], [1.0, \"#f0f921\"]], \"sequentialminus\": [[0.0, \"#0d0887\"], [0.1111111111111111, \"#46039f\"], [0.2222222222222222, \"#7201a8\"], [0.3333333333333333, \"#9c179e\"], [0.4444444444444444, \"#bd3786\"], [0.5555555555555556, \"#d8576b\"], [0.6666666666666666, \"#ed7953\"], [0.7777777777777778, \"#fb9f3a\"], [0.8888888888888888, \"#fdca26\"], [1.0, \"#f0f921\"]]}, \"colorway\": [\"#636efa\", \"#EF553B\", \"#00cc96\", \"#ab63fa\", \"#FFA15A\", \"#19d3f3\", \"#FF6692\", \"#B6E880\", \"#FF97FF\", \"#FECB52\"], \"font\": {\"color\": \"#2a3f5f\"}, \"geo\": {\"bgcolor\": \"white\", \"lakecolor\": \"white\", \"landcolor\": \"#E5ECF6\", \"showlakes\": true, \"showland\": true, \"subunitcolor\": \"white\"}, \"hoverlabel\": {\"align\": \"left\"}, \"hovermode\": \"closest\", \"mapbox\": {\"style\": \"light\"}, \"paper_bgcolor\": \"white\", \"plot_bgcolor\": \"#E5ECF6\", \"polar\": {\"angularaxis\": {\"gridcolor\": \"white\", \"linecolor\": \"white\", \"ticks\": \"\"}, \"bgcolor\": \"#E5ECF6\", \"radialaxis\": {\"gridcolor\": \"white\", \"linecolor\": \"white\", \"ticks\": \"\"}}, \"scene\": {\"xaxis\": {\"backgroundcolor\": \"#E5ECF6\", \"gridcolor\": \"white\", \"gridwidth\": 2, \"linecolor\": \"white\", \"showbackground\": true, \"ticks\": \"\", \"zerolinecolor\": \"white\"}, \"yaxis\": {\"backgroundcolor\": \"#E5ECF6\", \"gridcolor\": \"white\", \"gridwidth\": 2, \"linecolor\": \"white\", \"showbackground\": true, \"ticks\": \"\", \"zerolinecolor\": \"white\"}, \"zaxis\": {\"backgroundcolor\": \"#E5ECF6\", \"gridcolor\": \"white\", \"gridwidth\": 2, \"linecolor\": \"white\", \"showbackground\": true, \"ticks\": \"\", \"zerolinecolor\": \"white\"}}, \"shapedefaults\": {\"line\": {\"color\": \"#2a3f5f\"}}, \"ternary\": {\"aaxis\": {\"gridcolor\": \"white\", \"linecolor\": \"white\", \"ticks\": \"\"}, \"baxis\": {\"gridcolor\": \"white\", \"linecolor\": \"white\", \"ticks\": \"\"}, \"bgcolor\": \"#E5ECF6\", \"caxis\": {\"gridcolor\": \"white\", \"linecolor\": \"white\", \"ticks\": \"\"}}, \"title\": {\"x\": 0.05}, \"xaxis\": {\"automargin\": true, \"gridcolor\": \"white\", \"linecolor\": \"white\", \"ticks\": \"\", \"title\": {\"standoff\": 15}, \"zerolinecolor\": \"white\", \"zerolinewidth\": 2}, \"yaxis\": {\"automargin\": true, \"gridcolor\": \"white\", \"linecolor\": \"white\", \"ticks\": \"\", \"title\": {\"standoff\": 15}, \"zerolinecolor\": \"white\", \"zerolinewidth\": 2}}}, \"title\": {\"text\": \"Accepting vs not accepting online booking\"}, \"width\": 500},\n",
       "                        {\"responsive\": true}\n",
       "                    ).then(function(){\n",
       "                            \n",
       "var gd = document.getElementById('b5ffbfc5-3817-49fb-bbf4-5c0f6cc8639f');\n",
       "var x = new MutationObserver(function (mutations, observer) {{\n",
       "        var display = window.getComputedStyle(gd).display;\n",
       "        if (!display || display === 'none') {{\n",
       "            console.log([gd, 'removed!']);\n",
       "            Plotly.purge(gd);\n",
       "            observer.disconnect();\n",
       "        }}\n",
       "}});\n",
       "\n",
       "// Listen for the removal of the full notebook cells\n",
       "var notebookContainer = gd.closest('#notebook-container');\n",
       "if (notebookContainer) {{\n",
       "    x.observe(notebookContainer, {childList: true});\n",
       "}}\n",
       "\n",
       "// Listen for the clearing of the current output cell\n",
       "var outputEl = gd.closest('.output');\n",
       "if (outputEl) {{\n",
       "    x.observe(outputEl, {childList: true});\n",
       "}}\n",
       "\n",
       "                        })\n",
       "                };\n",
       "                });\n",
       "            </script>\n",
       "        </div>"
      ]
     },
     "metadata": {},
     "output_type": "display_data"
    }
   ],
   "source": [
    "#Restraunts having table booking facility tend to attract more customers and maximize their rating\n",
    "infered_book = 0 \n",
    "for i in infered_results:\n",
    "    if i[1][4] == 'Yes':\n",
    "        infered_book = infered_book + 1\n",
    "labels = ['Yes','No']\n",
    "values = [infered_book, len(infered_results)-infered_book]\n",
    "colors = ['#101820FF', '#FEE715FF']\n",
    "\n",
    "trace=go.Pie(labels=labels,values=values,textinfo=\"value\",\n",
    "            marker=dict(colors=colors, \n",
    "                           line=dict(color='#000000', width=2)))\n",
    "layout=go.Layout(title=\"Accepting vs not accepting online booking\",width=500,height=500)\n",
    "fig=go.Figure(data=[trace],layout=layout)\n",
    "py.iplot(fig, filename='pie_chart_subplots')\n",
    "    "
   ]
  },
  {
   "cell_type": "code",
   "execution_count": 90,
   "metadata": {
    "scrolled": false
   },
   "outputs": [
    {
     "name": "stdout",
     "output_type": "stream",
     "text": [
      "The two most popular cuisines are\n",
      "1.North Indian\n",
      "2.Cafe\n"
     ]
    }
   ],
   "source": [
    "#Which is the most popular Cuisine that miximized the rating?\n",
    "infered_cus = {}\n",
    "for i in infered_results:\n",
    "    if not i[1][1] in infered_cus:\n",
    "        infered_cus[i[1][1]] = 1\n",
    "    else:\n",
    "        infered_cus[i[1][1]] = infered_cus[i[1][1]] + 1\n",
    "\n",
    "print(\"The two most popular cuisines are\")\n",
    "print(\"1.\"+sorted(infered_cus,key = lambda x: -infered_cus[x])[0]+\"\\n2.\"+sorted(infered_cus,key = lambda x: -infered_cus[x])[1])"
   ]
  },
  {
   "cell_type": "code",
   "execution_count": 91,
   "metadata": {},
   "outputs": [
    {
     "name": "stdout",
     "output_type": "stream",
     "text": [
      "Average price per restaurant:\n",
      "1300\n"
     ]
    }
   ],
   "source": [
    "# What is the average price people would pay if all restaurant's ratings were maximized\n",
    "total_price = 0\n",
    "for i in infered_results:\n",
    "    total_price = total_price + i[1][0]\n",
    "\n",
    "print(\"Average price per restaurant:\")\n",
    "print((int(total_price/len(infered_results))//100)*100)"
   ]
  },
  {
   "cell_type": "code",
   "execution_count": 92,
   "metadata": {},
   "outputs": [
    {
     "data": {
      "text/plain": [
       "\"\\ninf = []\\nfor i in range(len(infered_results)):\\n    inf.append([infered_results[i][0]])\\n    inf[i].extend(infered_results[i][1])\\n\\ninf_df = pd.DataFrame(inf, columns =['Rating', 'Approx. cost for 2', 'Cuisine','location','online_order',\\n        'online_table_book'], dtype = float) \\n        \\nexport_csv = inf_df.to_csv ('/home/hp/Desktop/College/Sem5/DA/Project/Restaurant-Rating-Prediction/infzomato.csv', index = None, header=True)\\n\""
      ]
     },
     "execution_count": 92,
     "metadata": {},
     "output_type": "execute_result"
    }
   ],
   "source": [
    "#Code to generate the infered results csv file consisting of locations along with the attributes\n",
    "#that maximized the rating for restraunts in that location\n",
    "\"\"\"\n",
    "inf = []\n",
    "for i in range(len(infered_results)):\n",
    "    inf.append([infered_results[i][0]])\n",
    "    inf[i].extend(infered_results[i][1])\n",
    "\n",
    "inf_df = pd.DataFrame(inf, columns =['Rating', 'Approx. cost for 2', 'Cuisine','location','online_order',\n",
    "        'online_table_book'], dtype = float) \n",
    "        \n",
    "export_csv = inf_df.to_csv ('/home/hp/Desktop/College/Sem5/DA/Project/Restaurant-Rating-Prediction/infzomato.csv', index = None, header=True)\n",
    "\"\"\""
   ]
  },
  {
   "cell_type": "code",
   "execution_count": 93,
   "metadata": {},
   "outputs": [],
   "source": [
    "mylist =[]\n",
    "for chunk in  pd.read_csv(infzomato_csv, sep=',', chunksize=20000):\n",
    "    mylist.append(chunk)\n",
    "\n",
    "big_data = pd.concat(mylist, axis= 0)\n",
    "inf_df = big_data"
   ]
  },
  {
   "cell_type": "code",
   "execution_count": 94,
   "metadata": {},
   "outputs": [
    {
     "data": {
      "text/html": [
       "<div>\n",
       "<style scoped>\n",
       "    .dataframe tbody tr th:only-of-type {\n",
       "        vertical-align: middle;\n",
       "    }\n",
       "\n",
       "    .dataframe tbody tr th {\n",
       "        vertical-align: top;\n",
       "    }\n",
       "\n",
       "    .dataframe thead th {\n",
       "        text-align: right;\n",
       "    }\n",
       "</style>\n",
       "<table border=\"1\" class=\"dataframe\">\n",
       "  <thead>\n",
       "    <tr style=\"text-align: right;\">\n",
       "      <th></th>\n",
       "      <th></th>\n",
       "      <th>&lt;&lt;&lt;&lt;&lt;&lt;&lt; HEAD</th>\n",
       "    </tr>\n",
       "  </thead>\n",
       "  <tbody>\n",
       "    <tr>\n",
       "      <th>location</th>\n",
       "      <th>latitude</th>\n",
       "      <td>longitude</td>\n",
       "    </tr>\n",
       "    <tr>\n",
       "      <th>Banashankari</th>\n",
       "      <th>12.9152208</th>\n",
       "      <td>77.573598</td>\n",
       "    </tr>\n",
       "    <tr>\n",
       "      <th>Basavanagudi</th>\n",
       "      <th>12.9417261</th>\n",
       "      <td>77.5755021</td>\n",
       "    </tr>\n",
       "    <tr>\n",
       "      <th>Mysore Road</th>\n",
       "      <th>12.9104361</th>\n",
       "      <td>77.4836681</td>\n",
       "    </tr>\n",
       "    <tr>\n",
       "      <th>Jayanagar</th>\n",
       "      <th>12.9292731</th>\n",
       "      <td>77.5824229</td>\n",
       "    </tr>\n",
       "    <tr>\n",
       "      <th>Kumaraswamy Layout</th>\n",
       "      <th>12.9068169</th>\n",
       "      <td>77.5635247362134</td>\n",
       "    </tr>\n",
       "    <tr>\n",
       "      <th>Rajarajeshwari Nagar</th>\n",
       "      <th>12.9274278</th>\n",
       "      <td>77.5153722</td>\n",
       "    </tr>\n",
       "    <tr>\n",
       "      <th>Vijay Nagar</th>\n",
       "      <th>12.9718886</th>\n",
       "      <td>77.5457888388713</td>\n",
       "    </tr>\n",
       "    <tr>\n",
       "      <th>Uttarahalli</th>\n",
       "      <th>12.9055682</th>\n",
       "      <td>77.5455438</td>\n",
       "    </tr>\n",
       "    <tr>\n",
       "      <th>JP Nagar</th>\n",
       "      <th>12.9072515</th>\n",
       "      <td>77.5782713</td>\n",
       "    </tr>\n",
       "    <tr>\n",
       "      <th>South Bangalore</th>\n",
       "      <th>12.9791198</th>\n",
       "      <td>77.5912997</td>\n",
       "    </tr>\n",
       "    <tr>\n",
       "      <th>City Market</th>\n",
       "      <th>12.965718</th>\n",
       "      <td>77.5762705372058</td>\n",
       "    </tr>\n",
       "    <tr>\n",
       "      <th>Nagarbhavi</th>\n",
       "      <th>12.9651008</th>\n",
       "      <td>77.5078635</td>\n",
       "    </tr>\n",
       "    <tr>\n",
       "      <th>Bannerghatta Road</th>\n",
       "      <th>12.9106394</th>\n",
       "      <td>77.6000462</td>\n",
       "    </tr>\n",
       "    <tr>\n",
       "      <th>BTM</th>\n",
       "      <th>12.91127585</th>\n",
       "      <td>77.6045654343118</td>\n",
       "    </tr>\n",
       "    <tr>\n",
       "      <th>Kanakapura Road</th>\n",
       "      <th>12.9065633</th>\n",
       "      <td>77.573184</td>\n",
       "    </tr>\n",
       "    <tr>\n",
       "      <th>Bommanahalli</th>\n",
       "      <th>13.3457317</th>\n",
       "      <td>77.4333346</td>\n",
       "    </tr>\n",
       "    <tr>\n",
       "      <th>Electronic City</th>\n",
       "      <th>12.9791198</th>\n",
       "      <td>77.5912997</td>\n",
       "    </tr>\n",
       "    <tr>\n",
       "      <th>HSR</th>\n",
       "      <th>12.91445305</th>\n",
       "      <td>77.6426938363703</td>\n",
       "    </tr>\n",
       "    <tr>\n",
       "      <th>Marathahalli</th>\n",
       "      <th>12.9552572</th>\n",
       "      <td>77.6984163</td>\n",
       "    </tr>\n",
       "    <tr>\n",
       "      <th>Sarjapur Road</th>\n",
       "      <th>12.9244842</th>\n",
       "      <td>77.6502725</td>\n",
       "    </tr>\n",
       "    <tr>\n",
       "      <th>Wilson Garden</th>\n",
       "      <th>12.9489339</th>\n",
       "      <td>77.5968273</td>\n",
       "    </tr>\n",
       "    <tr>\n",
       "      <th>Shanti Nagar</th>\n",
       "      <th>12.9575547</th>\n",
       "      <td>77.5979099</td>\n",
       "    </tr>\n",
       "    <tr>\n",
       "      <th>Koramangala 5th Block</th>\n",
       "      <th>13.2923988</th>\n",
       "      <td>77.7519261</td>\n",
       "    </tr>\n",
       "    <tr>\n",
       "      <th>Koramangala 8th Block</th>\n",
       "      <th>12.9417812</th>\n",
       "      <td>77.6160146</td>\n",
       "    </tr>\n",
       "    <tr>\n",
       "      <th>Richmond Road</th>\n",
       "      <th>12.9667094</th>\n",
       "      <td>77.6090347</td>\n",
       "    </tr>\n",
       "    <tr>\n",
       "      <th>Jalahalli</th>\n",
       "      <th>13.0464531</th>\n",
       "      <td>77.5483803</td>\n",
       "    </tr>\n",
       "    <tr>\n",
       "      <th>Koramangala 7th Block</th>\n",
       "      <th>13.2923988</th>\n",
       "      <td>77.7519261</td>\n",
       "    </tr>\n",
       "    <tr>\n",
       "      <th>Koramangala 4th Block</th>\n",
       "      <th>12.93433385</th>\n",
       "      <td>77.6304063955327</td>\n",
       "    </tr>\n",
       "    <tr>\n",
       "      <th>Bellandur</th>\n",
       "      <th>12.9791198</th>\n",
       "      <td>77.5912997</td>\n",
       "    </tr>\n",
       "    <tr>\n",
       "      <th>...</th>\n",
       "      <th>...</th>\n",
       "      <td>...</td>\n",
       "    </tr>\n",
       "    <tr>\n",
       "      <th>KR Puram</th>\n",
       "      <th>13.007516</th>\n",
       "      <td>77.695935</td>\n",
       "    </tr>\n",
       "    <tr>\n",
       "      <th>Koramangala 2nd Block</th>\n",
       "      <th>12.9235254</th>\n",
       "      <td>77.6222873539518</td>\n",
       "    </tr>\n",
       "    <tr>\n",
       "      <th>Koramangala 3rd Block</th>\n",
       "      <th>12.9271867</th>\n",
       "      <td>77.6266252</td>\n",
       "    </tr>\n",
       "    <tr>\n",
       "      <th>Koramangala</th>\n",
       "      <th>13.2923988</th>\n",
       "      <td>77.7519261</td>\n",
       "    </tr>\n",
       "    <tr>\n",
       "      <th>Hosur Road</th>\n",
       "      <th>12.9295648</th>\n",
       "      <td>77.615163</td>\n",
       "    </tr>\n",
       "    <tr>\n",
       "      <th>Rajajinagar</th>\n",
       "      <th>12.9882338</th>\n",
       "      <td>77.554883</td>\n",
       "    </tr>\n",
       "    <tr>\n",
       "      <th>Seshadripuram</th>\n",
       "      <th>12.9931876</th>\n",
       "      <td>77.5753419</td>\n",
       "    </tr>\n",
       "    <tr>\n",
       "      <th>Banaswadi</th>\n",
       "      <th>13.0141618</th>\n",
       "      <td>77.6518539</td>\n",
       "    </tr>\n",
       "    <tr>\n",
       "      <th>North Bangalore</th>\n",
       "      <th>12.9791198</th>\n",
       "      <td>77.5912997</td>\n",
       "    </tr>\n",
       "    <tr>\n",
       "      <th>Nagawara</th>\n",
       "      <th>13.0338313</th>\n",
       "      <td>77.6225083</td>\n",
       "    </tr>\n",
       "    <tr>\n",
       "      <th>Hennur</th>\n",
       "      <th>13.0258087</th>\n",
       "      <td>77.6305067</td>\n",
       "    </tr>\n",
       "    <tr>\n",
       "      <th>Kalyan Nagar</th>\n",
       "      <th>13.0221416</th>\n",
       "      <td>77.6403368</td>\n",
       "    </tr>\n",
       "    <tr>\n",
       "      <th>New BEL Road</th>\n",
       "      <th>13.0431836</th>\n",
       "      <td>77.5613495</td>\n",
       "    </tr>\n",
       "    <tr>\n",
       "      <th>Jakkur</th>\n",
       "      <th>13.0784743</th>\n",
       "      <td>77.6068938</td>\n",
       "    </tr>\n",
       "    <tr>\n",
       "      <th>Rammurthy Nagar</th>\n",
       "      <th>13.0120218</th>\n",
       "      <td>77.6777817</td>\n",
       "    </tr>\n",
       "    <tr>\n",
       "      <th>Thippasandra</th>\n",
       "      <th>12.973936</th>\n",
       "      <td>77.6509982</td>\n",
       "    </tr>\n",
       "    <tr>\n",
       "      <th>CV Raman Nagar</th>\n",
       "      <th>12.9856478</th>\n",
       "      <td>77.6649767</td>\n",
       "    </tr>\n",
       "    <tr>\n",
       "      <th>Kaggadasapura</th>\n",
       "      <th>12.9846713</th>\n",
       "      <td>77.6790908</td>\n",
       "    </tr>\n",
       "    <tr>\n",
       "      <th>Kengeri</th>\n",
       "      <th>12.9199402</th>\n",
       "      <td>77.4833485</td>\n",
       "    </tr>\n",
       "    <tr>\n",
       "      <th>Sankey Road</th>\n",
       "      <th>13.0055699</th>\n",
       "      <td>77.5809081</td>\n",
       "    </tr>\n",
       "    <tr>\n",
       "      <th>Sadashiv Nagar</th>\n",
       "      <th>13.0077079</th>\n",
       "      <td>77.5795893</td>\n",
       "    </tr>\n",
       "    <tr>\n",
       "      <th>Basaveshwara Nagar</th>\n",
       "      <th>12.9932236</th>\n",
       "      <td>77.5391579</td>\n",
       "    </tr>\n",
       "    <tr>\n",
       "      <th>Yeshwantpur</th>\n",
       "      <th>13.0236062</th>\n",
       "      <td>77.5566302</td>\n",
       "    </tr>\n",
       "    <tr>\n",
       "      <th>West Bangalore</th>\n",
       "      <th>12.9791198</th>\n",
       "      <td>77.5912997</td>\n",
       "    </tr>\n",
       "    <tr>\n",
       "      <th>Yelahanka</th>\n",
       "      <th>13.1006982</th>\n",
       "      <td>77.5963454</td>\n",
       "    </tr>\n",
       "    <tr>\n",
       "      <th>Sahakara Nagar</th>\n",
       "      <th>13.0621474</th>\n",
       "      <td>77.580061354805</td>\n",
       "    </tr>\n",
       "    <tr>\n",
       "      <th>Hebbal</th>\n",
       "      <th>13.0382184</th>\n",
       "      <td>77.5919</td>\n",
       "    </tr>\n",
       "    <tr>\n",
       "      <th>Magadi Road</th>\n",
       "      <th>12.9858515</th>\n",
       "      <td>77.486927</td>\n",
       "    </tr>\n",
       "    <tr>\n",
       "      <th>Peenya</th>\n",
       "      <th>13.0329419</th>\n",
       "      <td>77.5273253</td>\n",
       "    </tr>\n",
       "    <tr>\n",
       "      <th>&gt;&gt;&gt;&gt;&gt;&gt;&gt; 99063ede772f3d3c0771440cf8823110f28a8bf5</th>\n",
       "      <th>NaN</th>\n",
       "      <td>NaN</td>\n",
       "    </tr>\n",
       "  </tbody>\n",
       "</table>\n",
       "<p>190 rows × 1 columns</p>\n",
       "</div>"
      ],
      "text/plain": [
       "                                                                  <<<<<<< HEAD\n",
       "location                                         latitude            longitude\n",
       "Banashankari                                     12.9152208          77.573598\n",
       "Basavanagudi                                     12.9417261         77.5755021\n",
       "Mysore Road                                      12.9104361         77.4836681\n",
       "Jayanagar                                        12.9292731         77.5824229\n",
       "Kumaraswamy Layout                               12.9068169   77.5635247362134\n",
       "Rajarajeshwari Nagar                             12.9274278         77.5153722\n",
       "Vijay Nagar                                      12.9718886   77.5457888388713\n",
       "Uttarahalli                                      12.9055682         77.5455438\n",
       "JP Nagar                                         12.9072515         77.5782713\n",
       "South Bangalore                                  12.9791198         77.5912997\n",
       "City Market                                      12.965718    77.5762705372058\n",
       "Nagarbhavi                                       12.9651008         77.5078635\n",
       "Bannerghatta Road                                12.9106394         77.6000462\n",
       "BTM                                              12.91127585  77.6045654343118\n",
       "Kanakapura Road                                  12.9065633          77.573184\n",
       "Bommanahalli                                     13.3457317         77.4333346\n",
       "Electronic City                                  12.9791198         77.5912997\n",
       "HSR                                              12.91445305  77.6426938363703\n",
       "Marathahalli                                     12.9552572         77.6984163\n",
       "Sarjapur Road                                    12.9244842         77.6502725\n",
       "Wilson Garden                                    12.9489339         77.5968273\n",
       "Shanti Nagar                                     12.9575547         77.5979099\n",
       "Koramangala 5th Block                            13.2923988         77.7519261\n",
       "Koramangala 8th Block                            12.9417812         77.6160146\n",
       "Richmond Road                                    12.9667094         77.6090347\n",
       "Jalahalli                                        13.0464531         77.5483803\n",
       "Koramangala 7th Block                            13.2923988         77.7519261\n",
       "Koramangala 4th Block                            12.93433385  77.6304063955327\n",
       "Bellandur                                        12.9791198         77.5912997\n",
       "...                                                                        ...\n",
       "KR Puram                                         13.007516           77.695935\n",
       "Koramangala 2nd Block                            12.9235254   77.6222873539518\n",
       "Koramangala 3rd Block                            12.9271867         77.6266252\n",
       "Koramangala                                      13.2923988         77.7519261\n",
       "Hosur Road                                       12.9295648          77.615163\n",
       "Rajajinagar                                      12.9882338          77.554883\n",
       "Seshadripuram                                    12.9931876         77.5753419\n",
       "Banaswadi                                        13.0141618         77.6518539\n",
       "North Bangalore                                  12.9791198         77.5912997\n",
       "Nagawara                                         13.0338313         77.6225083\n",
       "Hennur                                           13.0258087         77.6305067\n",
       "Kalyan Nagar                                     13.0221416         77.6403368\n",
       "New BEL Road                                     13.0431836         77.5613495\n",
       "Jakkur                                           13.0784743         77.6068938\n",
       "Rammurthy Nagar                                  13.0120218         77.6777817\n",
       "Thippasandra                                     12.973936          77.6509982\n",
       "CV Raman Nagar                                   12.9856478         77.6649767\n",
       "Kaggadasapura                                    12.9846713         77.6790908\n",
       "Kengeri                                          12.9199402         77.4833485\n",
       "Sankey Road                                      13.0055699         77.5809081\n",
       "Sadashiv Nagar                                   13.0077079         77.5795893\n",
       "Basaveshwara Nagar                               12.9932236         77.5391579\n",
       "Yeshwantpur                                      13.0236062         77.5566302\n",
       "West Bangalore                                   12.9791198         77.5912997\n",
       "Yelahanka                                        13.1006982         77.5963454\n",
       "Sahakara Nagar                                   13.0621474    77.580061354805\n",
       "Hebbal                                           13.0382184            77.5919\n",
       "Magadi Road                                      12.9858515          77.486927\n",
       "Peenya                                           13.0329419         77.5273253\n",
       ">>>>>>> 99063ede772f3d3c0771440cf8823110f28a8bf5 NaN                       NaN\n",
       "\n",
       "[190 rows x 1 columns]"
      ]
     },
     "execution_count": 94,
     "metadata": {},
     "output_type": "execute_result"
    }
   ],
   "source": [
    "loc_df"
   ]
  },
  {
   "cell_type": "code",
   "execution_count": 95,
   "metadata": {},
   "outputs": [
    {
     "data": {
      "text/plain": [
       "'\\nlocations = {}\\nfor i in infered_results:\\n    locations[i[1][2]] = []\\n    \\ngeolocator=Nominatim(user_agent=\"app\")\\nfor i in locations:\\n    locator = geolocator.geocode(\"Bangalore \"+i)\\n    locations[i].append((locator.latitude,locator.longitude))\\n    \\nmy_locs = []\\nfor k in locations:\\n    my_locs.append([k,locations[k][0][0],locations[k][0][1]])\\n    \\nloc_df = pd.DataFrame(my_locs, columns =[\\'location\\', \\'latitude\\', \\'longitude\\'],  dtype = float) \\n\\nexport_csv = loc_df.to_csv (\\'C:/Users/sparsha/Documents/SEM 5/DA Project/zomato/my_location.csv\\', index = None, header=True)\\n'"
      ]
     },
     "execution_count": 95,
     "metadata": {},
     "output_type": "execute_result"
    }
   ],
   "source": [
    "#Code to obtain the latitude and logitube for each location in infered results\n",
    "#exporting it into my_location.csv file\n",
    "\"\"\"\n",
    "locations = {}\n",
    "for i in infered_results:\n",
    "    locations[i[1][2]] = []\n",
    "    \n",
    "geolocator=Nominatim(user_agent=\"app\")\n",
    "for i in locations:\n",
    "    locator = geolocator.geocode(\"Bangalore \"+i)\n",
    "    locations[i].append((locator.latitude,locator.longitude))\n",
    "    \n",
    "my_locs = []\n",
    "for k in locations:\n",
    "    my_locs.append([k,locations[k][0][0],locations[k][0][1]])\n",
    "    \n",
    "loc_df = pd.DataFrame(my_locs, columns =['location', 'latitude', 'longitude'],  dtype = float) \n",
    "\n",
    "export_csv = loc_df.to_csv ('C:/Users/sparsha/Documents/SEM 5/DA Project/zomato/my_location.csv', index = None, header=True)\n",
    "\"\"\""
   ]
  },
  {
   "cell_type": "code",
   "execution_count": 96,
   "metadata": {},
   "outputs": [],
   "source": [
    "mylist =[]\n",
    "for chunk in  pd.read_csv(location_csv, sep=',', chunksize=20000):\n",
    "    mylist.append(chunk)\n",
    "\n",
    "big_data = pd.concat(mylist, axis= 0)\n",
    "loc_df = big_data"
   ]
  },
  {
   "cell_type": "code",
   "execution_count": 97,
   "metadata": {},
   "outputs": [],
   "source": [
    "#dataframe consisting of all the details including location co-ordinates\n",
    "result = pd.concat([loc_df, inf_df], axis=1, join='inner')"
   ]
  },
  {
   "cell_type": "code",
   "execution_count": 98,
   "metadata": {},
   "outputs": [
    {
     "data": {
      "application/vnd.plotly.v1+json": {
       "config": {
        "plotlyServerURL": "https://plot.ly"
       },
       "data": [
        {
         "name": "Linear Regression",
         "type": "bar",
         "x": [
          "0.0",
          "0.1",
          "0.2"
         ],
         "y": [
          0.13,
          0.41,
          0.59
         ]
        },
        {
         "name": "Decision Trees",
         "type": "bar",
         "x": [
          "0.0",
          "0.1",
          "0.2"
         ],
         "y": [
          0.75,
          0.82,
          0.87
         ]
        },
        {
         "name": "Random Number generator",
         "type": "bar",
         "x": [
          "0.0",
          "0.1",
          "0.2"
         ],
         "y": [
          0.043,
          0.11,
          0.2
         ]
        }
       ],
       "layout": {
        "barmode": "group",
        "template": {
         "data": {
          "bar": [
           {
            "error_x": {
             "color": "#2a3f5f"
            },
            "error_y": {
             "color": "#2a3f5f"
            },
            "marker": {
             "line": {
              "color": "#E5ECF6",
              "width": 0.5
             }
            },
            "type": "bar"
           }
          ],
          "barpolar": [
           {
            "marker": {
             "line": {
              "color": "#E5ECF6",
              "width": 0.5
             }
            },
            "type": "barpolar"
           }
          ],
          "carpet": [
           {
            "aaxis": {
             "endlinecolor": "#2a3f5f",
             "gridcolor": "white",
             "linecolor": "white",
             "minorgridcolor": "white",
             "startlinecolor": "#2a3f5f"
            },
            "baxis": {
             "endlinecolor": "#2a3f5f",
             "gridcolor": "white",
             "linecolor": "white",
             "minorgridcolor": "white",
             "startlinecolor": "#2a3f5f"
            },
            "type": "carpet"
           }
          ],
          "choropleth": [
           {
            "colorbar": {
             "outlinewidth": 0,
             "ticks": ""
            },
            "type": "choropleth"
           }
          ],
          "contour": [
           {
            "colorbar": {
             "outlinewidth": 0,
             "ticks": ""
            },
            "colorscale": [
             [
              0,
              "#0d0887"
             ],
             [
              0.1111111111111111,
              "#46039f"
             ],
             [
              0.2222222222222222,
              "#7201a8"
             ],
             [
              0.3333333333333333,
              "#9c179e"
             ],
             [
              0.4444444444444444,
              "#bd3786"
             ],
             [
              0.5555555555555556,
              "#d8576b"
             ],
             [
              0.6666666666666666,
              "#ed7953"
             ],
             [
              0.7777777777777778,
              "#fb9f3a"
             ],
             [
              0.8888888888888888,
              "#fdca26"
             ],
             [
              1,
              "#f0f921"
             ]
            ],
            "type": "contour"
           }
          ],
          "contourcarpet": [
           {
            "colorbar": {
             "outlinewidth": 0,
             "ticks": ""
            },
            "type": "contourcarpet"
           }
          ],
          "heatmap": [
           {
            "colorbar": {
             "outlinewidth": 0,
             "ticks": ""
            },
            "colorscale": [
             [
              0,
              "#0d0887"
             ],
             [
              0.1111111111111111,
              "#46039f"
             ],
             [
              0.2222222222222222,
              "#7201a8"
             ],
             [
              0.3333333333333333,
              "#9c179e"
             ],
             [
              0.4444444444444444,
              "#bd3786"
             ],
             [
              0.5555555555555556,
              "#d8576b"
             ],
             [
              0.6666666666666666,
              "#ed7953"
             ],
             [
              0.7777777777777778,
              "#fb9f3a"
             ],
             [
              0.8888888888888888,
              "#fdca26"
             ],
             [
              1,
              "#f0f921"
             ]
            ],
            "type": "heatmap"
           }
          ],
          "heatmapgl": [
           {
            "colorbar": {
             "outlinewidth": 0,
             "ticks": ""
            },
            "colorscale": [
             [
              0,
              "#0d0887"
             ],
             [
              0.1111111111111111,
              "#46039f"
             ],
             [
              0.2222222222222222,
              "#7201a8"
             ],
             [
              0.3333333333333333,
              "#9c179e"
             ],
             [
              0.4444444444444444,
              "#bd3786"
             ],
             [
              0.5555555555555556,
              "#d8576b"
             ],
             [
              0.6666666666666666,
              "#ed7953"
             ],
             [
              0.7777777777777778,
              "#fb9f3a"
             ],
             [
              0.8888888888888888,
              "#fdca26"
             ],
             [
              1,
              "#f0f921"
             ]
            ],
            "type": "heatmapgl"
           }
          ],
          "histogram": [
           {
            "marker": {
             "colorbar": {
              "outlinewidth": 0,
              "ticks": ""
             }
            },
            "type": "histogram"
           }
          ],
          "histogram2d": [
           {
            "colorbar": {
             "outlinewidth": 0,
             "ticks": ""
            },
            "colorscale": [
             [
              0,
              "#0d0887"
             ],
             [
              0.1111111111111111,
              "#46039f"
             ],
             [
              0.2222222222222222,
              "#7201a8"
             ],
             [
              0.3333333333333333,
              "#9c179e"
             ],
             [
              0.4444444444444444,
              "#bd3786"
             ],
             [
              0.5555555555555556,
              "#d8576b"
             ],
             [
              0.6666666666666666,
              "#ed7953"
             ],
             [
              0.7777777777777778,
              "#fb9f3a"
             ],
             [
              0.8888888888888888,
              "#fdca26"
             ],
             [
              1,
              "#f0f921"
             ]
            ],
            "type": "histogram2d"
           }
          ],
          "histogram2dcontour": [
           {
            "colorbar": {
             "outlinewidth": 0,
             "ticks": ""
            },
            "colorscale": [
             [
              0,
              "#0d0887"
             ],
             [
              0.1111111111111111,
              "#46039f"
             ],
             [
              0.2222222222222222,
              "#7201a8"
             ],
             [
              0.3333333333333333,
              "#9c179e"
             ],
             [
              0.4444444444444444,
              "#bd3786"
             ],
             [
              0.5555555555555556,
              "#d8576b"
             ],
             [
              0.6666666666666666,
              "#ed7953"
             ],
             [
              0.7777777777777778,
              "#fb9f3a"
             ],
             [
              0.8888888888888888,
              "#fdca26"
             ],
             [
              1,
              "#f0f921"
             ]
            ],
            "type": "histogram2dcontour"
           }
          ],
          "mesh3d": [
           {
            "colorbar": {
             "outlinewidth": 0,
             "ticks": ""
            },
            "type": "mesh3d"
           }
          ],
          "parcoords": [
           {
            "line": {
             "colorbar": {
              "outlinewidth": 0,
              "ticks": ""
             }
            },
            "type": "parcoords"
           }
          ],
          "pie": [
           {
            "automargin": true,
            "type": "pie"
           }
          ],
          "scatter": [
           {
            "marker": {
             "colorbar": {
              "outlinewidth": 0,
              "ticks": ""
             }
            },
            "type": "scatter"
           }
          ],
          "scatter3d": [
           {
            "line": {
             "colorbar": {
              "outlinewidth": 0,
              "ticks": ""
             }
            },
            "marker": {
             "colorbar": {
              "outlinewidth": 0,
              "ticks": ""
             }
            },
            "type": "scatter3d"
           }
          ],
          "scattercarpet": [
           {
            "marker": {
             "colorbar": {
              "outlinewidth": 0,
              "ticks": ""
             }
            },
            "type": "scattercarpet"
           }
          ],
          "scattergeo": [
           {
            "marker": {
             "colorbar": {
              "outlinewidth": 0,
              "ticks": ""
             }
            },
            "type": "scattergeo"
           }
          ],
          "scattergl": [
           {
            "marker": {
             "colorbar": {
              "outlinewidth": 0,
              "ticks": ""
             }
            },
            "type": "scattergl"
           }
          ],
          "scattermapbox": [
           {
            "marker": {
             "colorbar": {
              "outlinewidth": 0,
              "ticks": ""
             }
            },
            "type": "scattermapbox"
           }
          ],
          "scatterpolar": [
           {
            "marker": {
             "colorbar": {
              "outlinewidth": 0,
              "ticks": ""
             }
            },
            "type": "scatterpolar"
           }
          ],
          "scatterpolargl": [
           {
            "marker": {
             "colorbar": {
              "outlinewidth": 0,
              "ticks": ""
             }
            },
            "type": "scatterpolargl"
           }
          ],
          "scatterternary": [
           {
            "marker": {
             "colorbar": {
              "outlinewidth": 0,
              "ticks": ""
             }
            },
            "type": "scatterternary"
           }
          ],
          "surface": [
           {
            "colorbar": {
             "outlinewidth": 0,
             "ticks": ""
            },
            "colorscale": [
             [
              0,
              "#0d0887"
             ],
             [
              0.1111111111111111,
              "#46039f"
             ],
             [
              0.2222222222222222,
              "#7201a8"
             ],
             [
              0.3333333333333333,
              "#9c179e"
             ],
             [
              0.4444444444444444,
              "#bd3786"
             ],
             [
              0.5555555555555556,
              "#d8576b"
             ],
             [
              0.6666666666666666,
              "#ed7953"
             ],
             [
              0.7777777777777778,
              "#fb9f3a"
             ],
             [
              0.8888888888888888,
              "#fdca26"
             ],
             [
              1,
              "#f0f921"
             ]
            ],
            "type": "surface"
           }
          ],
          "table": [
           {
            "cells": {
             "fill": {
              "color": "#EBF0F8"
             },
             "line": {
              "color": "white"
             }
            },
            "header": {
             "fill": {
              "color": "#C8D4E3"
             },
             "line": {
              "color": "white"
             }
            },
            "type": "table"
           }
          ]
         },
         "layout": {
          "annotationdefaults": {
           "arrowcolor": "#2a3f5f",
           "arrowhead": 0,
           "arrowwidth": 1
          },
          "coloraxis": {
           "colorbar": {
            "outlinewidth": 0,
            "ticks": ""
           }
          },
          "colorscale": {
           "diverging": [
            [
             0,
             "#8e0152"
            ],
            [
             0.1,
             "#c51b7d"
            ],
            [
             0.2,
             "#de77ae"
            ],
            [
             0.3,
             "#f1b6da"
            ],
            [
             0.4,
             "#fde0ef"
            ],
            [
             0.5,
             "#f7f7f7"
            ],
            [
             0.6,
             "#e6f5d0"
            ],
            [
             0.7,
             "#b8e186"
            ],
            [
             0.8,
             "#7fbc41"
            ],
            [
             0.9,
             "#4d9221"
            ],
            [
             1,
             "#276419"
            ]
           ],
           "sequential": [
            [
             0,
             "#0d0887"
            ],
            [
             0.1111111111111111,
             "#46039f"
            ],
            [
             0.2222222222222222,
             "#7201a8"
            ],
            [
             0.3333333333333333,
             "#9c179e"
            ],
            [
             0.4444444444444444,
             "#bd3786"
            ],
            [
             0.5555555555555556,
             "#d8576b"
            ],
            [
             0.6666666666666666,
             "#ed7953"
            ],
            [
             0.7777777777777778,
             "#fb9f3a"
            ],
            [
             0.8888888888888888,
             "#fdca26"
            ],
            [
             1,
             "#f0f921"
            ]
           ],
           "sequentialminus": [
            [
             0,
             "#0d0887"
            ],
            [
             0.1111111111111111,
             "#46039f"
            ],
            [
             0.2222222222222222,
             "#7201a8"
            ],
            [
             0.3333333333333333,
             "#9c179e"
            ],
            [
             0.4444444444444444,
             "#bd3786"
            ],
            [
             0.5555555555555556,
             "#d8576b"
            ],
            [
             0.6666666666666666,
             "#ed7953"
            ],
            [
             0.7777777777777778,
             "#fb9f3a"
            ],
            [
             0.8888888888888888,
             "#fdca26"
            ],
            [
             1,
             "#f0f921"
            ]
           ]
          },
          "colorway": [
           "#636efa",
           "#EF553B",
           "#00cc96",
           "#ab63fa",
           "#FFA15A",
           "#19d3f3",
           "#FF6692",
           "#B6E880",
           "#FF97FF",
           "#FECB52"
          ],
          "font": {
           "color": "#2a3f5f"
          },
          "geo": {
           "bgcolor": "white",
           "lakecolor": "white",
           "landcolor": "#E5ECF6",
           "showlakes": true,
           "showland": true,
           "subunitcolor": "white"
          },
          "hoverlabel": {
           "align": "left"
          },
          "hovermode": "closest",
          "mapbox": {
           "style": "light"
          },
          "paper_bgcolor": "white",
          "plot_bgcolor": "#E5ECF6",
          "polar": {
           "angularaxis": {
            "gridcolor": "white",
            "linecolor": "white",
            "ticks": ""
           },
           "bgcolor": "#E5ECF6",
           "radialaxis": {
            "gridcolor": "white",
            "linecolor": "white",
            "ticks": ""
           }
          },
          "scene": {
           "xaxis": {
            "backgroundcolor": "#E5ECF6",
            "gridcolor": "white",
            "gridwidth": 2,
            "linecolor": "white",
            "showbackground": true,
            "ticks": "",
            "zerolinecolor": "white"
           },
           "yaxis": {
            "backgroundcolor": "#E5ECF6",
            "gridcolor": "white",
            "gridwidth": 2,
            "linecolor": "white",
            "showbackground": true,
            "ticks": "",
            "zerolinecolor": "white"
           },
           "zaxis": {
            "backgroundcolor": "#E5ECF6",
            "gridcolor": "white",
            "gridwidth": 2,
            "linecolor": "white",
            "showbackground": true,
            "ticks": "",
            "zerolinecolor": "white"
           }
          },
          "shapedefaults": {
           "line": {
            "color": "#2a3f5f"
           }
          },
          "ternary": {
           "aaxis": {
            "gridcolor": "white",
            "linecolor": "white",
            "ticks": ""
           },
           "baxis": {
            "gridcolor": "white",
            "linecolor": "white",
            "ticks": ""
           },
           "bgcolor": "#E5ECF6",
           "caxis": {
            "gridcolor": "white",
            "linecolor": "white",
            "ticks": ""
           }
          },
          "title": {
           "x": 0.05
          },
          "xaxis": {
           "automargin": true,
           "gridcolor": "white",
           "linecolor": "white",
           "ticks": "",
           "title": {
            "standoff": 15
           },
           "zerolinecolor": "white",
           "zerolinewidth": 2
          },
          "yaxis": {
           "automargin": true,
           "gridcolor": "white",
           "linecolor": "white",
           "ticks": "",
           "title": {
            "standoff": 15
           },
           "zerolinecolor": "white",
           "zerolinewidth": 2
          }
         }
        },
        "xaxis": {
         "title": {
          "text": "Difference between actual and predicted"
         }
        },
        "yaxis": {
         "title": {
          "text": "Accuracy"
         }
        }
       }
      },
      "text/html": [
       "<div>\n",
       "        \n",
       "        \n",
       "            <div id=\"abcd60bf-134f-4f15-b3c0-7e40eb6c18a2\" class=\"plotly-graph-div\" style=\"height:525px; width:100%;\"></div>\n",
       "            <script type=\"text/javascript\">\n",
       "                require([\"plotly\"], function(Plotly) {\n",
       "                    window.PLOTLYENV=window.PLOTLYENV || {};\n",
       "                    \n",
       "                if (document.getElementById(\"abcd60bf-134f-4f15-b3c0-7e40eb6c18a2\")) {\n",
       "                    Plotly.newPlot(\n",
       "                        'abcd60bf-134f-4f15-b3c0-7e40eb6c18a2',\n",
       "                        [{\"name\": \"Linear Regression\", \"type\": \"bar\", \"x\": [\"0.0\", \"0.1\", \"0.2\"], \"y\": [0.13, 0.41, 0.59]}, {\"name\": \"Decision Trees\", \"type\": \"bar\", \"x\": [\"0.0\", \"0.1\", \"0.2\"], \"y\": [0.75, 0.82, 0.87]}, {\"name\": \"Random Number generator\", \"type\": \"bar\", \"x\": [\"0.0\", \"0.1\", \"0.2\"], \"y\": [0.043, 0.11, 0.2]}],\n",
       "                        {\"barmode\": \"group\", \"template\": {\"data\": {\"bar\": [{\"error_x\": {\"color\": \"#2a3f5f\"}, \"error_y\": {\"color\": \"#2a3f5f\"}, \"marker\": {\"line\": {\"color\": \"#E5ECF6\", \"width\": 0.5}}, \"type\": \"bar\"}], \"barpolar\": [{\"marker\": {\"line\": {\"color\": \"#E5ECF6\", \"width\": 0.5}}, \"type\": \"barpolar\"}], \"carpet\": [{\"aaxis\": {\"endlinecolor\": \"#2a3f5f\", \"gridcolor\": \"white\", \"linecolor\": \"white\", \"minorgridcolor\": \"white\", \"startlinecolor\": \"#2a3f5f\"}, \"baxis\": {\"endlinecolor\": \"#2a3f5f\", \"gridcolor\": \"white\", \"linecolor\": \"white\", \"minorgridcolor\": \"white\", \"startlinecolor\": \"#2a3f5f\"}, \"type\": \"carpet\"}], \"choropleth\": [{\"colorbar\": {\"outlinewidth\": 0, \"ticks\": \"\"}, \"type\": \"choropleth\"}], \"contour\": [{\"colorbar\": {\"outlinewidth\": 0, \"ticks\": \"\"}, \"colorscale\": [[0.0, \"#0d0887\"], [0.1111111111111111, \"#46039f\"], [0.2222222222222222, \"#7201a8\"], [0.3333333333333333, \"#9c179e\"], [0.4444444444444444, \"#bd3786\"], [0.5555555555555556, \"#d8576b\"], [0.6666666666666666, \"#ed7953\"], [0.7777777777777778, \"#fb9f3a\"], [0.8888888888888888, \"#fdca26\"], [1.0, \"#f0f921\"]], \"type\": \"contour\"}], \"contourcarpet\": [{\"colorbar\": {\"outlinewidth\": 0, \"ticks\": \"\"}, \"type\": \"contourcarpet\"}], \"heatmap\": [{\"colorbar\": {\"outlinewidth\": 0, \"ticks\": \"\"}, \"colorscale\": [[0.0, \"#0d0887\"], [0.1111111111111111, \"#46039f\"], [0.2222222222222222, \"#7201a8\"], [0.3333333333333333, \"#9c179e\"], [0.4444444444444444, \"#bd3786\"], [0.5555555555555556, \"#d8576b\"], [0.6666666666666666, \"#ed7953\"], [0.7777777777777778, \"#fb9f3a\"], [0.8888888888888888, \"#fdca26\"], [1.0, \"#f0f921\"]], \"type\": \"heatmap\"}], \"heatmapgl\": [{\"colorbar\": {\"outlinewidth\": 0, \"ticks\": \"\"}, \"colorscale\": [[0.0, \"#0d0887\"], [0.1111111111111111, \"#46039f\"], [0.2222222222222222, \"#7201a8\"], [0.3333333333333333, \"#9c179e\"], [0.4444444444444444, \"#bd3786\"], [0.5555555555555556, \"#d8576b\"], [0.6666666666666666, \"#ed7953\"], [0.7777777777777778, \"#fb9f3a\"], [0.8888888888888888, \"#fdca26\"], [1.0, \"#f0f921\"]], \"type\": \"heatmapgl\"}], \"histogram\": [{\"marker\": {\"colorbar\": {\"outlinewidth\": 0, \"ticks\": \"\"}}, \"type\": \"histogram\"}], \"histogram2d\": [{\"colorbar\": {\"outlinewidth\": 0, \"ticks\": \"\"}, \"colorscale\": [[0.0, \"#0d0887\"], [0.1111111111111111, \"#46039f\"], [0.2222222222222222, \"#7201a8\"], [0.3333333333333333, \"#9c179e\"], [0.4444444444444444, \"#bd3786\"], [0.5555555555555556, \"#d8576b\"], [0.6666666666666666, \"#ed7953\"], [0.7777777777777778, \"#fb9f3a\"], [0.8888888888888888, \"#fdca26\"], [1.0, \"#f0f921\"]], \"type\": \"histogram2d\"}], \"histogram2dcontour\": [{\"colorbar\": {\"outlinewidth\": 0, \"ticks\": \"\"}, \"colorscale\": [[0.0, \"#0d0887\"], [0.1111111111111111, \"#46039f\"], [0.2222222222222222, \"#7201a8\"], [0.3333333333333333, \"#9c179e\"], [0.4444444444444444, \"#bd3786\"], [0.5555555555555556, \"#d8576b\"], [0.6666666666666666, \"#ed7953\"], [0.7777777777777778, \"#fb9f3a\"], [0.8888888888888888, \"#fdca26\"], [1.0, \"#f0f921\"]], \"type\": \"histogram2dcontour\"}], \"mesh3d\": [{\"colorbar\": {\"outlinewidth\": 0, \"ticks\": \"\"}, \"type\": \"mesh3d\"}], \"parcoords\": [{\"line\": {\"colorbar\": {\"outlinewidth\": 0, \"ticks\": \"\"}}, \"type\": \"parcoords\"}], \"pie\": [{\"automargin\": true, \"type\": \"pie\"}], \"scatter\": [{\"marker\": {\"colorbar\": {\"outlinewidth\": 0, \"ticks\": \"\"}}, \"type\": \"scatter\"}], \"scatter3d\": [{\"line\": {\"colorbar\": {\"outlinewidth\": 0, \"ticks\": \"\"}}, \"marker\": {\"colorbar\": {\"outlinewidth\": 0, \"ticks\": \"\"}}, \"type\": \"scatter3d\"}], \"scattercarpet\": [{\"marker\": {\"colorbar\": {\"outlinewidth\": 0, \"ticks\": \"\"}}, \"type\": \"scattercarpet\"}], \"scattergeo\": [{\"marker\": {\"colorbar\": {\"outlinewidth\": 0, \"ticks\": \"\"}}, \"type\": \"scattergeo\"}], \"scattergl\": [{\"marker\": {\"colorbar\": {\"outlinewidth\": 0, \"ticks\": \"\"}}, \"type\": \"scattergl\"}], \"scattermapbox\": [{\"marker\": {\"colorbar\": {\"outlinewidth\": 0, \"ticks\": \"\"}}, \"type\": \"scattermapbox\"}], \"scatterpolar\": [{\"marker\": {\"colorbar\": {\"outlinewidth\": 0, \"ticks\": \"\"}}, \"type\": \"scatterpolar\"}], \"scatterpolargl\": [{\"marker\": {\"colorbar\": {\"outlinewidth\": 0, \"ticks\": \"\"}}, \"type\": \"scatterpolargl\"}], \"scatterternary\": [{\"marker\": {\"colorbar\": {\"outlinewidth\": 0, \"ticks\": \"\"}}, \"type\": \"scatterternary\"}], \"surface\": [{\"colorbar\": {\"outlinewidth\": 0, \"ticks\": \"\"}, \"colorscale\": [[0.0, \"#0d0887\"], [0.1111111111111111, \"#46039f\"], [0.2222222222222222, \"#7201a8\"], [0.3333333333333333, \"#9c179e\"], [0.4444444444444444, \"#bd3786\"], [0.5555555555555556, \"#d8576b\"], [0.6666666666666666, \"#ed7953\"], [0.7777777777777778, \"#fb9f3a\"], [0.8888888888888888, \"#fdca26\"], [1.0, \"#f0f921\"]], \"type\": \"surface\"}], \"table\": [{\"cells\": {\"fill\": {\"color\": \"#EBF0F8\"}, \"line\": {\"color\": \"white\"}}, \"header\": {\"fill\": {\"color\": \"#C8D4E3\"}, \"line\": {\"color\": \"white\"}}, \"type\": \"table\"}]}, \"layout\": {\"annotationdefaults\": {\"arrowcolor\": \"#2a3f5f\", \"arrowhead\": 0, \"arrowwidth\": 1}, \"coloraxis\": {\"colorbar\": {\"outlinewidth\": 0, \"ticks\": \"\"}}, \"colorscale\": {\"diverging\": [[0, \"#8e0152\"], [0.1, \"#c51b7d\"], [0.2, \"#de77ae\"], [0.3, \"#f1b6da\"], [0.4, \"#fde0ef\"], [0.5, \"#f7f7f7\"], [0.6, \"#e6f5d0\"], [0.7, \"#b8e186\"], [0.8, \"#7fbc41\"], [0.9, \"#4d9221\"], [1, \"#276419\"]], \"sequential\": [[0.0, \"#0d0887\"], [0.1111111111111111, \"#46039f\"], [0.2222222222222222, \"#7201a8\"], [0.3333333333333333, \"#9c179e\"], [0.4444444444444444, \"#bd3786\"], [0.5555555555555556, \"#d8576b\"], [0.6666666666666666, \"#ed7953\"], [0.7777777777777778, \"#fb9f3a\"], [0.8888888888888888, \"#fdca26\"], [1.0, \"#f0f921\"]], \"sequentialminus\": [[0.0, \"#0d0887\"], [0.1111111111111111, \"#46039f\"], [0.2222222222222222, \"#7201a8\"], [0.3333333333333333, \"#9c179e\"], [0.4444444444444444, \"#bd3786\"], [0.5555555555555556, \"#d8576b\"], [0.6666666666666666, \"#ed7953\"], [0.7777777777777778, \"#fb9f3a\"], [0.8888888888888888, \"#fdca26\"], [1.0, \"#f0f921\"]]}, \"colorway\": [\"#636efa\", \"#EF553B\", \"#00cc96\", \"#ab63fa\", \"#FFA15A\", \"#19d3f3\", \"#FF6692\", \"#B6E880\", \"#FF97FF\", \"#FECB52\"], \"font\": {\"color\": \"#2a3f5f\"}, \"geo\": {\"bgcolor\": \"white\", \"lakecolor\": \"white\", \"landcolor\": \"#E5ECF6\", \"showlakes\": true, \"showland\": true, \"subunitcolor\": \"white\"}, \"hoverlabel\": {\"align\": \"left\"}, \"hovermode\": \"closest\", \"mapbox\": {\"style\": \"light\"}, \"paper_bgcolor\": \"white\", \"plot_bgcolor\": \"#E5ECF6\", \"polar\": {\"angularaxis\": {\"gridcolor\": \"white\", \"linecolor\": \"white\", \"ticks\": \"\"}, \"bgcolor\": \"#E5ECF6\", \"radialaxis\": {\"gridcolor\": \"white\", \"linecolor\": \"white\", \"ticks\": \"\"}}, \"scene\": {\"xaxis\": {\"backgroundcolor\": \"#E5ECF6\", \"gridcolor\": \"white\", \"gridwidth\": 2, \"linecolor\": \"white\", \"showbackground\": true, \"ticks\": \"\", \"zerolinecolor\": \"white\"}, \"yaxis\": {\"backgroundcolor\": \"#E5ECF6\", \"gridcolor\": \"white\", \"gridwidth\": 2, \"linecolor\": \"white\", \"showbackground\": true, \"ticks\": \"\", \"zerolinecolor\": \"white\"}, \"zaxis\": {\"backgroundcolor\": \"#E5ECF6\", \"gridcolor\": \"white\", \"gridwidth\": 2, \"linecolor\": \"white\", \"showbackground\": true, \"ticks\": \"\", \"zerolinecolor\": \"white\"}}, \"shapedefaults\": {\"line\": {\"color\": \"#2a3f5f\"}}, \"ternary\": {\"aaxis\": {\"gridcolor\": \"white\", \"linecolor\": \"white\", \"ticks\": \"\"}, \"baxis\": {\"gridcolor\": \"white\", \"linecolor\": \"white\", \"ticks\": \"\"}, \"bgcolor\": \"#E5ECF6\", \"caxis\": {\"gridcolor\": \"white\", \"linecolor\": \"white\", \"ticks\": \"\"}}, \"title\": {\"x\": 0.05}, \"xaxis\": {\"automargin\": true, \"gridcolor\": \"white\", \"linecolor\": \"white\", \"ticks\": \"\", \"title\": {\"standoff\": 15}, \"zerolinecolor\": \"white\", \"zerolinewidth\": 2}, \"yaxis\": {\"automargin\": true, \"gridcolor\": \"white\", \"linecolor\": \"white\", \"ticks\": \"\", \"title\": {\"standoff\": 15}, \"zerolinecolor\": \"white\", \"zerolinewidth\": 2}}}, \"xaxis\": {\"title\": {\"text\": \"Difference between actual and predicted\"}}, \"yaxis\": {\"title\": {\"text\": \"Accuracy\"}}},\n",
       "                        {\"responsive\": true}\n",
       "                    ).then(function(){\n",
       "                            \n",
       "var gd = document.getElementById('abcd60bf-134f-4f15-b3c0-7e40eb6c18a2');\n",
       "var x = new MutationObserver(function (mutations, observer) {{\n",
       "        var display = window.getComputedStyle(gd).display;\n",
       "        if (!display || display === 'none') {{\n",
       "            console.log([gd, 'removed!']);\n",
       "            Plotly.purge(gd);\n",
       "            observer.disconnect();\n",
       "        }}\n",
       "}});\n",
       "\n",
       "// Listen for the removal of the full notebook cells\n",
       "var notebookContainer = gd.closest('#notebook-container');\n",
       "if (notebookContainer) {{\n",
       "    x.observe(notebookContainer, {childList: true});\n",
       "}}\n",
       "\n",
       "// Listen for the clearing of the current output cell\n",
       "var outputEl = gd.closest('.output');\n",
       "if (outputEl) {{\n",
       "    x.observe(outputEl, {childList: true});\n",
       "}}\n",
       "\n",
       "                        })\n",
       "                };\n",
       "                });\n",
       "            </script>\n",
       "        </div>"
      ]
     },
     "metadata": {},
     "output_type": "display_data"
    }
   ],
   "source": [
    "# random number genetator model round(random.uniform(0.25,0.5),2)*10\n",
    "diff=['0.0', '0.1', '0.2']\n",
    "\n",
    "fig = go.Figure(data=[go.Bar(name='Linear Regression', x=diff, y=[0.13,0.41,0.59]),\n",
    "    go.Bar(name='Decision Trees', x=diff, y=[0.75,0.82,0.87]),\n",
    "    go.Bar(name='Random Number generator', x=diff, y=[0.043, 0.11, 0.20])\n",
    "])\n",
    "# Change the bar mode\n",
    "fig.update_xaxes(title_text='Difference between actual and predicted')\n",
    "fig.update_yaxes(title_text='Accuracy')\n",
    "fig.update_layout(barmode='group')\n",
    "fig.show()"
   ]
  },
  {
   "cell_type": "code",
   "execution_count": 99,
   "metadata": {},
   "outputs": [],
   "source": [
    "feature_group = FeatureGroup(name='North Indian')\n",
    "feature_group2 = FeatureGroup(name='Cafe')\n",
    "feature_group3 = FeatureGroup(name='South Indian')\n",
    "feature_group4 = FeatureGroup(name='Desserts')\n",
    "feature_group5 = FeatureGroup(name='Chinese')"
   ]
  },
  {
   "cell_type": "code",
   "execution_count": 100,
   "metadata": {},
   "outputs": [
    {
     "data": {
      "text/html": [
       "<div style=\"width:100%;\"><div style=\"position:relative;width:100%;height:0;padding-bottom:60%;\"><iframe src=\"data:text/html;charset=utf-8;base64,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\" style=\"position:absolute;width:100%;height:100%;left:0;top:0;border:none !important;\" allowfullscreen webkitallowfullscreen mozallowfullscreen></iframe></div></div>"
      ],
      "text/plain": [
       "<folium.folium.Map at 0x7fe685e35550>"
      ]
     },
     "execution_count": 100,
     "metadata": {},
     "output_type": "execute_result"
    }
   ],
   "source": [
    "map_hooray = folium.Map(location=[12.9716,77.5946],\n",
    "                        tiles = \"OpenStreetMap\",\n",
    "                        zoom_start = 12.4)\n",
    "colors = {'North Indian':'red','South Indian':'blue','Desserts':'brown','Chinese':'black','Cafe':'green'}\n",
    "for row in result.iterrows():\n",
    "    if(row[1][5] == 'North Indian'):\n",
    "        folium.CircleMarker([float(row[1][1]),float(row[1][2])],\n",
    "                        radius=5,\n",
    "                        popup=\"loc:\"+row[1][0]+\"\\ncuisine:\"+row[1][5],\n",
    "                        color=colors[row[1][5]],\n",
    "                        fill = True,\n",
    "                        ).add_to(feature_group)\n",
    "    if(row[1][5] == 'Cafe'):\n",
    "        folium.CircleMarker([float(row[1][1]),float(row[1][2])],\n",
    "                        radius=5,\n",
    "                        popup=\"loc:\"+row[1][0]+\"\\ncuisine:\"+row[1][5],\n",
    "                        color=colors[row[1][5]],\n",
    "                        fill = True,\n",
    "                        ).add_to(feature_group2)\n",
    "    if(row[1][5] == 'South Indian'):\n",
    "        folium.CircleMarker([float(row[1][1]),float(row[1][2])],\n",
    "                        radius=5,\n",
    "                        popup=\"loc:\"+row[1][0]+\"\\ncuisine:\"+row[1][5],\n",
    "                        color=colors[row[1][5]],\n",
    "                        fill = True,\n",
    "                        ).add_to(feature_group3)\n",
    "    if(row[1][5] == 'Desserts'):\n",
    "        folium.CircleMarker([float(row[1][1]),float(row[1][2])],\n",
    "                        radius=5,\n",
    "                        popup=\"loc:\"+row[1][0]+\"\\ncuisine:\"+row[1][5],\n",
    "                        color=colors[row[1][5]],\n",
    "                        fill = True,\n",
    "                        ).add_to(feature_group4)\n",
    "    if(row[1][5] == 'Chinese'):\n",
    "        folium.CircleMarker([float(row[1][1]),float(row[1][2])],\n",
    "                        radius=5,\n",
    "                        popup=\"loc:\"+row[1][0]+\"\\ncuisine:\"+row[1][5],\n",
    "                        color=colors[row[1][5]],\n",
    "                        fill = True,\n",
    "                        ).add_to(feature_group5)\n",
    "\n",
    "map_hooray.add_child(feature_group)\n",
    "map_hooray.add_child(feature_group2)\n",
    "map_hooray.add_child(feature_group3)\n",
    "map_hooray.add_child(feature_group4)\n",
    "map_hooray.add_child(feature_group5)\n",
    "map_hooray.add_child(folium.map.LayerControl('topright', collapsed=False))\n"
   ]
  },
  {
   "cell_type": "markdown",
   "metadata": {},
   "source": [
    "Possiable values for location are shown in the map\n",
    "eg: BTM, HSR, JP Nagar, Hennur etc."
   ]
  },
  {
   "cell_type": "code",
   "execution_count": 102,
   "metadata": {},
   "outputs": [
    {
     "name": "stdout",
     "output_type": "stream",
     "text": [
      "Enter Location: HSR\n",
      "Recommended:\n",
      "Price for two:1000\n",
      "Cuisine:North Indian\n",
      "Allow online order:No\n",
      "Allow Online Booking:Yes\n",
      "\n",
      "Expected rating 4.7\n"
     ]
    }
   ],
   "source": [
    "#Driver Code which recommeds optimal price for 2, Cuisine, Allow online order Allow online booking in order to maximize rating\n",
    "k = input(\"Enter Location: \")\n",
    "for i in infered_results:\n",
    "    if k == i[1][2]:\n",
    "        print(\"Recommended:\\nPrice for two:%s\\nCuisine:%s\\nAllow online order:%s\\nAllow Online Booking:%s\\n\"%(str(i[1][0]),i[1][1],i[1][3],i[1][4]))\n",
    "        print(\"Expected rating \"+str(i[0]))"
   ]
  },
  {
   "cell_type": "code",
   "execution_count": 103,
   "metadata": {},
   "outputs": [],
   "source": [
    "cus_d = {}\n",
    "for i in list(set(list(train_x['new_Cuisine1']))):\n",
    "    cus_d[cus_label[i]] = i\n",
    "    \n",
    "on_d = {}\n",
    "for i in list(set(list(train_x['new_online_order']))):\n",
    "    on_d[on_label[i]]=i\n",
    "\n",
    "book_d = {}\n",
    "for i in list(set(list(train_x['new_book_table']))):\n",
    "    book_d[book_label[i]]=i"
   ]
  },
  {
   "cell_type": "markdown",
   "metadata": {},
   "source": [
    "Possiable values for Cuisine : North Indian,Cafe,Continental,Chinese,Fast Food,South Indian,Desserts,Biryani\n",
    "Possiable values for online order,book table : Yes, No"
   ]
  },
  {
   "cell_type": "code",
   "execution_count": 104,
   "metadata": {},
   "outputs": [
    {
     "name": "stdout",
     "output_type": "stream",
     "text": [
      "Price for 2: \n"
     ]
    },
    {
     "ename": "ValueError",
     "evalue": "invalid literal for int() with base 10: ''",
     "output_type": "error",
     "traceback": [
      "\u001b[0;31m---------------------------------------------------------------------------\u001b[0m",
      "\u001b[0;31mValueError\u001b[0m                                Traceback (most recent call last)",
      "\u001b[0;32m<ipython-input-104-3739e350f061>\u001b[0m in \u001b[0;36m<module>\u001b[0;34m\u001b[0m\n\u001b[1;32m      1\u001b[0m \u001b[0;31m# Given optimal price for 2, Cuisine, Allow online order and book table suggest a location to maximize profit\u001b[0m\u001b[0;34m\u001b[0m\u001b[0;34m\u001b[0m\u001b[0;34m\u001b[0m\u001b[0m\n\u001b[0;32m----> 2\u001b[0;31m \u001b[0mp\u001b[0m \u001b[0;34m=\u001b[0m \u001b[0mint\u001b[0m\u001b[0;34m(\u001b[0m\u001b[0minput\u001b[0m\u001b[0;34m(\u001b[0m\u001b[0;34m\"Price for 2: \"\u001b[0m\u001b[0;34m)\u001b[0m\u001b[0;34m)\u001b[0m\u001b[0;34m\u001b[0m\u001b[0;34m\u001b[0m\u001b[0m\n\u001b[0m\u001b[1;32m      3\u001b[0m \u001b[0mc\u001b[0m \u001b[0;34m=\u001b[0m \u001b[0minput\u001b[0m\u001b[0;34m(\u001b[0m\u001b[0;34m\"Cuisine: \"\u001b[0m\u001b[0;34m)\u001b[0m\u001b[0;34m\u001b[0m\u001b[0;34m\u001b[0m\u001b[0m\n\u001b[1;32m      4\u001b[0m \u001b[0mo\u001b[0m \u001b[0;34m=\u001b[0m \u001b[0minput\u001b[0m\u001b[0;34m(\u001b[0m\u001b[0;34m\"Online: \"\u001b[0m\u001b[0;34m)\u001b[0m\u001b[0;34m\u001b[0m\u001b[0;34m\u001b[0m\u001b[0m\n\u001b[1;32m      5\u001b[0m \u001b[0mb\u001b[0m \u001b[0;34m=\u001b[0m \u001b[0minput\u001b[0m\u001b[0;34m(\u001b[0m\u001b[0;34m\"Booking: \"\u001b[0m\u001b[0;34m)\u001b[0m\u001b[0;34m\u001b[0m\u001b[0;34m\u001b[0m\u001b[0m\n",
      "\u001b[0;31mValueError\u001b[0m: invalid literal for int() with base 10: ''"
     ]
    }
   ],
   "source": [
    "# Given optimal price for 2, Cuisine, Allow online order and book table suggest a location to maximize profit\n",
    "p = int(input(\"Price for 2: \"))\n",
    "c = input(\"Cuisine: \")\n",
    "o = input(\"Online: \")\n",
    "b = input(\"Booking: \")\n",
    "\n",
    "c = cus_d[c]\n",
    "o = on_d[o]\n",
    "b = book_d[b]\n",
    "\n",
    "m = [0]\n",
    "for i in list(set(list(train_x['new_location']))):\n",
    "    try:\n",
    "        k = round(list(regressor.predict([[p,c,i,o,b]]))[0],2)\n",
    "        if k>m[0]:\n",
    "            m = [k]\n",
    "            m.append(([p,cus_label[int(c)],loc_label[int(i)],on_label[int(o)],book_label[int(b)]]))\n",
    "    except:\n",
    "        print(\"Model doesnt support inputs\")\n",
    "\n",
    "print(\"Suggested Location: \"+str(m[1][2]))\n",
    "print(\"Expected Rating \"+str(m[0]))"
   ]
  },
  {
   "cell_type": "code",
   "execution_count": null,
   "metadata": {},
   "outputs": [],
   "source": []
  }
 ],
 "metadata": {
  "kernelspec": {
   "display_name": "Python 3",
   "language": "python",
   "name": "python3"
  },
  "language_info": {
   "codemirror_mode": {
    "name": "ipython",
    "version": 3
   },
   "file_extension": ".py",
   "mimetype": "text/x-python",
   "name": "python",
   "nbconvert_exporter": "python",
   "pygments_lexer": "ipython3",
   "version": "3.7.3"
  }
 },
 "nbformat": 4,
 "nbformat_minor": 2
}
