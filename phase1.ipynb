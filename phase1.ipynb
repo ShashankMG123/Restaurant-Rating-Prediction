{
 "cells": [
  {
   "cell_type": "code",
   "execution_count": 1,
   "metadata": {},
   "outputs": [],
   "source": [
    "import pandas as pd\n",
    "import numpy as np\n",
    "import seaborn as sns\n",
    "import matplotlib.pyplot as plt\n",
    "import operator\n",
    "%matplotlib inline"
   ]
  },
  {
   "cell_type": "code",
   "execution_count": 2,
   "metadata": {},
   "outputs": [],
   "source": [
    "df = pd.read_csv(\"/home/hp/Desktop/College/Sem5/DA/Project/zomato-bangalore-restaurants/zomato.csv\")"
   ]
  },
  {
   "cell_type": "code",
   "execution_count": 3,
   "metadata": {},
   "outputs": [
    {
     "name": "stdout",
     "output_type": "stream",
     "text": [
      "['name' 'online_order' 'book_table' 'rate' 'location' 'rest_type'\n",
      " 'cuisines' 'approx_cost(for two people)' 'listed_in(type)']\n"
     ]
    }
   ],
   "source": [
    "to_drop = ['url',\n",
    "           'phone',\n",
    "           'address',\n",
    "           'dish_liked',\n",
    "           'reviews_list',\n",
    "           'menu_item',\n",
    "           'listed_in(city)',\n",
    "           'votes']\n",
    "df.drop(to_drop, inplace=True, axis=1)\n",
    "print(df.columns.values)"
   ]
  },
  {
   "cell_type": "code",
   "execution_count": 4,
   "metadata": {},
   "outputs": [],
   "source": [
    "#remove all , in the approx_cost(for two people) column\n",
    "df['approx_cost(for two people)'] = df['approx_cost(for two people)'].astype(str)\n",
    "df['approx_cost(for two people)'] = df['approx_cost(for two people)'].apply(lambda x:x.replace(',',''))\n",
    "df['approx_cost(for two people)'] = df['approx_cost(for two people)'].astype(float)"
   ]
  },
  {
   "cell_type": "code",
   "execution_count": 5,
   "metadata": {},
   "outputs": [],
   "source": [
    "#convert all num/5 from rating to just num\n",
    "df['rate'] = df['rate'].astype(str)\n",
    "df['rate'] = df['rate'].apply(lambda x:x.split('/')[0])\n",
    "# Dealing with instanced with 'NEW'\n",
    "df['rate'] = df['rate'].apply(lambda x: x.replace('NEW', str(np.nan)))\n",
    "df['rate'] = df['rate'].apply(lambda x: x.replace('-', str(np.nan)))\n",
    "df['rate'] = df['rate'].astype(float)"
   ]
  },
  {
   "cell_type": "code",
   "execution_count": 7,
   "metadata": {},
   "outputs": [
    {
     "data": {
      "image/png": "[encoded data removed]",
      "text/plain": [
       "<Figure size 864x360 with 1 Axes>"
      ]
     },
     "metadata": {},
     "output_type": "display_data"
    }
   ],
   "source": [
    "bangalore_rest = df.copy()\n",
    "sns.set(style='white', palette='muted', color_codes=True)\n",
    "fig, ax = plt.subplots(figsize=(12, 5))\n",
    "sns.despine(left=True)\n",
    "sns.distplot(bangalore_rest['rate'], bins=30, color='navy')\n",
    "ax.set_title(\"Restaurant's Rate Distribution\", size=14)\n",
    "ax.set_xlabel('Restaurant Rate')\n",
    "plt.setp(ax, yticks=[])\n",
    "plt.show()"
   ]
  },
  {
   "cell_type": "code",
   "execution_count": 8,
   "metadata": {},
   "outputs": [
    {
     "data": {
      "text/plain": [
       "name                               0\n",
       "online_order                       0\n",
       "book_table                         0\n",
       "rate                           10052\n",
       "location                          21\n",
       "rest_type                        227\n",
       "cuisines                          45\n",
       "approx_cost(for two people)      346\n",
       "listed_in(type)                    0\n",
       "dtype: int64"
      ]
     },
     "execution_count": 8,
     "metadata": {},
     "output_type": "execute_result"
    }
   ],
   "source": [
    "bangalore_rest = df.copy()\n",
    "bangalore_rest.isnull().sum()\n",
    "\n",
    "#Need to handle missing data\n",
    "#As there are a lot missing values for column rate we cannot drop it.\n",
    "#we propose a solution by predicting the rating of these missing values by using KNN\n",
    "#This is a temprovary solution based on the performance final approach might change\n"
   ]
  },
  {
   "cell_type": "code",
   "execution_count": 9,
   "metadata": {},
   "outputs": [
    {
     "name": "stdout",
     "output_type": "stream",
     "text": [
      "name\n",
      "online_order\n",
      "book_table\n",
      "rate\n",
      "location\n",
      "rest_type\n",
      "cuisines\n",
      "approx_cost(for two people)\n",
      "listed_in(type)\n"
     ]
    }
   ],
   "source": [
    "#Too many cusines group them based on the frequency of the cusines as a whole\n",
    "#If there are multiple cuisines are present pick 2 with most frequency\n",
    "popular_cusines = dict()\n",
    "for j in bangalore_rest['cuisines']:\n",
    "    for i in str(j).split(','):\n",
    "        i = i.strip()\n",
    "        if i not in popular_cusines:\n",
    "            popular_cusines[i] = 1\n",
    "        else:\n",
    "            popular_cusines[i] = popular_cusines[i] + 1\n",
    "#print(sorted(popular_cusines.items(), key=operator.itemgetter(1))[::-1])\n",
    "#drop all cuisines with less than 500 frequency\n",
    "\n",
    "cuisines_todel = []\n",
    "for i in popular_cusines:\n",
    "    if popular_cusines[i] < 500:\n",
    "        cuisines_todel.append(i)\n",
    "\n",
    "for i in bangalore_rest:\n",
    "    print(i)"
   ]
  }
 ],
 "metadata": {
  "kernelspec": {
   "display_name": "Python 3",
   "language": "python",
   "name": "python3"
  },
  "language_info": {
   "codemirror_mode": {
    "name": "ipython",
    "version": 3
   },
   "file_extension": ".py",
   "mimetype": "text/x-python",
   "name": "python",
   "nbconvert_exporter": "python",
   "pygments_lexer": "ipython3",
   "version": "3.7.3"
  }
 },
 "nbformat": 4,
 "nbformat_minor": 2
}
